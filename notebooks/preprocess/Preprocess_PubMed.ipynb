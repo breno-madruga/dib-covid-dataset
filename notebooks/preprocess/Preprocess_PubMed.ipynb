{
 "cells": [
  {
   "cell_type": "markdown",
   "metadata": {},
   "source": [
    "# Cleaning and Preprocessing the PubMed publications related to COVID-19"
   ]
  },
  {
   "cell_type": "markdown",
   "metadata": {},
   "source": [
    "For collecting the PubMed publications related to COVID-19, we used the \"pymed\" library. It is avaliable on https://pypi.org/project/pymed/."
   ]
  },
  {
   "cell_type": "code",
   "execution_count": 1,
   "metadata": {},
   "outputs": [],
   "source": [
    "# Uncomment to install the library.\n",
    "# %pip install pylatexenc"
   ]
  },
  {
   "cell_type": "code",
   "execution_count": 2,
   "metadata": {},
   "outputs": [],
   "source": [
    "# Importing the required libraries.\n",
    "import re, csv, pandas as pd, numpy as np\n",
    "from pylatexenc.latex2text import LatexNodes2Text"
   ]
  },
  {
   "cell_type": "markdown",
   "metadata": {},
   "source": [
    "## 1. Generating the dataframe from the raw data"
   ]
  },
  {
   "cell_type": "code",
   "execution_count": 3,
   "metadata": {},
   "outputs": [],
   "source": [
    "# Creating a dataframe from the raw data.\n",
    "df_data = pd.read_csv(\"../../data/raw/pubmed_raw.csv\", header=0, dtype=object)"
   ]
  },
  {
   "cell_type": "code",
   "execution_count": 4,
   "metadata": {},
   "outputs": [
    {
     "data": {
      "text/html": "<div>\n<style scoped>\n    .dataframe tbody tr th:only-of-type {\n        vertical-align: middle;\n    }\n\n    .dataframe tbody tr th {\n        vertical-align: top;\n    }\n\n    .dataframe thead th {\n        text-align: right;\n    }\n</style>\n<table border=\"1\" class=\"dataframe\">\n  <thead>\n    <tr style=\"text-align: right;\">\n      <th></th>\n      <th>pubmed_id</th>\n      <th>title</th>\n      <th>abstract</th>\n      <th>keywords</th>\n      <th>journal</th>\n      <th>publication_date</th>\n      <th>authors</th>\n      <th>methods</th>\n      <th>conclusions</th>\n      <th>results</th>\n      <th>copyrights</th>\n      <th>doi</th>\n      <th>xml</th>\n      <th>isbn</th>\n      <th>language</th>\n      <th>publication_type</th>\n      <th>sections</th>\n      <th>publisher</th>\n      <th>publisher_location</th>\n    </tr>\n  </thead>\n  <tbody>\n    <tr>\n      <th>0</th>\n      <td>33668070</td>\n      <td>Expression of Surfactant protein D (SP-D) dist...</td>\n      <td>The differentiation of influenza and COVID-19 ...</td>\n      <td>['COVID-19', 'SARS-CoV-2', 'acute respiratory ...</td>\n      <td>The Journal of infectious diseases</td>\n      <td>2021-03-06</td>\n      <td>[{'lastname': 'Choreño-Parra', 'firstname': 'J...</td>\n      <td>NaN</td>\n      <td>NaN</td>\n      <td>NaN</td>\n      <td>© The Author(s) 2021. Published by Oxford Univ...</td>\n      <td>10.1093/infdis/jiab113</td>\n      <td>&lt;Element 'PubmedArticle' at 0x7efeff4e9720&gt;</td>\n      <td>NaN</td>\n      <td>NaN</td>\n      <td>NaN</td>\n      <td>NaN</td>\n      <td>NaN</td>\n      <td>NaN</td>\n    </tr>\n    <tr>\n      <th>1</th>\n      <td>33668060</td>\n      <td>A million-dose success for Nepal: insights fro...</td>\n      <td>NaN</td>\n      <td>['Astra-Zeneca COVID-19 vaccine', 'SARS-CoV-2'...</td>\n      <td>Journal of travel medicine</td>\n      <td>2021-03-06</td>\n      <td>[{'lastname': 'Bhattarai', 'firstname': 'Suraj...</td>\n      <td>NaN</td>\n      <td>NaN</td>\n      <td>NaN</td>\n      <td>NaN</td>\n      <td>10.1093/jtm/taab027</td>\n      <td>&lt;Element 'PubmedArticle' at 0x7efed2b4c6d0&gt;</td>\n      <td>NaN</td>\n      <td>NaN</td>\n      <td>NaN</td>\n      <td>NaN</td>\n      <td>NaN</td>\n      <td>NaN</td>\n    </tr>\n    <tr>\n      <th>2</th>\n      <td>33668011</td>\n      <td>Current smoking and SARS-CoV-2 infection: find...</td>\n      <td>Several studies reported a low prevalence of c...</td>\n      <td>[]</td>\n      <td>JMIR public health and surveillance</td>\n      <td>2021-03-06</td>\n      <td>[{'lastname': 'Prinelli', 'firstname': 'Federi...</td>\n      <td>NaN</td>\n      <td>NaN</td>\n      <td>Out of the 6857 individuals (mean age 47.9 yea...</td>\n      <td>NaN</td>\n      <td>10.2196/27091</td>\n      <td>&lt;Element 'PubmedArticle' at 0x7efed2b54810&gt;</td>\n      <td>NaN</td>\n      <td>NaN</td>\n      <td>NaN</td>\n      <td>NaN</td>\n      <td>NaN</td>\n      <td>NaN</td>\n    </tr>\n    <tr>\n      <th>3</th>\n      <td>33668003</td>\n      <td>The prognostic value of elevated creatine kina...</td>\n      <td>Creatine kinase (CK), a marker of muscle damag...</td>\n      <td>['Coronavirus', 'Creatine kinase', 'Mortality'...</td>\n      <td>Diabetes &amp; metabolic syndrome</td>\n      <td>2021-03-06</td>\n      <td>[{'lastname': 'Akbar', 'firstname': 'Mohammad ...</td>\n      <td>NaN</td>\n      <td>Elevated CK was associated with increased mort...</td>\n      <td>There are 2471 patients from 14 studies includ...</td>\n      <td>Copyright © 2021. Published by Elsevier Ltd.</td>\n      <td>10.1016/j.dsx.2021.02.012</td>\n      <td>&lt;Element 'PubmedArticle' at 0x7efed26e3180&gt;</td>\n      <td>NaN</td>\n      <td>NaN</td>\n      <td>NaN</td>\n      <td>NaN</td>\n      <td>NaN</td>\n      <td>NaN</td>\n    </tr>\n    <tr>\n      <th>4</th>\n      <td>33667997</td>\n      <td>COVID-19 exposure and obstructive sleep apnea:...</td>\n      <td>NaN</td>\n      <td>[]</td>\n      <td>Sleep medicine</td>\n      <td>2021-03-06</td>\n      <td>[{'lastname': 'Mohit', 'firstname': None, 'ini...</td>\n      <td>NaN</td>\n      <td>NaN</td>\n      <td>NaN</td>\n      <td>NaN</td>\n      <td>10.1016/j.sleep.2021.02.022</td>\n      <td>&lt;Element 'PubmedArticle' at 0x7efed26efbd0&gt;</td>\n      <td>NaN</td>\n      <td>NaN</td>\n      <td>NaN</td>\n      <td>NaN</td>\n      <td>NaN</td>\n      <td>NaN</td>\n    </tr>\n  </tbody>\n</table>\n</div>",
      "text/plain": "  pubmed_id                                              title  \\\n0  33668070  Expression of Surfactant protein D (SP-D) dist...   \n1  33668060  A million-dose success for Nepal: insights fro...   \n2  33668011  Current smoking and SARS-CoV-2 infection: find...   \n3  33668003  The prognostic value of elevated creatine kina...   \n4  33667997  COVID-19 exposure and obstructive sleep apnea:...   \n\n                                            abstract  \\\n0  The differentiation of influenza and COVID-19 ...   \n1                                                NaN   \n2  Several studies reported a low prevalence of c...   \n3  Creatine kinase (CK), a marker of muscle damag...   \n4                                                NaN   \n\n                                            keywords  \\\n0  ['COVID-19', 'SARS-CoV-2', 'acute respiratory ...   \n1  ['Astra-Zeneca COVID-19 vaccine', 'SARS-CoV-2'...   \n2                                                 []   \n3  ['Coronavirus', 'Creatine kinase', 'Mortality'...   \n4                                                 []   \n\n                               journal publication_date  \\\n0   The Journal of infectious diseases       2021-03-06   \n1           Journal of travel medicine       2021-03-06   \n2  JMIR public health and surveillance       2021-03-06   \n3        Diabetes & metabolic syndrome       2021-03-06   \n4                       Sleep medicine       2021-03-06   \n\n                                             authors methods  \\\n0  [{'lastname': 'Choreño-Parra', 'firstname': 'J...     NaN   \n1  [{'lastname': 'Bhattarai', 'firstname': 'Suraj...     NaN   \n2  [{'lastname': 'Prinelli', 'firstname': 'Federi...     NaN   \n3  [{'lastname': 'Akbar', 'firstname': 'Mohammad ...     NaN   \n4  [{'lastname': 'Mohit', 'firstname': None, 'ini...     NaN   \n\n                                         conclusions  \\\n0                                                NaN   \n1                                                NaN   \n2                                                NaN   \n3  Elevated CK was associated with increased mort...   \n4                                                NaN   \n\n                                             results  \\\n0                                                NaN   \n1                                                NaN   \n2  Out of the 6857 individuals (mean age 47.9 yea...   \n3  There are 2471 patients from 14 studies includ...   \n4                                                NaN   \n\n                                          copyrights  \\\n0  © The Author(s) 2021. Published by Oxford Univ...   \n1                                                NaN   \n2                                                NaN   \n3       Copyright © 2021. Published by Elsevier Ltd.   \n4                                                NaN   \n\n                           doi                                          xml  \\\n0       10.1093/infdis/jiab113  <Element 'PubmedArticle' at 0x7efeff4e9720>   \n1          10.1093/jtm/taab027  <Element 'PubmedArticle' at 0x7efed2b4c6d0>   \n2                10.2196/27091  <Element 'PubmedArticle' at 0x7efed2b54810>   \n3    10.1016/j.dsx.2021.02.012  <Element 'PubmedArticle' at 0x7efed26e3180>   \n4  10.1016/j.sleep.2021.02.022  <Element 'PubmedArticle' at 0x7efed26efbd0>   \n\n  isbn language publication_type sections publisher publisher_location  \n0  NaN      NaN              NaN      NaN       NaN                NaN  \n1  NaN      NaN              NaN      NaN       NaN                NaN  \n2  NaN      NaN              NaN      NaN       NaN                NaN  \n3  NaN      NaN              NaN      NaN       NaN                NaN  \n4  NaN      NaN              NaN      NaN       NaN                NaN  "
     },
     "execution_count": 4,
     "metadata": {},
     "output_type": "execute_result"
    }
   ],
   "source": [
    "# Checking the dataframe.\n",
    "df_data.head()"
   ]
  },
  {
   "cell_type": "code",
   "execution_count": 5,
   "metadata": {
    "tags": []
   },
   "outputs": [
    {
     "name": "stdout",
     "output_type": "stream",
     "text": [
      "<class 'pandas.core.frame.DataFrame'>\n",
      "RangeIndex: 105575 entries, 0 to 105574\n",
      "Data columns (total 19 columns):\n",
      " #   Column              Non-Null Count   Dtype \n",
      "---  ------              --------------   ----- \n",
      " 0   pubmed_id           105575 non-null  object\n",
      " 1   title               105381 non-null  object\n",
      " 2   abstract            67951 non-null   object\n",
      " 3   keywords            105502 non-null  object\n",
      " 4   journal             105502 non-null  object\n",
      " 5   publication_date    105575 non-null  object\n",
      " 6   authors             105575 non-null  object\n",
      " 7   methods             844 non-null     object\n",
      " 8   conclusions         7147 non-null    object\n",
      " 9   results             15805 non-null   object\n",
      " 10  copyrights          41345 non-null   object\n",
      " 11  doi                 103533 non-null  object\n",
      " 12  xml                 105502 non-null  object\n",
      " 13  isbn                42 non-null      object\n",
      " 14  language            73 non-null      object\n",
      " 15  publication_type    73 non-null      object\n",
      " 16  sections            73 non-null      object\n",
      " 17  publisher           73 non-null      object\n",
      " 18  publisher_location  73 non-null      object\n",
      "dtypes: object(19)\n",
      "memory usage: 15.3+ MB\n"
     ]
    }
   ],
   "source": [
    "# Visualizing the information of dataset.\n",
    "df_data.info()"
   ]
  },
  {
   "cell_type": "markdown",
   "metadata": {},
   "source": [
    "## 2. Cleaning and preprocessing the dataframe"
   ]
  },
  {
   "cell_type": "code",
   "execution_count": 6,
   "metadata": {},
   "outputs": [],
   "source": [
    "# Defining the function \"clean_text\" to clean and preprocess any text.\n",
    "def clean_text(text):\n",
    "    if text:\n",
    "        return re.sub(r\"\\\\\", \" \", re.sub(r\"\\s+\", \" \", re.sub(r\"\\-{2,}\", \"-\", re.sub(\"[0-9]*\\u200b\", \"\",\n",
    "            str(text)).replace(\"\\xad\", \"-\")).replace(\"\\u2009\", \" \").replace(\"\\xa0\", \" \").replace(\n",
    "            \"\\n\", \" \").replace(\"\\ufeff\", \"\").replace(\"\\u202f\", \"\").replace(\"\\u2028\", \" \").replace(\n",
    "            \"\\u200f\", \"\").replace(\"\\u200e\", \"\").replace(\"()\", \"\").replace(\"[]\", \"\").replace(\n",
    "            \"\\\\'\", \"\\'\").replace(\"\\uf06b\", \"\").replace(\"\\x96\", \"\").replace(\"\\u200c\", \"\"))).strip()\n",
    "    else:\n",
    "        return None"
   ]
  },
  {
   "cell_type": "code",
   "execution_count": 7,
   "metadata": {},
   "outputs": [],
   "source": [
    "# Defining the \"None\" value for the \"NaN\" values.\n",
    "df_data.replace({np.nan: None}, inplace=True)"
   ]
  },
  {
   "cell_type": "code",
   "execution_count": 8,
   "metadata": {},
   "outputs": [],
   "source": [
    "# Removing unnecessary columns.\n",
    "columns_drop = [\"methods\", \"conclusions\", \"results\", \"copyrights\", \"xml\", \"isbn\",\n",
    "                \"language\", \"publication_type\", \"sections\", \"publisher\", \"publisher_location\"]\n",
    "df_data.drop(axis=1, columns=columns_drop, inplace=True)"
   ]
  },
  {
   "cell_type": "code",
   "execution_count": 9,
   "metadata": {},
   "outputs": [],
   "source": [
    "# Getting the PubMed ID for each paper.\n",
    "df_data.pubmed_id = df_data.pubmed_id.apply(lambda x: x.split()[0].strip())"
   ]
  },
  {
   "cell_type": "code",
   "execution_count": 10,
   "metadata": {},
   "outputs": [],
   "source": [
    "# Normalizing the doi for each paper.\n",
    "df_data.loc[df_data.doi.notnull(), \"doi\"] = df_data.loc[df_data.doi.notnull(), \"doi\"].apply(\n",
    "    lambda x: x.split()[0].strip())"
   ]
  },
  {
   "cell_type": "code",
   "execution_count": 11,
   "metadata": {},
   "outputs": [],
   "source": [
    "# Normalizing the features \"abstract\", \"title\" and \"journal\".\n",
    "df_data.abstract = df_data.abstract.apply(\n",
    "    lambda x: clean_text(LatexNodes2Text().latex_to_text(\n",
    "        re.sub(r\"\\s+\", \" \", re.sub(\"%\", \"\\\\%\", x)))) if x and len(x) > 0 else None)\n",
    "df_data.title = df_data.title.apply(lambda x: clean_text(x) if x and len(x) > 0 else None)\n",
    "df_data.journal = df_data.journal.apply(clean_text)"
   ]
  },
  {
   "cell_type": "code",
   "execution_count": 12,
   "metadata": {
    "tags": []
   },
   "outputs": [
    {
     "name": "stderr",
     "output_type": "stream",
     "text": [
      "/opt/Anaconda/envs/estudos/lib/python3.8/site-packages/pandas/core/internals/blocks.py:983: VisibleDeprecationWarning: Creating an ndarray from ragged nested sequences (which is a list-or-tuple of lists-or-tuples-or ndarrays with different lengths or shapes) is deprecated. If you meant to do this, you must specify 'dtype=object' when creating the ndarray\n",
      "  arr_value = np.array(value)\n"
     ]
    }
   ],
   "source": [
    "# Setting the feature \"keywords\" as a tuple of keywords and normalizing the keywords for each paper.\n",
    "df_data.keywords.loc[df_data.keywords.notnull()] = [\n",
    "    tuple([clean_text(keyword) for keyword in eval(keywords)]) if eval(keywords) else None\n",
    "    for keywords in df_data.keywords[df_data.keywords.notnull()]]"
   ]
  },
  {
   "cell_type": "code",
   "execution_count": 13,
   "metadata": {},
   "outputs": [
    {
     "data": {
      "text/plain": "28"
     },
     "execution_count": 13,
     "metadata": {},
     "output_type": "execute_result"
    }
   ],
   "source": [
    "# Checking there are invalid keywords.\n",
    "df_data[df_data.keywords.notnull()].keywords[\n",
    "    [np.any([item == None for item in keywords])\n",
    "    for keywords in df_data[df_data.keywords.notnull()].keywords]].size"
   ]
  },
  {
   "cell_type": "code",
   "execution_count": 14,
   "metadata": {},
   "outputs": [],
   "source": [
    "# Removing the invalid keywords.\n",
    "df_data.keywords.loc[df_data.keywords.notnull()] = [tuple([item for item in keywords if item])\n",
    "    for keywords in df_data.keywords[df_data.keywords.notnull()]]\n",
    "df_data.keywords.loc[df_data.keywords.notnull()] = df_data.keywords.loc[\n",
    "    df_data.keywords.notnull()].apply(lambda x: x if len(x) > 0 else None)"
   ]
  },
  {
   "cell_type": "code",
   "execution_count": 15,
   "metadata": {},
   "outputs": [
    {
     "data": {
      "text/plain": "0"
     },
     "execution_count": 15,
     "metadata": {},
     "output_type": "execute_result"
    }
   ],
   "source": [
    "# Checking again there are invalid keywords.\n",
    "df_data[df_data.keywords.notnull()].keywords[\n",
    "    [np.any([item == None for item in keywords])\n",
    "    for keywords in df_data[df_data.keywords.notnull()].keywords]].size"
   ]
  },
  {
   "cell_type": "code",
   "execution_count": 16,
   "metadata": {},
   "outputs": [],
   "source": [
    "# Correcting the feature \"authors\".\n",
    "for idx, authors in enumerate(df_data.authors):\n",
    "    if not eval(authors):\n",
    "        df_data.authors[idx] = None\n",
    "    else:\n",
    "        list_authors = []\n",
    "        for author in eval(authors):\n",
    "            auth = {}\n",
    "            if author[\"firstname\"] and author[\"lastname\"]:\n",
    "                auth[\"name\"] = clean_text(\"{} {}\".format(author[\"firstname\"], author[\"lastname\"]))\n",
    "            elif author[\"firstname\"] and not author[\"lastname\"]:\n",
    "                auth[\"name\"] = clean_text(author[\"firstname\"])\n",
    "            elif not author[\"firstname\"] and author[\"lastname\"]:\n",
    "                auth[\"name\"] = clean_text(author[\"lastname\"])\n",
    "            else:\n",
    "                auth[\"name\"] = None\n",
    "\n",
    "            auth[\"id\"] = str(hash(\"{} - {}\".format(auth[\"name\"], \"PubMed\"))) if auth[\"name\"] else None\n",
    "            auth[\"affiliation\"] = clean_text(author[\"affiliation\"]) if \"affiliation\" in author else None\n",
    "            auth[\"affil_id\"] = str(hash(\"{} - {}\".format(auth[\"affiliation\"], \"PubMed\"))) \\\n",
    "                if auth[\"affiliation\"] else None\n",
    "            auth[\"country\"] = None\n",
    "\n",
    "            if auth[\"affiliation\"] or auth[\"name\"]:\n",
    "                list_authors.append(auth)\n",
    "\n",
    "        df_data.authors[idx] = tuple(list_authors) if len(list_authors) > 0 else None"
   ]
  },
  {
   "cell_type": "code",
   "execution_count": 17,
   "metadata": {},
   "outputs": [],
   "source": [
    "# Renaming the features \"authors\", \"keywords\" and \"journal\".\n",
    "df_data.rename(columns={\"authors\": \"author_affil\", \"keywords\": \"auth_keywords\",\n",
    "                        \"journal\": \"vehicle_name\"}, inplace=True)"
   ]
  },
  {
   "cell_type": "code",
   "execution_count": 18,
   "metadata": {},
   "outputs": [],
   "source": [
    "# Removing the duplicated records by features \"title\" and \"doi\".\n",
    "df_data = pd.concat([df_data[df_data.title.isnull() | df_data.doi.isnull()],\n",
    "    df_data[df_data.title.notnull() & df_data.doi.notnull()].sort_values(\n",
    "        by=[\"title\", \"publication_date\"]).drop_duplicates([\"title\", \"doi\"], \"last\")], ignore_index=True)"
   ]
  },
  {
   "cell_type": "code",
   "execution_count": 19,
   "metadata": {},
   "outputs": [
    {
     "data": {
      "text/html": "<div>\n<style scoped>\n    .dataframe tbody tr th:only-of-type {\n        vertical-align: middle;\n    }\n\n    .dataframe tbody tr th {\n        vertical-align: top;\n    }\n\n    .dataframe thead th {\n        text-align: right;\n    }\n</style>\n<table border=\"1\" class=\"dataframe\">\n  <thead>\n    <tr style=\"text-align: right;\">\n      <th></th>\n      <th>pubmed_id</th>\n      <th>title</th>\n      <th>abstract</th>\n      <th>auth_keywords</th>\n      <th>vehicle_name</th>\n      <th>publication_date</th>\n      <th>author_affil</th>\n      <th>doi</th>\n    </tr>\n  </thead>\n  <tbody>\n    <tr>\n      <th>0</th>\n      <td>33666930</td>\n      <td>Deployment of the 1st Area Medical Laboratory ...</td>\n      <td>In December 2019, an outbreak of pneumonia cau...</td>\n      <td>None</td>\n      <td>Medical journal (Fort Sam Houston, Tex.)</td>\n      <td>2021-03-06</td>\n      <td>({'name': 'William Washington', 'id': '3069391...</td>\n      <td>None</td>\n    </tr>\n    <tr>\n      <th>1</th>\n      <td>33666929</td>\n      <td>The COVID-19 Army Rapid Assessment Tool (CARAT...</td>\n      <td>The COVID-19 pandemic poses unique challenges ...</td>\n      <td>None</td>\n      <td>Medical journal (Fort Sam Houston, Tex.)</td>\n      <td>2021-03-06</td>\n      <td>({'name': 'Michael J Walters', 'id': '25963685...</td>\n      <td>None</td>\n    </tr>\n    <tr>\n      <th>2</th>\n      <td>33666928</td>\n      <td>1ST Cavalry Division Forward's Defender Europe...</td>\n      <td>The 1st Cavalry Division Forward (1CD FWD) alo...</td>\n      <td>None</td>\n      <td>Medical journal (Fort Sam Houston, Tex.)</td>\n      <td>2021-03-06</td>\n      <td>({'name': 'Chi L Truong', 'id': '4333851133578...</td>\n      <td>None</td>\n    </tr>\n    <tr>\n      <th>3</th>\n      <td>33666927</td>\n      <td>A Comprehensive Overview of the US Army Dentis...</td>\n      <td>The historic outbreak of the novel coronavirus...</td>\n      <td>None</td>\n      <td>Medical journal (Fort Sam Houston, Tex.)</td>\n      <td>2021-03-06</td>\n      <td>({'name': 'Shani O Thompson Burkes', 'id': '-9...</td>\n      <td>None</td>\n    </tr>\n    <tr>\n      <th>4</th>\n      <td>33666926</td>\n      <td>Nutrition, Immune Function, and Infectious Dis...</td>\n      <td>Consuming a diet meeting energy demands and pr...</td>\n      <td>(COVID-19, energy intake, immune function, mic...</td>\n      <td>Medical journal (Fort Sam Houston, Tex.)</td>\n      <td>2021-03-06</td>\n      <td>({'name': 'Tracey J Smith', 'id': '-1746242993...</td>\n      <td>None</td>\n    </tr>\n  </tbody>\n</table>\n</div>",
      "text/plain": "  pubmed_id                                              title  \\\n0  33666930  Deployment of the 1st Area Medical Laboratory ...   \n1  33666929  The COVID-19 Army Rapid Assessment Tool (CARAT...   \n2  33666928  1ST Cavalry Division Forward's Defender Europe...   \n3  33666927  A Comprehensive Overview of the US Army Dentis...   \n4  33666926  Nutrition, Immune Function, and Infectious Dis...   \n\n                                            abstract  \\\n0  In December 2019, an outbreak of pneumonia cau...   \n1  The COVID-19 pandemic poses unique challenges ...   \n2  The 1st Cavalry Division Forward (1CD FWD) alo...   \n3  The historic outbreak of the novel coronavirus...   \n4  Consuming a diet meeting energy demands and pr...   \n\n                                       auth_keywords  \\\n0                                               None   \n1                                               None   \n2                                               None   \n3                                               None   \n4  (COVID-19, energy intake, immune function, mic...   \n\n                               vehicle_name publication_date  \\\n0  Medical journal (Fort Sam Houston, Tex.)       2021-03-06   \n1  Medical journal (Fort Sam Houston, Tex.)       2021-03-06   \n2  Medical journal (Fort Sam Houston, Tex.)       2021-03-06   \n3  Medical journal (Fort Sam Houston, Tex.)       2021-03-06   \n4  Medical journal (Fort Sam Houston, Tex.)       2021-03-06   \n\n                                        author_affil   doi  \n0  ({'name': 'William Washington', 'id': '3069391...  None  \n1  ({'name': 'Michael J Walters', 'id': '25963685...  None  \n2  ({'name': 'Chi L Truong', 'id': '4333851133578...  None  \n3  ({'name': 'Shani O Thompson Burkes', 'id': '-9...  None  \n4  ({'name': 'Tracey J Smith', 'id': '-1746242993...  None  "
     },
     "execution_count": 19,
     "metadata": {},
     "output_type": "execute_result"
    }
   ],
   "source": [
    "# Checking the result.\n",
    "df_data.head()"
   ]
  },
  {
   "cell_type": "code",
   "execution_count": 20,
   "metadata": {
    "tags": []
   },
   "outputs": [
    {
     "name": "stdout",
     "output_type": "stream",
     "text": [
      "<class 'pandas.core.frame.DataFrame'>\n",
      "RangeIndex: 105413 entries, 0 to 105412\n",
      "Data columns (total 8 columns):\n",
      " #   Column            Non-Null Count   Dtype \n",
      "---  ------            --------------   ----- \n",
      " 0   pubmed_id         105413 non-null  object\n",
      " 1   title             105219 non-null  object\n",
      " 2   abstract          67886 non-null   object\n",
      " 3   auth_keywords     58334 non-null   object\n",
      " 4   vehicle_name      105340 non-null  object\n",
      " 5   publication_date  105413 non-null  object\n",
      " 6   author_affil      104429 non-null  object\n",
      " 7   doi               103371 non-null  object\n",
      "dtypes: object(8)\n",
      "memory usage: 6.4+ MB\n"
     ]
    }
   ],
   "source": [
    "# Visualizing the information of dataset.\n",
    "df_data.info()"
   ]
  },
  {
   "cell_type": "markdown",
   "metadata": {},
   "source": [
    "## 3. Saving the dataframe"
   ]
  },
  {
   "cell_type": "code",
   "execution_count": 21,
   "metadata": {},
   "outputs": [],
   "source": [
    "# Exporting the data to CSV file.\n",
    "df_data.to_csv(\"../../data/prepared/pubmed_covid_19.csv\", index=False, quoting=csv.QUOTE_ALL)"
   ]
  }
 ],
 "metadata": {
  "kernelspec": {
   "display_name": "Python 3.8.5 64-bit ('estudos': conda)",
   "name": "python385jvsc74a57bd02e6a5491ea87a08a1cf17cf8bb76c9efa2b82a90397760dc18398c5d7702d505"
  },
  "language_info": {
   "codemirror_mode": {
    "name": "ipython",
    "version": 3
   },
   "file_extension": ".py",
   "mimetype": "text/x-python",
   "name": "python",
   "nbconvert_exporter": "python",
   "pygments_lexer": "ipython3",
   "version": "3.8.5"
  }
 },
 "nbformat": 4,
 "nbformat_minor": 2
}