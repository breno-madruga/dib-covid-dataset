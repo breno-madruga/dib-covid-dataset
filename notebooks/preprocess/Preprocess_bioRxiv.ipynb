{
 "cells": [
  {
   "cell_type": "markdown",
   "metadata": {},
   "source": [
    "# Cleaning and Preprocessing the bioRxiv publications related to COVID-19"
   ]
  },
  {
   "cell_type": "markdown",
   "metadata": {},
   "source": [
    "The publications' data were collected from [bioRxiv API](https://api.biorxiv.org/covid19/help) related to COVID-19."
   ]
  },
  {
   "cell_type": "code",
   "execution_count": 1,
   "metadata": {},
   "outputs": [],
   "source": [
    "# Uncomment to install the library.\n",
    "# %pip install pylatexenc"
   ]
  },
  {
   "cell_type": "code",
   "execution_count": 2,
   "metadata": {},
   "outputs": [],
   "source": [
    "# Importing the required libraries.\n",
    "import csv, re, pandas as pd, numpy as np\n",
    "from pylatexenc.latex2text import LatexNodes2Text"
   ]
  },
  {
   "cell_type": "markdown",
   "metadata": {},
   "source": [
    "## 1. Generating the dataframe from the raw data"
   ]
  },
  {
   "cell_type": "code",
   "execution_count": 3,
   "metadata": {},
   "outputs": [],
   "source": [
    "# Creating a dataframe from the raw data.\n",
    "df_data = pd.read_csv(\"../../data/raw/biorxiv_raw.csv\", header=0)"
   ]
  },
  {
   "cell_type": "code",
   "execution_count": 4,
   "metadata": {},
   "outputs": [
    {
     "data": {
      "text/html": "<div>\n<style scoped>\n    .dataframe tbody tr th:only-of-type {\n        vertical-align: middle;\n    }\n\n    .dataframe tbody tr th {\n        vertical-align: top;\n    }\n\n    .dataframe thead th {\n        text-align: right;\n    }\n</style>\n<table border=\"1\" class=\"dataframe\">\n  <thead>\n    <tr style=\"text-align: right;\">\n      <th></th>\n      <th>rel_doi</th>\n      <th>rel_title</th>\n      <th>rel_date</th>\n      <th>rel_site</th>\n      <th>rel_link</th>\n      <th>rel_abs</th>\n      <th>rel_num_authors</th>\n      <th>rel_authors</th>\n      <th>version</th>\n      <th>license</th>\n      <th>type</th>\n      <th>category</th>\n    </tr>\n  </thead>\n  <tbody>\n    <tr>\n      <th>0</th>\n      <td>10.1101/2021.03.03.21251639</td>\n      <td>SARS-CoV-2 antibody magnitude and detectabilit...</td>\n      <td>2021-03-05</td>\n      <td>medRxiv</td>\n      <td>https://medrxiv.org/cgi/content/short/2021.03....</td>\n      <td>Serosurveillance studies are critical for esti...</td>\n      <td>45</td>\n      <td>[{'author_name': 'Michael J Peluso', 'author_i...</td>\n      <td>1</td>\n      <td>cc_by</td>\n      <td>PUBLISHAHEADOFPRINT</td>\n      <td>infectious diseases</td>\n    </tr>\n    <tr>\n      <th>1</th>\n      <td>10.1101/2021.03.03.21252086</td>\n      <td>COVID Symptoms, Symptom Clusters, and Predicto...</td>\n      <td>2021-03-05</td>\n      <td>medRxiv</td>\n      <td>https://medrxiv.org/cgi/content/short/2021.03....</td>\n      <td>Emerging data suggest that the effects of infe...</td>\n      <td>11</td>\n      <td>[{'author_name': 'Yong Huang', 'author_inst': ...</td>\n      <td>1</td>\n      <td>cc_by_nd</td>\n      <td>PUBLISHAHEADOFPRINT</td>\n      <td>infectious diseases</td>\n    </tr>\n    <tr>\n      <th>2</th>\n      <td>10.1101/2021.03.02.21252105</td>\n      <td>SARS-CoV-2 Load does not Predict Transmissibil...</td>\n      <td>2021-03-05</td>\n      <td>medRxiv</td>\n      <td>https://medrxiv.org/cgi/content/short/2021.03....</td>\n      <td>SARS-CoV2 is highly contagious and the global ...</td>\n      <td>22</td>\n      <td>[{'author_name': 'Di Tian', 'author_inst': 'Tu...</td>\n      <td>1</td>\n      <td>cc_no</td>\n      <td>PUBLISHAHEADOFPRINT</td>\n      <td>infectious diseases</td>\n    </tr>\n    <tr>\n      <th>3</th>\n      <td>10.1101/2021.03.03.21251066</td>\n      <td>Age-dependent immune response to the Biontech/...</td>\n      <td>2021-03-05</td>\n      <td>medRxiv</td>\n      <td>https://medrxiv.org/cgi/content/short/2021.03....</td>\n      <td>Background: The SARS-CoV-2 pandemic has led to...</td>\n      <td>19</td>\n      <td>[{'author_name': 'Lisa Müller', 'author_inst':...</td>\n      <td>1</td>\n      <td>cc_by_nc_nd</td>\n      <td>PUBLISHAHEADOFPRINT</td>\n      <td>infectious diseases</td>\n    </tr>\n    <tr>\n      <th>4</th>\n      <td>10.1101/2021.03.01.21252250</td>\n      <td>Just 2% of SARS-CoV-2-positive individuals car...</td>\n      <td>2021-03-05</td>\n      <td>medRxiv</td>\n      <td>https://medrxiv.org/cgi/content/short/2021.03....</td>\n      <td>We analyze data from the Fall 2020 pandemic re...</td>\n      <td>25</td>\n      <td>[{'author_name': 'Qing Yang', 'author_inst': '...</td>\n      <td>1</td>\n      <td>cc_by</td>\n      <td>PUBLISHAHEADOFPRINT</td>\n      <td>infectious diseases</td>\n    </tr>\n  </tbody>\n</table>\n</div>",
      "text/plain": "                       rel_doi  \\\n0  10.1101/2021.03.03.21251639   \n1  10.1101/2021.03.03.21252086   \n2  10.1101/2021.03.02.21252105   \n3  10.1101/2021.03.03.21251066   \n4  10.1101/2021.03.01.21252250   \n\n                                           rel_title    rel_date rel_site  \\\n0  SARS-CoV-2 antibody magnitude and detectabilit...  2021-03-05  medRxiv   \n1  COVID Symptoms, Symptom Clusters, and Predicto...  2021-03-05  medRxiv   \n2  SARS-CoV-2 Load does not Predict Transmissibil...  2021-03-05  medRxiv   \n3  Age-dependent immune response to the Biontech/...  2021-03-05  medRxiv   \n4  Just 2% of SARS-CoV-2-positive individuals car...  2021-03-05  medRxiv   \n\n                                            rel_link  \\\n0  https://medrxiv.org/cgi/content/short/2021.03....   \n1  https://medrxiv.org/cgi/content/short/2021.03....   \n2  https://medrxiv.org/cgi/content/short/2021.03....   \n3  https://medrxiv.org/cgi/content/short/2021.03....   \n4  https://medrxiv.org/cgi/content/short/2021.03....   \n\n                                             rel_abs  rel_num_authors  \\\n0  Serosurveillance studies are critical for esti...               45   \n1  Emerging data suggest that the effects of infe...               11   \n2  SARS-CoV2 is highly contagious and the global ...               22   \n3  Background: The SARS-CoV-2 pandemic has led to...               19   \n4  We analyze data from the Fall 2020 pandemic re...               25   \n\n                                         rel_authors  version      license  \\\n0  [{'author_name': 'Michael J Peluso', 'author_i...        1        cc_by   \n1  [{'author_name': 'Yong Huang', 'author_inst': ...        1     cc_by_nd   \n2  [{'author_name': 'Di Tian', 'author_inst': 'Tu...        1        cc_no   \n3  [{'author_name': 'Lisa Müller', 'author_inst':...        1  cc_by_nc_nd   \n4  [{'author_name': 'Qing Yang', 'author_inst': '...        1        cc_by   \n\n                  type             category  \n0  PUBLISHAHEADOFPRINT  infectious diseases  \n1  PUBLISHAHEADOFPRINT  infectious diseases  \n2  PUBLISHAHEADOFPRINT  infectious diseases  \n3  PUBLISHAHEADOFPRINT  infectious diseases  \n4  PUBLISHAHEADOFPRINT  infectious diseases  "
     },
     "execution_count": 4,
     "metadata": {},
     "output_type": "execute_result"
    }
   ],
   "source": [
    "# Checking the dataframe.\n",
    "df_data.head()"
   ]
  },
  {
   "cell_type": "code",
   "execution_count": 5,
   "metadata": {
    "tags": []
   },
   "outputs": [
    {
     "name": "stdout",
     "output_type": "stream",
     "text": [
      "<class 'pandas.core.frame.DataFrame'>\n",
      "RangeIndex: 13789 entries, 0 to 13788\n",
      "Data columns (total 12 columns):\n",
      " #   Column           Non-Null Count  Dtype \n",
      "---  ------           --------------  ----- \n",
      " 0   rel_doi          13789 non-null  object\n",
      " 1   rel_title        13789 non-null  object\n",
      " 2   rel_date         13789 non-null  object\n",
      " 3   rel_site         13789 non-null  object\n",
      " 4   rel_link         13789 non-null  object\n",
      " 5   rel_abs          13789 non-null  object\n",
      " 6   rel_num_authors  13789 non-null  int64 \n",
      " 7   rel_authors      13702 non-null  object\n",
      " 8   version          13789 non-null  int64 \n",
      " 9   license          13733 non-null  object\n",
      " 10  type             13789 non-null  object\n",
      " 11  category         13789 non-null  object\n",
      "dtypes: int64(2), object(10)\n",
      "memory usage: 1.3+ MB\n"
     ]
    }
   ],
   "source": [
    "# Visualizing the information of dataset.\n",
    "df_data.info()"
   ]
  },
  {
   "cell_type": "markdown",
   "metadata": {},
   "source": [
    "## 2. Cleaning and preprocessing the dataframe"
   ]
  },
  {
   "cell_type": "code",
   "execution_count": 6,
   "metadata": {},
   "outputs": [],
   "source": [
    "# Removing unnecessary columns.\n",
    "df_data.drop(axis=1, columns=[\"rel_num_authors\", \"version\", \"license\", \"type\"], inplace=True)"
   ]
  },
  {
   "cell_type": "code",
   "execution_count": 7,
   "metadata": {},
   "outputs": [],
   "source": [
    "# Renaming the columns.\n",
    "columns = {\"rel_title\": \"title\", \"rel_doi\": \"doi\", \"rel_link\": \"id\", \"rel_abs\": \"abstract\",\n",
    "    \"rel_authors\": \"author_affil\", \"rel_date\": \"publication_date\", \"rel_site\": \"source\",\n",
    "    \"category\": \"subject_areas\"}\n",
    "df_data.rename(columns=columns, inplace=True)"
   ]
  },
  {
   "cell_type": "code",
   "execution_count": 8,
   "metadata": {},
   "outputs": [],
   "source": [
    "# Defining the \"None\" value for the \"NaN\" values.\n",
    "df_data.replace({np.nan: None, \"none\": None, \"none.\": None, \"None\": None}, inplace=True)"
   ]
  },
  {
   "cell_type": "code",
   "execution_count": 9,
   "metadata": {},
   "outputs": [],
   "source": [
    "# Normalizing the feature \"id\".\n",
    "df_data.id = df_data.id.apply(lambda x: x.split(\"/\")[-1])"
   ]
  },
  {
   "cell_type": "code",
   "execution_count": 10,
   "metadata": {},
   "outputs": [],
   "source": [
    "# Normalizing the features \"title\" and \"abstract\".\n",
    "df_data.loc[:, [\"title\", \"abstract\"]] = df_data.loc[:, [\"title\", \"abstract\"]].apply(\n",
    "    lambda x: x.apply(lambda y: re.sub(\"/r/\", \"\", re.sub(\"@PER@CENT@\", \"%\", re.sub(r\"\\^\", \"\",\n",
    "        LatexNodes2Text().latex_to_text(re.sub(r\"\\s+\", \" \", re.sub(\"\\\\\\\\?%\", \"@PER@CENT@\",\n",
    "            re.sub(\"\\\\\\\\\", \"\\n\", re.sub(r\"\\\\href\\{(.+)\\}\\{(.+)\\}\", \"\\g<2> (\\g<1>)\",\n",
    "                y)))).strip())))) if y else None))"
   ]
  },
  {
   "cell_type": "code",
   "execution_count": 11,
   "metadata": {},
   "outputs": [],
   "source": [
    "# Normalizing the feature \"subject_areas\".\n",
    "df_data.subject_areas = df_data.subject_areas.apply(lambda x: tuple([x]) if x else None)"
   ]
  },
  {
   "cell_type": "code",
   "execution_count": 12,
   "metadata": {},
   "outputs": [],
   "source": [
    "# Changing the type of feature \"author_affil\".\n",
    "df_data.author_affil = df_data.author_affil.apply(lambda x: eval(x) if x else None)"
   ]
  },
  {
   "cell_type": "code",
   "execution_count": 13,
   "metadata": {},
   "outputs": [],
   "source": [
    "# Normalizing the feature \"author_affil\".\n",
    "df_data.author_affil[df_data.author_affil.notnull()] = [\n",
    "    [{\"name\": re.sub(r\"\\s+\", \" \", LatexNodes2Text().latex_to_text(\n",
    "                re.sub(r\"^\\\"(.+)\\\"$\", \"\\g<1>\", re.sub(\"^-\\s\", \"\", author[\"author_name\"])))),\n",
    "      \"affiliation\": re.sub(r\"\\s+\", \" \", LatexNodes2Text().latex_to_text(\n",
    "                        re.sub(r\"^\\\"(.+)\\\"$\", \"\\g<1>\", re.sub(\"Affiliation:\", \"\",\n",
    "                            re.sub(r\"[0-9]+\\.\\s\", \"\", author[\"author_inst\"]), flags=re.IGNORECASE))))}\n",
    "     for author in authors] if len(authors) > 0 else None\n",
    "    for authors in df_data.author_affil[df_data.author_affil.notnull()]]"
   ]
  },
  {
   "cell_type": "code",
   "execution_count": 14,
   "metadata": {},
   "outputs": [],
   "source": [
    "# Removing the invalid authors and affiliations.\n",
    "invalid_authors = [\"Revision Created\", \"Revision Converted\", \"Newly Submitted Revision\",\n",
    "                   \"Final Decision\"]\n",
    "for idx, authors in df_data.author_affil[df_data.author_affil.notnull()].iteritems():\n",
    "    if authors:\n",
    "        for author in list(authors):\n",
    "            if author[\"name\"].strip() in invalid_authors:\n",
    "                authors.remove(author)\n",
    "            elif not author[\"affiliation\"] or author[\"affiliation\"].lower().replace(\".\", \"\") == \"none\":\n",
    "                author[\"affiliation\"] = None\n",
    "        df_data.author_affil[idx] = tuple(authors)"
   ]
  },
  {
   "cell_type": "code",
   "execution_count": 15,
   "metadata": {},
   "outputs": [],
   "source": [
    "# Creating the authors' and affiliations' IDs.\n",
    "df_data.author_affil[df_data.author_affil.notnull()] = [tuple([\n",
    "    {\"id\": str(hash(\"{} - {}\".format(author[\"name\"], df_data.source[idx]))) if author[\"name\"] else None,\n",
    "     \"name\": author[\"name\"] if author[\"name\"] else None,\n",
    "     \"affil_id\": str(hash(\"{} - {}\".format(author[\"affiliation\"], df_data.source[idx]))) \\\n",
    "         if author[\"affiliation\"] else None,\n",
    "     \"affiliation\": author[\"affiliation\"] if author[\"affiliation\"] else None, \"country\": None}\n",
    "    for author in authors])\n",
    "    for idx, authors in df_data.author_affil[df_data.author_affil.notnull()].iteritems()]"
   ]
  },
  {
   "cell_type": "code",
   "execution_count": 16,
   "metadata": {},
   "outputs": [],
   "source": [
    "# Defining the \"None\" value for the \"NaN\" values.\n",
    "df_data.replace({np.nan: None, \"none\": None, \"none.\": None, \"None\": None}, inplace=True)"
   ]
  },
  {
   "cell_type": "code",
   "execution_count": 17,
   "metadata": {},
   "outputs": [],
   "source": [
    "# Removing the duplicated records by features \"title\" and \"doi\".\n",
    "df_data = df_data.sort_values(by=[\"title\", \"publication_date\"]).drop_duplicates([\"title\", \"doi\"], \"last\")"
   ]
  },
  {
   "cell_type": "code",
   "execution_count": 18,
   "metadata": {},
   "outputs": [
    {
     "data": {
      "text/html": "<div>\n<style scoped>\n    .dataframe tbody tr th:only-of-type {\n        vertical-align: middle;\n    }\n\n    .dataframe tbody tr th {\n        vertical-align: top;\n    }\n\n    .dataframe thead th {\n        text-align: right;\n    }\n</style>\n<table border=\"1\" class=\"dataframe\">\n  <thead>\n    <tr style=\"text-align: right;\">\n      <th></th>\n      <th>doi</th>\n      <th>title</th>\n      <th>publication_date</th>\n      <th>source</th>\n      <th>id</th>\n      <th>abstract</th>\n      <th>author_affil</th>\n      <th>subject_areas</th>\n    </tr>\n  </thead>\n  <tbody>\n    <tr>\n      <th>5607</th>\n      <td>10.1101/2020.08.25.20181545</td>\n      <td>\"I walk around like my hands are covered in mu...</td>\n      <td>2020-08-31</td>\n      <td>medRxiv</td>\n      <td>2020.08.25.20181545</td>\n      <td>ObjectivesTo investigate how and why Canadians...</td>\n      <td>({'id': '8616496335208757239', 'name': 'Robyn ...</td>\n      <td>(public and global health,)</td>\n    </tr>\n    <tr>\n      <th>9458</th>\n      <td>10.1101/2020.05.28.120709</td>\n      <td>\"Monoclonal-type\" plastic antibodies for SARS-...</td>\n      <td>2020-05-28</td>\n      <td>bioRxiv</td>\n      <td>2020.05.28.120709</td>\n      <td>Summary of the ideaOur idea is focused on the ...</td>\n      <td>({'id': '2070372118427817817', 'name': 'France...</td>\n      <td>(synthetic biology,)</td>\n    </tr>\n    <tr>\n      <th>11723</th>\n      <td>10.1101/2020.04.16.20067884</td>\n      <td>\"No test is better than a bad test\": Impact of...</td>\n      <td>2020-04-22</td>\n      <td>medRxiv</td>\n      <td>2020.04.16.20067884</td>\n      <td>Testing is viewed as a critical aspect of any ...</td>\n      <td>({'id': '-7499246138313714402', 'name': 'Nicho...</td>\n      <td>(epidemiology,)</td>\n    </tr>\n    <tr>\n      <th>2000</th>\n      <td>10.1101/2020.12.22.20248719</td>\n      <td>\"There's No Place Like Home for The Holidays:\"...</td>\n      <td>2020-12-24</td>\n      <td>medRxiv</td>\n      <td>2020.12.22.20248719</td>\n      <td>In the US, public health officials discouraged...</td>\n      <td>({'id': '-1353686671842246904', 'name': 'Shrut...</td>\n      <td>(epidemiology,)</td>\n    </tr>\n    <tr>\n      <th>997</th>\n      <td>10.1101/2021.01.29.21250626</td>\n      <td>\"This is really like waiting for war and this ...</td>\n      <td>2021-02-01</td>\n      <td>medRxiv</td>\n      <td>2021.01.29.21250626</td>\n      <td>Healthcare professionals (HCPs) are facing rem...</td>\n      <td>({'id': '-8861698337242705120', 'name': 'Madle...</td>\n      <td>(intensive care and critical care medicine,)</td>\n    </tr>\n  </tbody>\n</table>\n</div>",
      "text/plain": "                               doi  \\\n5607   10.1101/2020.08.25.20181545   \n9458     10.1101/2020.05.28.120709   \n11723  10.1101/2020.04.16.20067884   \n2000   10.1101/2020.12.22.20248719   \n997    10.1101/2021.01.29.21250626   \n\n                                                   title publication_date  \\\n5607   \"I walk around like my hands are covered in mu...       2020-08-31   \n9458   \"Monoclonal-type\" plastic antibodies for SARS-...       2020-05-28   \n11723  \"No test is better than a bad test\": Impact of...       2020-04-22   \n2000   \"There's No Place Like Home for The Holidays:\"...       2020-12-24   \n997    \"This is really like waiting for war and this ...       2021-02-01   \n\n        source                   id  \\\n5607   medRxiv  2020.08.25.20181545   \n9458   bioRxiv    2020.05.28.120709   \n11723  medRxiv  2020.04.16.20067884   \n2000   medRxiv  2020.12.22.20248719   \n997    medRxiv  2021.01.29.21250626   \n\n                                                abstract  \\\n5607   ObjectivesTo investigate how and why Canadians...   \n9458   Summary of the ideaOur idea is focused on the ...   \n11723  Testing is viewed as a critical aspect of any ...   \n2000   In the US, public health officials discouraged...   \n997    Healthcare professionals (HCPs) are facing rem...   \n\n                                            author_affil  \\\n5607   ({'id': '8616496335208757239', 'name': 'Robyn ...   \n9458   ({'id': '2070372118427817817', 'name': 'France...   \n11723  ({'id': '-7499246138313714402', 'name': 'Nicho...   \n2000   ({'id': '-1353686671842246904', 'name': 'Shrut...   \n997    ({'id': '-8861698337242705120', 'name': 'Madle...   \n\n                                      subject_areas  \n5607                    (public and global health,)  \n9458                           (synthetic biology,)  \n11723                               (epidemiology,)  \n2000                                (epidemiology,)  \n997    (intensive care and critical care medicine,)  "
     },
     "execution_count": 18,
     "metadata": {},
     "output_type": "execute_result"
    }
   ],
   "source": [
    "# Checking the result.\n",
    "df_data.head()"
   ]
  },
  {
   "cell_type": "code",
   "execution_count": 19,
   "metadata": {
    "tags": []
   },
   "outputs": [
    {
     "name": "stdout",
     "output_type": "stream",
     "text": [
      "<class 'pandas.core.frame.DataFrame'>\n",
      "Int64Index: 13789 entries, 5607 to 3584\n",
      "Data columns (total 8 columns):\n",
      " #   Column            Non-Null Count  Dtype \n",
      "---  ------            --------------  ----- \n",
      " 0   doi               13789 non-null  object\n",
      " 1   title             13789 non-null  object\n",
      " 2   publication_date  13789 non-null  object\n",
      " 3   source            13789 non-null  object\n",
      " 4   id                13789 non-null  object\n",
      " 5   abstract          13788 non-null  object\n",
      " 6   author_affil      13702 non-null  object\n",
      " 7   subject_areas     13789 non-null  object\n",
      "dtypes: object(8)\n",
      "memory usage: 969.5+ KB\n"
     ]
    }
   ],
   "source": [
    "# Visualizing the information of dataset.\n",
    "df_data.info()"
   ]
  },
  {
   "cell_type": "markdown",
   "metadata": {},
   "source": [
    "## 3. Saving the dataframe"
   ]
  },
  {
   "cell_type": "code",
   "execution_count": 20,
   "metadata": {},
   "outputs": [],
   "source": [
    "# Exporting the data to CSV file.\n",
    "df_data.to_csv(\"../../data/prepared/biorxiv_covid_19.csv\", index=False, quoting=csv.QUOTE_ALL)"
   ]
  }
 ],
 "metadata": {
  "kernelspec": {
   "display_name": "Python 3.8.5 64-bit ('estudos': conda)",
   "name": "python385jvsc74a57bd02e6a5491ea87a08a1cf17cf8bb76c9efa2b82a90397760dc18398c5d7702d505"
  },
  "language_info": {
   "codemirror_mode": {
    "name": "ipython",
    "version": 3
   },
   "file_extension": ".py",
   "mimetype": "text/x-python",
   "name": "python",
   "nbconvert_exporter": "python",
   "pygments_lexer": "ipython3",
   "version": "3.8.5"
  }
 },
 "nbformat": 4,
 "nbformat_minor": 2
}