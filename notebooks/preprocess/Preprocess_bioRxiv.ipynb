{
 "cells": [
  {
   "cell_type": "markdown",
   "source": [
    "# Cleaning and Preprocessing the bioRxiv publications related to COVID-19"
   ],
   "metadata": {}
  },
  {
   "cell_type": "markdown",
   "source": [
    "The publications' data were collected from [bioRxiv API](https://api.biorxiv.org/covid19/help) related to COVID-19."
   ],
   "metadata": {}
  },
  {
   "cell_type": "code",
   "execution_count": null,
   "source": [
    "# Uncomment to install the library.\n",
    "# %pip install pylatexenc"
   ],
   "outputs": [],
   "metadata": {}
  },
  {
   "cell_type": "code",
   "execution_count": null,
   "source": [
    "# Importing the required libraries.\n",
    "import csv, re, pandas as pd, numpy as np\n",
    "from pylatexenc.latex2text import LatexNodes2Text"
   ],
   "outputs": [],
   "metadata": {}
  },
  {
   "cell_type": "markdown",
   "source": [
    "## 1. Generating the dataframe from the raw data"
   ],
   "metadata": {}
  },
  {
   "cell_type": "code",
   "execution_count": null,
   "source": [
    "# Creating a dataframe from the raw data.\n",
    "df_data = pd.read_csv(\"../../data/raw/biorxiv_raw.csv\", header=0)"
   ],
   "outputs": [],
   "metadata": {}
  },
  {
   "cell_type": "code",
   "execution_count": null,
   "source": [
    "# Checking the dataframe.\n",
    "df_data.head()"
   ],
   "outputs": [],
   "metadata": {}
  },
  {
   "cell_type": "code",
   "execution_count": null,
   "source": [
    "# Visualizing the information of dataset.\n",
    "df_data.info()"
   ],
   "outputs": [],
   "metadata": {
    "tags": []
   }
  },
  {
   "cell_type": "markdown",
   "source": [
    "## 2. Cleaning and preprocessing the dataframe"
   ],
   "metadata": {}
  },
  {
   "cell_type": "code",
   "execution_count": null,
   "source": [
    "# Removing unnecessary columns.\n",
    "df_data.drop(axis=1, columns=[\"rel_num_authors\", \"version\", \"license\", \"type\"], inplace=True)"
   ],
   "outputs": [],
   "metadata": {}
  },
  {
   "cell_type": "code",
   "execution_count": null,
   "source": [
    "# Renaming the columns.\n",
    "columns = {\"rel_title\": \"title\", \"rel_doi\": \"doi\", \"rel_link\": \"id\", \"rel_abs\": \"abstract\",\n",
    "    \"rel_authors\": \"author_affil\", \"rel_date\": \"publication_date\", \"rel_site\": \"source\",\n",
    "    \"category\": \"subject_areas\"}\n",
    "df_data.rename(columns=columns, inplace=True)"
   ],
   "outputs": [],
   "metadata": {}
  },
  {
   "cell_type": "code",
   "execution_count": null,
   "source": [
    "# Defining the \"None\" value for the \"NaN\" values.\n",
    "df_data.replace({np.nan: None, \"none\": None, \"none.\": None, \"None\": None}, inplace=True)"
   ],
   "outputs": [],
   "metadata": {}
  },
  {
   "cell_type": "code",
   "execution_count": null,
   "source": [
    "# Normalizing the feature \"id\".\n",
    "df_data.id = df_data.id.apply(lambda x: x.split(\"/\")[-1])"
   ],
   "outputs": [],
   "metadata": {}
  },
  {
   "cell_type": "code",
   "execution_count": null,
   "source": [
    "# Normalizing the features \"title\" and \"abstract\".\n",
    "df_data.loc[:, [\"title\", \"abstract\"]] = df_data.loc[:, [\"title\", \"abstract\"]].apply(\n",
    "    lambda x: x.apply(lambda y: re.sub(\"/r/\", \"\", re.sub(\"@PER@CENT@\", \"%\", re.sub(r\"\\^\", \"\",\n",
    "        LatexNodes2Text().latex_to_text(re.sub(r\"\\s+\", \" \", re.sub(\"\\\\\\\\?%\", \"@PER@CENT@\",\n",
    "            re.sub(\"\\\\\\\\\", \"\\n\", re.sub(r\"\\\\href\\{(.+)\\}\\{(.+)\\}\", \"\\g<2> (\\g<1>)\",\n",
    "                y)))).strip())))) if y else None))"
   ],
   "outputs": [],
   "metadata": {}
  },
  {
   "cell_type": "code",
   "execution_count": null,
   "source": [
    "# Normalizing the feature \"subject_areas\".\n",
    "df_data.subject_areas = df_data.subject_areas.apply(lambda x: tuple([x]) if x else None)"
   ],
   "outputs": [],
   "metadata": {}
  },
  {
   "cell_type": "code",
   "execution_count": null,
   "source": [
    "# Changing the type of feature \"author_affil\".\n",
    "df_data.author_affil = df_data.author_affil.apply(lambda x: eval(x) if x else None)"
   ],
   "outputs": [],
   "metadata": {}
  },
  {
   "cell_type": "code",
   "execution_count": null,
   "source": [
    "# Normalizing the feature \"author_affil\".\n",
    "df_data.author_affil[df_data.author_affil.notnull()] = [\n",
    "    [{\"name\": re.sub(r\"\\s+\", \" \", LatexNodes2Text().latex_to_text(\n",
    "                re.sub(r\"^\\\"(.+)\\\"$\", \"\\g<1>\", re.sub(\"^-\\s\", \"\", author[\"author_name\"])))),\n",
    "      \"affiliation\": re.sub(r\"\\s+\", \" \", LatexNodes2Text().latex_to_text(\n",
    "                        re.sub(r\"^\\\"(.+)\\\"$\", \"\\g<1>\", re.sub(\"Affiliation:\", \"\",\n",
    "                            re.sub(r\"[0-9]+\\.\\s\", \"\", author[\"author_inst\"]), flags=re.IGNORECASE))))}\n",
    "     for author in authors] if len(authors) > 0 else None\n",
    "    for authors in df_data.author_affil[df_data.author_affil.notnull()]]"
   ],
   "outputs": [],
   "metadata": {}
  },
  {
   "cell_type": "code",
   "execution_count": null,
   "source": [
    "# Removing the invalid authors and affiliations.\n",
    "invalid_authors = [\"Revision Created\", \"Revision Converted\", \"Newly Submitted Revision\",\n",
    "                   \"Final Decision\"]\n",
    "for idx, authors in df_data.author_affil[df_data.author_affil.notnull()].iteritems():\n",
    "    if authors:\n",
    "        for author in list(authors):\n",
    "            if author[\"name\"].strip() in invalid_authors:\n",
    "                authors.remove(author)\n",
    "            elif not author[\"affiliation\"] or author[\"affiliation\"].lower().replace(\".\", \"\") == \"none\":\n",
    "                author[\"affiliation\"] = None\n",
    "        df_data.author_affil[idx] = tuple(authors)"
   ],
   "outputs": [],
   "metadata": {}
  },
  {
   "cell_type": "code",
   "execution_count": null,
   "source": [
    "# Creating the authors' and affiliations' IDs.\n",
    "df_data.author_affil[df_data.author_affil.notnull()] = [tuple([\n",
    "    {\"id\": str(hash(\"{} - {}\".format(author[\"name\"], df_data.source[idx]))) if author[\"name\"] else None,\n",
    "     \"name\": author[\"name\"] if author[\"name\"] else None,\n",
    "     \"affil_id\": str(hash(\"{} - {}\".format(author[\"affiliation\"], df_data.source[idx]))) \\\n",
    "         if author[\"affiliation\"] else None,\n",
    "     \"affiliation\": author[\"affiliation\"] if author[\"affiliation\"] else None, \"country\": None}\n",
    "    for author in authors])\n",
    "    for idx, authors in df_data.author_affil[df_data.author_affil.notnull()].iteritems()]"
   ],
   "outputs": [],
   "metadata": {}
  },
  {
   "cell_type": "code",
   "execution_count": null,
   "source": [
    "# Defining the \"None\" value for the \"NaN\" values.\n",
    "df_data.replace({np.nan: None, \"none\": None, \"none.\": None, \"None\": None}, inplace=True)"
   ],
   "outputs": [],
   "metadata": {}
  },
  {
   "cell_type": "code",
   "execution_count": null,
   "source": [
    "# Removing the duplicated records by features \"title\" and \"doi\".\n",
    "df_data = df_data.sort_values(by=[\"title\", \"publication_date\"]).drop_duplicates([\"title\", \"doi\"], \"last\")"
   ],
   "outputs": [],
   "metadata": {}
  },
  {
   "cell_type": "code",
   "execution_count": null,
   "source": [
    "# Checking the result.\n",
    "df_data.head()"
   ],
   "outputs": [],
   "metadata": {}
  },
  {
   "cell_type": "code",
   "execution_count": null,
   "source": [
    "# Visualizing the information of dataset.\n",
    "df_data.info()"
   ],
   "outputs": [],
   "metadata": {
    "tags": []
   }
  },
  {
   "cell_type": "markdown",
   "source": [
    "## 3. Saving the dataframe"
   ],
   "metadata": {}
  },
  {
   "cell_type": "code",
   "execution_count": null,
   "source": [
    "# Exporting the data to CSV file.\n",
    "df_data.to_csv(\"../../data/prepared/biorxiv_covid_19.csv\", index=False, quoting=csv.QUOTE_ALL)"
   ],
   "outputs": [],
   "metadata": {}
  }
 ],
 "metadata": {
  "kernelspec": {
   "name": "python3",
   "display_name": "Python 3.8.5 64-bit ('base': conda)"
  },
  "language_info": {
   "codemirror_mode": {
    "name": "ipython",
    "version": 3
   },
   "file_extension": ".py",
   "mimetype": "text/x-python",
   "name": "python",
   "nbconvert_exporter": "python",
   "pygments_lexer": "ipython3",
   "version": "3.8.5"
  },
  "interpreter": {
   "hash": "f50bd5474255f82aa829301912ce59e29110123be660cf8d7583f66a20371684"
  }
 },
 "nbformat": 4,
 "nbformat_minor": 2
}