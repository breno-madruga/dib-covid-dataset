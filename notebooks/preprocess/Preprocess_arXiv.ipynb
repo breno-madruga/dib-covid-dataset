{
 "cells": [
  {
   "cell_type": "markdown",
   "metadata": {},
   "source": [
    "# Cleaning and Preprocessing the arXiv publications related to COVID-19"
   ]
  },
  {
   "cell_type": "markdown",
   "metadata": {},
   "source": [
    "The publications' data were collected from [arXiv webpage](https://arxiv.org/covid19search) related to COVID-19."
   ]
  },
  {
   "cell_type": "code",
   "execution_count": 1,
   "metadata": {},
   "outputs": [],
   "source": [
    "# Uncomment to install the library.\n",
    "# %pip install pylatexenc"
   ]
  },
  {
   "cell_type": "code",
   "execution_count": 2,
   "metadata": {},
   "outputs": [],
   "source": [
    "# Importing the required libraries.\n",
    "import csv, re, pandas as pd, numpy as np\n",
    "from pylatexenc.latex2text import LatexNodes2Text\n",
    "from datetime import datetime"
   ]
  },
  {
   "cell_type": "markdown",
   "metadata": {},
   "source": [
    "## 1. Generating the dataframe from the raw data"
   ]
  },
  {
   "cell_type": "code",
   "execution_count": 3,
   "metadata": {},
   "outputs": [],
   "source": [
    "# Creating a dataframe from the raw data.\n",
    "df_data = pd.read_csv(\"../../data/raw/arxiv_raw.csv\", header=0)"
   ]
  },
  {
   "cell_type": "code",
   "execution_count": 4,
   "metadata": {},
   "outputs": [
    {
     "data": {
      "text/html": "<div>\n<style scoped>\n    .dataframe tbody tr th:only-of-type {\n        vertical-align: middle;\n    }\n\n    .dataframe tbody tr th {\n        vertical-align: top;\n    }\n\n    .dataframe thead th {\n        text-align: right;\n    }\n</style>\n<table border=\"1\" class=\"dataframe\">\n  <thead>\n    <tr style=\"text-align: right;\">\n      <th></th>\n      <th>id</th>\n      <th>subject_areas</th>\n      <th>title</th>\n      <th>authors</th>\n      <th>abstract</th>\n      <th>date</th>\n    </tr>\n  </thead>\n  <tbody>\n    <tr>\n      <th>0</th>\n      <td>arXiv:2103.03219</td>\n      <td>['General Finance']</td>\n      <td>The Impact of COVID-19 on Stock Market Volatil...</td>\n      <td>['Ateeb Akhter Shah Syed', 'Kaneez Fatima']</td>\n      <td>This paper examines the impact of coronavirus ...</td>\n      <td>11 February, 2021;        March 2021.</td>\n    </tr>\n    <tr>\n      <th>1</th>\n      <td>arXiv:2103.03055</td>\n      <td>['Image and Video Processing', 'Computer Visio...</td>\n      <td>Self-supervised deep convolutional neural netw...</td>\n      <td>['Matej Gazda', 'Jakub Gazda', 'Jan Plavka', '...</td>\n      <td>Chest radiography is a relatively cheap, widel...</td>\n      <td>4 March, 2021;        March 2021.</td>\n    </tr>\n    <tr>\n      <th>2</th>\n      <td>arXiv:2103.03038</td>\n      <td>['Computer Vision and Pattern Recognition']</td>\n      <td>Mobile Touchless Fingerprint Recognition: Impl...</td>\n      <td>['Jannis Priesnitz', 'Rolf Huesmann', 'Christi...</td>\n      <td>This work presents an automated touchless fing...</td>\n      <td>4 March, 2021;        March 2021.</td>\n    </tr>\n    <tr>\n      <th>3</th>\n      <td>arXiv:2103.02961</td>\n      <td>['Image and Video Processing', 'Computer Visio...</td>\n      <td>Probabilistic combination of eigenlungs-based ...</td>\n      <td>['Juan E. Arco', 'Andrés Ortiz', 'Javier Ramír...</td>\n      <td>The outbreak of the COVID-19 (Coronavirus dise...</td>\n      <td>4 March, 2021;        March 2021.</td>\n    </tr>\n    <tr>\n      <th>4</th>\n      <td>arXiv:2103.02917</td>\n      <td>['Computers and Society', 'Computation and Lan...</td>\n      <td>MP Twitter Engagement and Abuse Post-first COV...</td>\n      <td>['Tracie Farrell', 'Mehmet Bakir', 'Kalina Bon...</td>\n      <td>The UK has had a volatile political environmen...</td>\n      <td>4 March, 2021;        March 2021.</td>\n    </tr>\n  </tbody>\n</table>\n</div>",
      "text/plain": "                 id                                      subject_areas  \\\n0  arXiv:2103.03219                                ['General Finance']   \n1  arXiv:2103.03055  ['Image and Video Processing', 'Computer Visio...   \n2  arXiv:2103.03038        ['Computer Vision and Pattern Recognition']   \n3  arXiv:2103.02961  ['Image and Video Processing', 'Computer Visio...   \n4  arXiv:2103.02917  ['Computers and Society', 'Computation and Lan...   \n\n                                               title  \\\n0  The Impact of COVID-19 on Stock Market Volatil...   \n1  Self-supervised deep convolutional neural netw...   \n2  Mobile Touchless Fingerprint Recognition: Impl...   \n3  Probabilistic combination of eigenlungs-based ...   \n4  MP Twitter Engagement and Abuse Post-first COV...   \n\n                                             authors  \\\n0        ['Ateeb Akhter Shah Syed', 'Kaneez Fatima']   \n1  ['Matej Gazda', 'Jakub Gazda', 'Jan Plavka', '...   \n2  ['Jannis Priesnitz', 'Rolf Huesmann', 'Christi...   \n3  ['Juan E. Arco', 'Andrés Ortiz', 'Javier Ramír...   \n4  ['Tracie Farrell', 'Mehmet Bakir', 'Kalina Bon...   \n\n                                            abstract  \\\n0  This paper examines the impact of coronavirus ...   \n1  Chest radiography is a relatively cheap, widel...   \n2  This work presents an automated touchless fing...   \n3  The outbreak of the COVID-19 (Coronavirus dise...   \n4  The UK has had a volatile political environmen...   \n\n                                    date  \n0  11 February, 2021;        March 2021.  \n1      4 March, 2021;        March 2021.  \n2      4 March, 2021;        March 2021.  \n3      4 March, 2021;        March 2021.  \n4      4 March, 2021;        March 2021.  "
     },
     "execution_count": 4,
     "metadata": {},
     "output_type": "execute_result"
    }
   ],
   "source": [
    "# Checking the dataframe.\n",
    "df_data.head()"
   ]
  },
  {
   "cell_type": "code",
   "execution_count": 5,
   "metadata": {
    "tags": []
   },
   "outputs": [
    {
     "name": "stdout",
     "output_type": "stream",
     "text": [
      "<class 'pandas.core.frame.DataFrame'>\n",
      "RangeIndex: 3640 entries, 0 to 3639\n",
      "Data columns (total 6 columns):\n",
      " #   Column         Non-Null Count  Dtype \n",
      "---  ------         --------------  ----- \n",
      " 0   id             3640 non-null   object\n",
      " 1   subject_areas  3640 non-null   object\n",
      " 2   title          3640 non-null   object\n",
      " 3   authors        3640 non-null   object\n",
      " 4   abstract       3640 non-null   object\n",
      " 5   date           3640 non-null   object\n",
      "dtypes: object(6)\n",
      "memory usage: 170.8+ KB\n"
     ]
    }
   ],
   "source": [
    "# Visualizing the information of dataset.\n",
    "df_data.info()"
   ]
  },
  {
   "cell_type": "markdown",
   "metadata": {},
   "source": [
    "## 2. Cleaning and preprocessing the dataframe"
   ]
  },
  {
   "cell_type": "code",
   "execution_count": 6,
   "metadata": {},
   "outputs": [],
   "source": [
    "# Defining the \"None\" value for the \"NaN\" values.\n",
    "df_data.replace({np.nan: None}, inplace=True)"
   ]
  },
  {
   "cell_type": "code",
   "execution_count": 7,
   "metadata": {},
   "outputs": [],
   "source": [
    "# Normalizing the feature \"id\".\n",
    "df_data.id = df_data.id.apply(lambda x: x.replace(\"arXiv:\", \"\").strip())"
   ]
  },
  {
   "cell_type": "code",
   "execution_count": 8,
   "metadata": {},
   "outputs": [],
   "source": [
    "# Normalizing the feature \"subject_areas\".\n",
    "df_data.subject_areas = df_data.subject_areas.apply(lambda x: tuple(eval(x)))"
   ]
  },
  {
   "cell_type": "code",
   "execution_count": 9,
   "metadata": {
    "tags": []
   },
   "outputs": [],
   "source": [
    "# Normalizing the features \"title\" and \"abstract\".\n",
    "df_data.loc[:, [\"title\", \"abstract\"]] = df_data.loc[:, [\"title\", \"abstract\"]].apply(\n",
    "    lambda x: x.apply(lambda y: re.sub(\"/r/\", \"\", re.sub(\"@PER@CENT@\", \"%\", re.sub(r\"[\\^_]\", \"\",\n",
    "        LatexNodes2Text().latex_to_text(re.sub(r\"\\s+\", \" \",\n",
    "            re.sub(r\"\\\\?%\", \"@PER@CENT@\", y))).strip())))))"
   ]
  },
  {
   "cell_type": "code",
   "execution_count": 10,
   "metadata": {},
   "outputs": [],
   "source": [
    "# Normalizing the feature \"authors\".\n",
    "df_data.authors = [tuple([{\"id\": str(hash(\"{} - {}\".format(author, \"arXiv\"))), \"name\": author}\n",
    "                   for author in eval(authors)]) for authors in df_data.authors]"
   ]
  },
  {
   "cell_type": "code",
   "execution_count": 11,
   "metadata": {},
   "outputs": [],
   "source": [
    "# Normalizing the feature \"date\".\n",
    "df_data.date = df_data.date.apply(lambda x: re.sub(r\"\\s+\", \" \", x.split(\".\")[0]))\n",
    "df_data.date = df_data.date.apply(lambda x: x.replace(\"submitted \", \"\"))"
   ]
  },
  {
   "cell_type": "code",
   "execution_count": 12,
   "metadata": {},
   "outputs": [],
   "source": [
    "# Creating the feature \"publication_date\" from the feature \"date\".\n",
    "df_data[\"publication_date\"] = df_data.date.apply(\n",
    "    lambda x: datetime.strptime(x.split(\";\")[0].strip(), \"%d %B, %Y\").date())"
   ]
  },
  {
   "cell_type": "code",
   "execution_count": 13,
   "metadata": {},
   "outputs": [],
   "source": [
    "# Removing unnecessary columns.\n",
    "df_data.drop(axis=1, columns=\"date\", inplace=True)"
   ]
  },
  {
   "cell_type": "code",
   "execution_count": 14,
   "metadata": {},
   "outputs": [
    {
     "data": {
      "text/html": "<div>\n<style scoped>\n    .dataframe tbody tr th:only-of-type {\n        vertical-align: middle;\n    }\n\n    .dataframe tbody tr th {\n        vertical-align: top;\n    }\n\n    .dataframe thead th {\n        text-align: right;\n    }\n</style>\n<table border=\"1\" class=\"dataframe\">\n  <thead>\n    <tr style=\"text-align: right;\">\n      <th></th>\n      <th>id</th>\n      <th>subject_areas</th>\n      <th>title</th>\n      <th>authors</th>\n      <th>abstract</th>\n      <th>publication_date</th>\n    </tr>\n  </thead>\n  <tbody>\n    <tr>\n      <th>0</th>\n      <td>2103.03219</td>\n      <td>(General Finance,)</td>\n      <td>The Impact of COVID-19 on Stock Market Volatil...</td>\n      <td>({'id': '-8736464535247814394', 'name': 'Ateeb...</td>\n      <td>This paper examines the impact of coronavirus ...</td>\n      <td>2021-02-11</td>\n    </tr>\n    <tr>\n      <th>1</th>\n      <td>2103.03055</td>\n      <td>(Image and Video Processing, Computer Vision a...</td>\n      <td>Self-supervised deep convolutional neural netw...</td>\n      <td>({'id': '1387464675565637337', 'name': 'Matej ...</td>\n      <td>Chest radiography is a relatively cheap, widel...</td>\n      <td>2021-03-04</td>\n    </tr>\n    <tr>\n      <th>2</th>\n      <td>2103.03038</td>\n      <td>(Computer Vision and Pattern Recognition,)</td>\n      <td>Mobile Touchless Fingerprint Recognition: Impl...</td>\n      <td>({'id': '1917885517247673923', 'name': 'Jannis...</td>\n      <td>This work presents an automated touchless fing...</td>\n      <td>2021-03-04</td>\n    </tr>\n    <tr>\n      <th>3</th>\n      <td>2103.02961</td>\n      <td>(Image and Video Processing, Computer Vision a...</td>\n      <td>Probabilistic combination of eigenlungs-based ...</td>\n      <td>({'id': '-3330601887987387557', 'name': 'Juan ...</td>\n      <td>The outbreak of the COVID-19 (Coronavirus dise...</td>\n      <td>2021-03-04</td>\n    </tr>\n    <tr>\n      <th>4</th>\n      <td>2103.02917</td>\n      <td>(Computers and Society, Computation and Language)</td>\n      <td>MP Twitter Engagement and Abuse Post-first COV...</td>\n      <td>({'id': '-6377212943789062063', 'name': 'Traci...</td>\n      <td>The UK has had a volatile political environmen...</td>\n      <td>2021-03-04</td>\n    </tr>\n  </tbody>\n</table>\n</div>",
      "text/plain": "           id                                      subject_areas  \\\n0  2103.03219                                 (General Finance,)   \n1  2103.03055  (Image and Video Processing, Computer Vision a...   \n2  2103.03038         (Computer Vision and Pattern Recognition,)   \n3  2103.02961  (Image and Video Processing, Computer Vision a...   \n4  2103.02917  (Computers and Society, Computation and Language)   \n\n                                               title  \\\n0  The Impact of COVID-19 on Stock Market Volatil...   \n1  Self-supervised deep convolutional neural netw...   \n2  Mobile Touchless Fingerprint Recognition: Impl...   \n3  Probabilistic combination of eigenlungs-based ...   \n4  MP Twitter Engagement and Abuse Post-first COV...   \n\n                                             authors  \\\n0  ({'id': '-8736464535247814394', 'name': 'Ateeb...   \n1  ({'id': '1387464675565637337', 'name': 'Matej ...   \n2  ({'id': '1917885517247673923', 'name': 'Jannis...   \n3  ({'id': '-3330601887987387557', 'name': 'Juan ...   \n4  ({'id': '-6377212943789062063', 'name': 'Traci...   \n\n                                            abstract publication_date  \n0  This paper examines the impact of coronavirus ...       2021-02-11  \n1  Chest radiography is a relatively cheap, widel...       2021-03-04  \n2  This work presents an automated touchless fing...       2021-03-04  \n3  The outbreak of the COVID-19 (Coronavirus dise...       2021-03-04  \n4  The UK has had a volatile political environmen...       2021-03-04  "
     },
     "execution_count": 14,
     "metadata": {},
     "output_type": "execute_result"
    }
   ],
   "source": [
    "# Checking the result.\n",
    "df_data.head()"
   ]
  },
  {
   "cell_type": "code",
   "execution_count": 15,
   "metadata": {
    "tags": []
   },
   "outputs": [
    {
     "name": "stdout",
     "output_type": "stream",
     "text": [
      "<class 'pandas.core.frame.DataFrame'>\n",
      "RangeIndex: 3640 entries, 0 to 3639\n",
      "Data columns (total 6 columns):\n",
      " #   Column            Non-Null Count  Dtype \n",
      "---  ------            --------------  ----- \n",
      " 0   id                3640 non-null   object\n",
      " 1   subject_areas     3640 non-null   object\n",
      " 2   title             3640 non-null   object\n",
      " 3   authors           3640 non-null   object\n",
      " 4   abstract          3640 non-null   object\n",
      " 5   publication_date  3640 non-null   object\n",
      "dtypes: object(6)\n",
      "memory usage: 170.8+ KB\n"
     ]
    }
   ],
   "source": [
    "# Visualizing the information of dataset.\n",
    "df_data.info()"
   ]
  },
  {
   "cell_type": "markdown",
   "metadata": {},
   "source": [
    "## 3. Saving the dataframe"
   ]
  },
  {
   "cell_type": "code",
   "execution_count": 16,
   "metadata": {},
   "outputs": [],
   "source": [
    "# Exporting the data to CSV file.\n",
    "df_data.to_csv(\"../../data/prepared/arxiv_covid_19.csv\", index=False, quoting=csv.QUOTE_ALL)"
   ]
  }
 ],
 "metadata": {
  "kernelspec": {
   "display_name": "Python 3.8.5 64-bit ('estudos': conda)",
   "name": "python385jvsc74a57bd02e6a5491ea87a08a1cf17cf8bb76c9efa2b82a90397760dc18398c5d7702d505"
  },
  "language_info": {
   "codemirror_mode": {
    "name": "ipython",
    "version": 3
   },
   "file_extension": ".py",
   "mimetype": "text/x-python",
   "name": "python",
   "nbconvert_exporter": "python",
   "pygments_lexer": "ipython3",
   "version": "3.8.5"
  }
 },
 "nbformat": 4,
 "nbformat_minor": 2
}