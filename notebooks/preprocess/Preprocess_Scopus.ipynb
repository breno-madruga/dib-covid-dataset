{
 "cells": [
  {
   "cell_type": "markdown",
   "metadata": {},
   "source": [
    "# Cleaning and Preprocessing the Scopus publications related to COVID-19"
   ]
  },
  {
   "cell_type": "markdown",
   "metadata": {},
   "source": [
    "For collecting the Scopus publications related to COVID-19, we used the \"pybliometrics\" library. It is avaliable on https://pypi.org/project/pybliometrics/."
   ]
  },
  {
   "cell_type": "code",
   "execution_count": 1,
   "metadata": {},
   "outputs": [],
   "source": [
    "# Importing the required libraries.\n",
    "import re, csv, pandas as pd, numpy as np\n",
    "from pylatexenc.latex2text import LatexNodes2Text"
   ]
  },
  {
   "cell_type": "markdown",
   "metadata": {},
   "source": [
    "## 1. Generating the dataframe from the raw data"
   ]
  },
  {
   "cell_type": "code",
   "execution_count": 2,
   "metadata": {},
   "outputs": [],
   "source": [
    "# Creating a dataframe from the raw data.\n",
    "df_data = pd.read_csv(\"../../data/raw/scopus_raw.csv\", header=0, dtype=object)"
   ]
  },
  {
   "cell_type": "code",
   "execution_count": 3,
   "metadata": {},
   "outputs": [
    {
     "data": {
      "text/html": "<div>\n<style scoped>\n    .dataframe tbody tr th:only-of-type {\n        vertical-align: middle;\n    }\n\n    .dataframe tbody tr th {\n        vertical-align: top;\n    }\n\n    .dataframe thead th {\n        text-align: right;\n    }\n</style>\n<table border=\"1\" class=\"dataframe\">\n  <thead>\n    <tr style=\"text-align: right;\">\n      <th></th>\n      <th>id</th>\n      <th>doi</th>\n      <th>eid</th>\n      <th>pii</th>\n      <th>pubmed_id</th>\n      <th>title</th>\n      <th>abstract</th>\n      <th>description</th>\n      <th>publication_date</th>\n      <th>citation_num</th>\n      <th>...</th>\n      <th>vehicle_address</th>\n      <th>title_edition</th>\n      <th>publisher</th>\n      <th>affiliations</th>\n      <th>subject_areas</th>\n      <th>authors</th>\n      <th>author_affil</th>\n      <th>ref_count</th>\n      <th>references</th>\n      <th>period</th>\n    </tr>\n  </thead>\n  <tbody>\n    <tr>\n      <th>0</th>\n      <td>85086284745</td>\n      <td>10.1093/jas/skaa159</td>\n      <td>2-s2.0-85086284745</td>\n      <td>NaN</td>\n      <td>32447386</td>\n      <td>Effects of medium chain fatty acids as a mitig...</td>\n      <td>© 2020 The Author(s) 2020. Published by Oxford...</td>\n      <td>© 2020 The Author(s) 2020. Published by Oxford...</td>\n      <td>2019-12-31</td>\n      <td>1.0</td>\n      <td>...</td>\n      <td>NaN</td>\n      <td>NaN</td>\n      <td>Oxford University Press</td>\n      <td>({'id': '60000689', 'affiliation': 'Kansas Sta...</td>\n      <td>('Food Science', 'Animal Science and Zoology',...</td>\n      <td>({'id': '57205663870', 'name': 'Annie B. Lerne...</td>\n      <td>({'id': '57205663870', 'name': 'Annie B. Lerne...</td>\n      <td>30.0</td>\n      <td>({'id': '85015948816', 'title': 'Weight of the...</td>\n      <td>12-2019</td>\n    </tr>\n    <tr>\n      <th>1</th>\n      <td>85077574207</td>\n      <td>10.3390/v12010043</td>\n      <td>2-s2.0-85077574207</td>\n      <td>NaN</td>\n      <td>31905881</td>\n      <td>Feline infectious peritonitis virus NSP5 inhib...</td>\n      <td>© 2019 by the authors.Feline infectious perito...</td>\n      <td>© 2019 by the authors.Feline infectious perito...</td>\n      <td>2019-12-30</td>\n      <td>4.0</td>\n      <td>...</td>\n      <td>NaN</td>\n      <td>NaN</td>\n      <td>MDPI AG</td>\n      <td>({'id': '60017705', 'affiliation': 'Chinese Ac...</td>\n      <td>('Infectious Diseases', 'Virology')</td>\n      <td>({'id': '57193357295', 'name': 'Si Chen'}, {'i...</td>\n      <td>({'id': '57193357295', 'name': 'Si Chen', 'aff...</td>\n      <td>53.0</td>\n      <td>({'id': '33845329175', 'title': 'Factors assoc...</td>\n      <td>12-2019</td>\n    </tr>\n    <tr>\n      <th>2</th>\n      <td>85077542676</td>\n      <td>10.3390/v12010041</td>\n      <td>2-s2.0-85077542676</td>\n      <td>NaN</td>\n      <td>31905842</td>\n      <td>Investigation of the role of the spike protein...</td>\n      <td>© 2019 by the authorsPorcine epidemic diarrhea...</td>\n      <td>© 2019 by the authorsPorcine epidemic diarrhea...</td>\n      <td>2019-12-30</td>\n      <td>2.0</td>\n      <td>...</td>\n      <td>NaN</td>\n      <td>NaN</td>\n      <td>MDPI AG</td>\n      <td>({'id': '60005429', 'affiliation': 'National T...</td>\n      <td>('Infectious Diseases', 'Virology')</td>\n      <td>({'id': '57194272852', 'name': 'Chi Fei Kao'},...</td>\n      <td>({'id': '57194272852', 'name': 'Chi-Fei Kao', ...</td>\n      <td>31.0</td>\n      <td>({'id': '0018177616', 'title': 'A new coronavi...</td>\n      <td>12-2019</td>\n    </tr>\n    <tr>\n      <th>3</th>\n      <td>85077287373</td>\n      <td>10.1186/s12917-019-2212-2</td>\n      <td>2-s2.0-85077287373</td>\n      <td>NaN</td>\n      <td>31881873</td>\n      <td>Prevalence and phylogenetic analysis of porcin...</td>\n      <td>© 2019 The Author(s).Background: In China, lar...</td>\n      <td>© 2019 The Author(s).Background: In China, lar...</td>\n      <td>2019-12-27</td>\n      <td>8.0</td>\n      <td>...</td>\n      <td>NaN</td>\n      <td>NaN</td>\n      <td>BioMed Central Ltd.</td>\n      <td>({'id': '60004148', 'affiliation': 'Jiangxi Ag...</td>\n      <td>('Veterinary (all)',)</td>\n      <td>({'id': '56764850300', 'name': 'Fanfan Zhang'}...</td>\n      <td>({'id': '56764850300', 'name': 'Fanfan Zhang',...</td>\n      <td>42.0</td>\n      <td>({'id': '84962194707', 'title': 'Epidemiology ...</td>\n      <td>12-2019</td>\n    </tr>\n    <tr>\n      <th>4</th>\n      <td>85073749551</td>\n      <td>10.1016/j.jbiotec.2019.10.007</td>\n      <td>2-s2.0-85073749551</td>\n      <td>S0168165619308879</td>\n      <td>31614169</td>\n      <td>Preparation of virus-like particle mimetic nan...</td>\n      <td>© 2019 Elsevier B.V.Middle East respiratory sy...</td>\n      <td>© 2019 Elsevier B.V.Middle East respiratory sy...</td>\n      <td>2019-12-20</td>\n      <td>18.0</td>\n      <td>...</td>\n      <td>NaN</td>\n      <td>NaN</td>\n      <td>Elsevier B.V.</td>\n      <td>({'id': '60103680', 'affiliation': 'Shizuoka U...</td>\n      <td>('Biotechnology', 'Bioengineering', 'Applied M...</td>\n      <td>({'id': '55270209300', 'name': 'Tatsuya Kato'}...</td>\n      <td>({'id': '55270209300', 'name': 'Tatsuya Kato',...</td>\n      <td>31.0</td>\n      <td>({'id': '84869081784', 'title': 'Is the discov...</td>\n      <td>12-2019</td>\n    </tr>\n  </tbody>\n</table>\n<p>5 rows × 30 columns</p>\n</div>",
      "text/plain": "            id                            doi                 eid  \\\n0  85086284745            10.1093/jas/skaa159  2-s2.0-85086284745   \n1  85077574207              10.3390/v12010043  2-s2.0-85077574207   \n2  85077542676              10.3390/v12010041  2-s2.0-85077542676   \n3  85077287373      10.1186/s12917-019-2212-2  2-s2.0-85077287373   \n4  85073749551  10.1016/j.jbiotec.2019.10.007  2-s2.0-85073749551   \n\n                 pii pubmed_id  \\\n0                NaN  32447386   \n1                NaN  31905881   \n2                NaN  31905842   \n3                NaN  31881873   \n4  S0168165619308879  31614169   \n\n                                               title  \\\n0  Effects of medium chain fatty acids as a mitig...   \n1  Feline infectious peritonitis virus NSP5 inhib...   \n2  Investigation of the role of the spike protein...   \n3  Prevalence and phylogenetic analysis of porcin...   \n4  Preparation of virus-like particle mimetic nan...   \n\n                                            abstract  \\\n0  © 2020 The Author(s) 2020. Published by Oxford...   \n1  © 2019 by the authors.Feline infectious perito...   \n2  © 2019 by the authorsPorcine epidemic diarrhea...   \n3  © 2019 The Author(s).Background: In China, lar...   \n4  © 2019 Elsevier B.V.Middle East respiratory sy...   \n\n                                         description publication_date  \\\n0  © 2020 The Author(s) 2020. Published by Oxford...       2019-12-31   \n1  © 2019 by the authors.Feline infectious perito...       2019-12-30   \n2  © 2019 by the authorsPorcine epidemic diarrhea...       2019-12-30   \n3  © 2019 The Author(s).Background: In China, lar...       2019-12-27   \n4  © 2019 Elsevier B.V.Middle East respiratory sy...       2019-12-20   \n\n  citation_num  ... vehicle_address title_edition                publisher  \\\n0          1.0  ...             NaN           NaN  Oxford University Press   \n1          4.0  ...             NaN           NaN                  MDPI AG   \n2          2.0  ...             NaN           NaN                  MDPI AG   \n3          8.0  ...             NaN           NaN      BioMed Central Ltd.   \n4         18.0  ...             NaN           NaN            Elsevier B.V.   \n\n                                        affiliations  \\\n0  ({'id': '60000689', 'affiliation': 'Kansas Sta...   \n1  ({'id': '60017705', 'affiliation': 'Chinese Ac...   \n2  ({'id': '60005429', 'affiliation': 'National T...   \n3  ({'id': '60004148', 'affiliation': 'Jiangxi Ag...   \n4  ({'id': '60103680', 'affiliation': 'Shizuoka U...   \n\n                                       subject_areas  \\\n0  ('Food Science', 'Animal Science and Zoology',...   \n1                ('Infectious Diseases', 'Virology')   \n2                ('Infectious Diseases', 'Virology')   \n3                              ('Veterinary (all)',)   \n4  ('Biotechnology', 'Bioengineering', 'Applied M...   \n\n                                             authors  \\\n0  ({'id': '57205663870', 'name': 'Annie B. Lerne...   \n1  ({'id': '57193357295', 'name': 'Si Chen'}, {'i...   \n2  ({'id': '57194272852', 'name': 'Chi Fei Kao'},...   \n3  ({'id': '56764850300', 'name': 'Fanfan Zhang'}...   \n4  ({'id': '55270209300', 'name': 'Tatsuya Kato'}...   \n\n                                        author_affil ref_count  \\\n0  ({'id': '57205663870', 'name': 'Annie B. Lerne...      30.0   \n1  ({'id': '57193357295', 'name': 'Si Chen', 'aff...      53.0   \n2  ({'id': '57194272852', 'name': 'Chi-Fei Kao', ...      31.0   \n3  ({'id': '56764850300', 'name': 'Fanfan Zhang',...      42.0   \n4  ({'id': '55270209300', 'name': 'Tatsuya Kato',...      31.0   \n\n                                          references   period  \n0  ({'id': '85015948816', 'title': 'Weight of the...  12-2019  \n1  ({'id': '33845329175', 'title': 'Factors assoc...  12-2019  \n2  ({'id': '0018177616', 'title': 'A new coronavi...  12-2019  \n3  ({'id': '84962194707', 'title': 'Epidemiology ...  12-2019  \n4  ({'id': '84869081784', 'title': 'Is the discov...  12-2019  \n\n[5 rows x 30 columns]"
     },
     "execution_count": 3,
     "metadata": {},
     "output_type": "execute_result"
    }
   ],
   "source": [
    "# Checking the dataframe.\n",
    "df_data.head()"
   ]
  },
  {
   "cell_type": "code",
   "execution_count": 4,
   "metadata": {
    "tags": []
   },
   "outputs": [
    {
     "name": "stdout",
     "output_type": "stream",
     "text": [
      "<class 'pandas.core.frame.DataFrame'>\n",
      "RangeIndex: 84613 entries, 0 to 84612\n",
      "Data columns (total 30 columns):\n",
      " #   Column            Non-Null Count  Dtype \n",
      "---  ------            --------------  ----- \n",
      " 0   id                84613 non-null  object\n",
      " 1   doi               81883 non-null  object\n",
      " 2   eid               84610 non-null  object\n",
      " 3   pii               24426 non-null  object\n",
      " 4   pubmed_id         58339 non-null  object\n",
      " 5   title             84610 non-null  object\n",
      " 6   abstract          52351 non-null  object\n",
      " 7   description       52351 non-null  object\n",
      " 8   publication_date  84610 non-null  object\n",
      " 9   citation_num      84610 non-null  object\n",
      " 10  language          84161 non-null  object\n",
      " 11  production_type   84610 non-null  object\n",
      " 12  source_type       84610 non-null  object\n",
      " 13  auth_keywords     46201 non-null  object\n",
      " 14  index_terms       50756 non-null  object\n",
      " 15  issn              83048 non-null  object\n",
      " 16  isbn              1707 non-null   object\n",
      " 17  conf_location     0 non-null      object\n",
      " 18  conference_name   2047 non-null   object\n",
      " 19  vehicle_name      84610 non-null  object\n",
      " 20  vehicle_address   0 non-null      object\n",
      " 21  title_edition     2041 non-null   object\n",
      " 22  publisher         84606 non-null  object\n",
      " 23  affiliations      78478 non-null  object\n",
      " 24  subject_areas     84565 non-null  object\n",
      " 25  authors           83246 non-null  object\n",
      " 26  author_affil      83351 non-null  object\n",
      " 27  ref_count         73554 non-null  object\n",
      " 28  references        73542 non-null  object\n",
      " 29  period            84613 non-null  object\n",
      "dtypes: object(30)\n",
      "memory usage: 19.4+ MB\n"
     ]
    }
   ],
   "source": [
    "# Visualizing the information of dataset.\n",
    "df_data.info()"
   ]
  },
  {
   "cell_type": "markdown",
   "metadata": {},
   "source": [
    "## 2. Cleaning and preprocessing the dataframe"
   ]
  },
  {
   "cell_type": "code",
   "execution_count": 5,
   "metadata": {},
   "outputs": [],
   "source": [
    "# Defining the function \"clean_text\" to clean and preprocess any text.\n",
    "def clean_text(text, has_latex=False):\n",
    "    if text:\n",
    "        text = re.sub(r\"\\u2fff(s|\\s)\", r\"'\\1\", re.sub(r\"\\s+\", \" \", re.sub(r\"\\ufeff\\.?\", \"\", re.sub(\n",
    "            r\"\\\\\\\\(\\’\\s)?\", \"\", str(text))))).replace(\"\\u200b\", \"\").replace(\"\\ue001\", \"\").replace(\n",
    "            \"\\ue061\", \"\").replace(\"\\u202f\", \"\").replace(\"\\u2060\", \"\").replace(\"\\u200f\", \"\").replace(\n",
    "            \"\\u200e\", \"\").replace(\"\\u202c\", \"\").replace(\"&#x2013;\", \"-\").replace(\"&quot\", \"\\\"\\\"\").replace(\n",
    "            \"\\u200c\", \"\").replace(\"\\\\u0019\", \"\").replace(\"\\\\s\", \"s\").replace(\"\\u202a\", \"\").replace(\n",
    "            \"\\u202d\", \"-\").replace(\"\\u0383\", \"-\").replace(\"\\u20f3\", \"ó\").replace(\"\\u20fa\", \"ú\").replace(\n",
    "            \"\\u2fff\", \"-\").strip()\n",
    "        text = text.replace(\"TNF-alpha induced\", \"TNF-α induced\").replace(\n",
    "            \"TNF-Alpha induced\", \"TNF-α induced\").replace(\"TNF- ␣ induced\", \"TNF-α induced\").replace(\n",
    "            \"TNF-αinduced\", \"TNF-α induced\").replace(\n",
    "            \"via NF- \\u242c B pathway\", \"via NF-κB pathway\").replace(\n",
    "            \"via NF-kappaB pathway\", \"via NF-κB pathway\").strip()\n",
    "        if has_latex:\n",
    "            text = LatexNodes2Text().latex_to_text(re.sub(\"\\\\?%\", \"@PER@CENT@\", text)).replace(\"@PER@CENT@\", \"%\")\n",
    "        text = re.sub(r\"\\s+\", \" \", re.sub(r\"\\-{2,}\", \"-\", re.sub(r\"\\s?\\xad(\\s|\\-)?\", \"-\", text))).replace(\n",
    "            \"\\\\\", \"\").replace(\"\\\\%\", \"%\").replace(\"()\", \"\").replace(\"[]\", \"\").strip()\n",
    "        return text\n",
    "    else:\n",
    "        return None"
   ]
  },
  {
   "cell_type": "code",
   "execution_count": 6,
   "metadata": {},
   "outputs": [],
   "source": [
    "# Removing the invalid articles.\n",
    "df_data = df_data.loc[df_data.id.notnull() & df_data.eid.notnull()]"
   ]
  },
  {
   "cell_type": "code",
   "execution_count": 7,
   "metadata": {},
   "outputs": [],
   "source": [
    "# Defining the \"None\" value for the \"NaN\" values.\n",
    "df_data.replace({np.nan: None}, inplace=True)"
   ]
  },
  {
   "cell_type": "code",
   "execution_count": 8,
   "metadata": {},
   "outputs": [],
   "source": [
    "# Defining the \"zero\" value for the articles without numbers of citation and references.\n",
    "df_data.citation_num.loc[df_data.citation_num.isnull()] = 0\n",
    "df_data.ref_count.loc[df_data.ref_count.isnull()] = 0"
   ]
  },
  {
   "cell_type": "code",
   "execution_count": 9,
   "metadata": {},
   "outputs": [],
   "source": [
    "# Normalizing the feature \"abstract\".\n",
    "df_data.abstract.loc[df_data.abstract.isnull() & df_data.description.notnull()] = df_data.description.loc[\n",
    "    df_data.abstract.isnull() & df_data.description.notnull()]\n",
    "df_data.abstract.loc[df_data.abstract.notnull()] = df_data.abstract.loc[df_data.abstract.notnull()].apply(\n",
    "    lambda x: clean_text(x, True))"
   ]
  },
  {
   "cell_type": "code",
   "execution_count": 10,
   "metadata": {},
   "outputs": [],
   "source": [
    "# Normalizing the feature \"vehicle_name\".\n",
    "df_data.vehicle_name.loc[df_data.conference_name.notnull() & df_data.vehicle_name.notnull()] = df_data.conference_name.loc[df_data.conference_name.notnull() & df_data.vehicle_name.notnull()]\n",
    "df_data.vehicle_name.loc[df_data.vehicle_name.notnull()] = df_data.vehicle_name.loc[\n",
    "    df_data.vehicle_name.notnull()].apply(clean_text)"
   ]
  },
  {
   "cell_type": "code",
   "execution_count": 11,
   "metadata": {},
   "outputs": [],
   "source": [
    "# Normalizing the feature \"title\".\n",
    "df_data.title.loc[df_data.title.notnull()] = df_data.title.loc[df_data.title.notnull()].apply(clean_text)"
   ]
  },
  {
   "cell_type": "code",
   "execution_count": 12,
   "metadata": {},
   "outputs": [],
   "source": [
    "# Removing unnecessary columns.\n",
    "columns_drop = [\"eid\", \"pii\", \"description\", \"isbn\", \"conf_location\", \"conference_name\",\n",
    "    \"vehicle_address\", \"title_edition\"]\n",
    "df_data.drop(axis=1, columns=columns_drop, inplace=True)"
   ]
  },
  {
   "cell_type": "code",
   "execution_count": 13,
   "metadata": {},
   "outputs": [],
   "source": [
    "# Changing the type of some features.\n",
    "df_data.loc[:, [\"citation_num\", \"ref_count\"]] = df_data.loc[\n",
    "    :, [\"citation_num\", \"ref_count\"]].astype(np.float32)\n",
    "df_data.auth_keywords.loc[df_data.auth_keywords.notnull()] = df_data.auth_keywords.loc[\n",
    "    df_data.auth_keywords.notnull()].apply(eval)\n",
    "df_data.index_terms.loc[df_data.index_terms.notnull()] = df_data.index_terms.loc[\n",
    "    df_data.index_terms.notnull()].apply(eval)\n",
    "df_data.affiliations.loc[df_data.affiliations.notnull()] = df_data.affiliations.loc[\n",
    "    df_data.affiliations.notnull()].apply(eval)\n",
    "df_data.subject_areas.loc[df_data.subject_areas.notnull()] = df_data.subject_areas.loc[\n",
    "    df_data.subject_areas.notnull()].apply(eval)\n",
    "df_data.authors.loc[df_data.authors.notnull()] = df_data.authors.loc[df_data.authors.notnull()].apply(eval)\n",
    "df_data.author_affil.loc[df_data.author_affil.notnull()] = df_data.author_affil.loc[\n",
    "    df_data.author_affil.notnull()].apply(eval)\n",
    "df_data.references.loc[df_data.references.notnull()] = df_data.references.loc[\n",
    "    df_data.references.notnull()].apply(eval)\n",
    "df_data.publication_date = pd.to_datetime(df_data.publication_date)"
   ]
  },
  {
   "cell_type": "code",
   "execution_count": 14,
   "metadata": {},
   "outputs": [
    {
     "name": "stderr",
     "output_type": "stream",
     "text": [
      "/opt/Anaconda/envs/estudos/lib/python3.8/site-packages/pandas/core/indexing.py:1637: SettingWithCopyWarning: \n",
      "A value is trying to be set on a copy of a slice from a DataFrame\n",
      "\n",
      "See the caveats in the documentation: https://pandas.pydata.org/pandas-docs/stable/user_guide/indexing.html#returning-a-view-versus-a-copy\n",
      "  self._setitem_single_block(indexer, value, name)\n"
     ]
    }
   ],
   "source": [
    "# Normalizing the itens contained in the features \"auth_keywords\" and \"index_terms\".\n",
    "df_data.auth_keywords.loc[df_data.auth_keywords.notnull()] = df_data.auth_keywords.loc[\n",
    "    df_data.auth_keywords.notnull()].apply(lambda x: tuple([clean_text(item) for item in x]))\n",
    "df_data.index_terms.loc[df_data.index_terms.notnull()] = df_data.index_terms.loc[\n",
    "    df_data.index_terms.notnull()].apply(lambda x: tuple([clean_text(item) for item in x]))"
   ]
  },
  {
   "cell_type": "code",
   "execution_count": 15,
   "metadata": {
    "tags": []
   },
   "outputs": [
    {
     "name": "stdout",
     "output_type": "stream",
     "text": [
      "auth_keywords: 0\n",
      "index_terms: 0\n",
      "subject_areas: 0\n"
     ]
    }
   ],
   "source": [
    "# Checking there are invalid values in the features \"auth_keywords\", \"index_terms\" and \"subject_areas\".\n",
    "for column in [\"auth_keywords\", \"index_terms\", \"subject_areas\"]:\n",
    "    count = df_data.loc[df_data[column].notnull(), column][\n",
    "                [np.any([item == None or item.lower() == \"none\" for item in items])\n",
    "                 for items in df_data.loc[df_data[column].notnull(), column]]].size\n",
    "    print(\"{}: {}\".format(column, count))"
   ]
  },
  {
   "cell_type": "code",
   "execution_count": 16,
   "metadata": {},
   "outputs": [
    {
     "name": "stderr",
     "output_type": "stream",
     "text": [
      "/opt/Anaconda/envs/estudos/lib/python3.8/site-packages/numpy/core/_asarray.py:83: VisibleDeprecationWarning: Creating an ndarray from ragged nested sequences (which is a list-or-tuple of lists-or-tuples-or ndarrays with different lengths or shapes) is deprecated. If you meant to do this, you must specify 'dtype=object' when creating the ndarray\n",
      "  return array(a, dtype, copy=False, order=order)\n",
      "/opt/Anaconda/envs/estudos/lib/python3.8/site-packages/pandas/core/internals/blocks.py:983: VisibleDeprecationWarning: Creating an ndarray from ragged nested sequences (which is a list-or-tuple of lists-or-tuples-or ndarrays with different lengths or shapes) is deprecated. If you meant to do this, you must specify 'dtype=object' when creating the ndarray\n",
      "  arr_value = np.array(value)\n"
     ]
    }
   ],
   "source": [
    "# Removing the invalid values in the features \"auth_keywords\", \"index_terms\" and \"subject_areas\".\n",
    "for column in [\"auth_keywords\", \"index_terms\", \"subject_areas\"]:\n",
    "    df_data.loc[df_data[column].notnull(), column] = [\n",
    "        tuple([item for item in items if item])\n",
    "        for items in df_data.loc[df_data[column].notnull(), column]]\n",
    "    df_data.loc[df_data[column].notnull(), column] = df_data.loc[\n",
    "        df_data[column].notnull(), column].apply(lambda x: x if len(x) > 0 else None)"
   ]
  },
  {
   "cell_type": "code",
   "execution_count": 17,
   "metadata": {},
   "outputs": [],
   "source": [
    "# Normalizing the content contained in the features \"authors\", \"affiliations\" and \"author_affil\".\n",
    "df_data.affiliations.loc[df_data.affiliations.notnull()] = df_data.affiliations.loc[\n",
    "    df_data.affiliations.notnull()].apply(lambda x: tuple([{\"id\": item[\"id\"],\n",
    "        \"affiliation\": clean_text(item[\"affiliation\"]), \"country\": item[\"country\"]}\n",
    "        for item in x if item[\"id\"]]))\n",
    "df_data.author_affil.loc[df_data.author_affil.notnull()] = df_data.author_affil.loc[\n",
    "    df_data.author_affil.notnull()].apply(lambda x: tuple(\n",
    "        [{\"id\": item[\"id\"], \"name\": clean_text(item[\"name\"]), \"affil_id\": item[\"affil_id\"],\n",
    "          \"affiliation\": clean_text(item[\"affiliation\"]), \"country\": item[\"country\"]}\n",
    "         for item in x if item[\"id\"] or item[\"name\"] or item[\"affil_id\"] or \\\n",
    "             item[\"affiliation\"] or item[\"country\"]]))\n",
    "df_data.authors.loc[df_data.authors.notnull()] = df_data.authors.loc[\n",
    "    df_data.authors.notnull()].apply(lambda x: tuple(\n",
    "        [{\"id\": item[\"id\"], \"name\": clean_text(item[\"name\"])} for item in x if item[\"id\"]]))"
   ]
  },
  {
   "cell_type": "code",
   "execution_count": 18,
   "metadata": {},
   "outputs": [],
   "source": [
    "# Removing the invalid values in the features \"authors\", \"affiliations\" and \"author_affil\".\n",
    "for column in [\"authors\", \"affiliations\", \"author_affil\"]:\n",
    "    df_data.loc[df_data[column].notnull(), column] = df_data.loc[\n",
    "        df_data[column].notnull(), column].apply(lambda x: x if len(x) > 0 else None)"
   ]
  },
  {
   "cell_type": "code",
   "execution_count": 19,
   "metadata": {},
   "outputs": [],
   "source": [
    "# Creating the affiliations' and authors' IDs for those that have not a ID.\n",
    "df_data.author_affil.loc[df_data.author_affil.notnull()] = df_data.author_affil.loc[\n",
    "    df_data.author_affil.notnull()].apply(lambda x: tuple([{\n",
    "        \"id\": item[\"id\"] if item[\"id\"] and item[\"name\"] else \\\n",
    "            str(hash(\"{} - {}\".format(item[\"name\"], \"Scopus\"))) if item[\"name\"] else None,\n",
    "        \"name\": item[\"name\"],\n",
    "        \"affil_id\": item[\"affil_id\"] if item[\"affil_id\"] and item[\"affiliation\"] else \\\n",
    "            str(hash(\"{} - {}\".format(item[\"affiliation\"], \"Scopus\"))) \\\n",
    "                if item[\"affiliation\"] else None,\n",
    "        \"affiliation\": item[\"affiliation\"], \"country\": item[\"country\"]}\n",
    "    for item in x]))"
   ]
  },
  {
   "cell_type": "code",
   "execution_count": 20,
   "metadata": {},
   "outputs": [],
   "source": [
    "# Removing duplicates within the list of affiliations and authors.\n",
    "df_data.author_affil.loc[df_data.author_affil.notnull()] = [\n",
    "    set([(au[\"id\"], au[\"name\"], au[\"affil_id\"],\n",
    "        au[\"affiliation\"], au[\"country\"]) for au in row])\n",
    "    for row in df_data.author_affil[df_data.author_affil.notnull()]]\n",
    "df_data.author_affil.loc[df_data.author_affil.notnull()] = [tuple([dict(zip(\n",
    "        [\"id\", \"name\", \"affil_id\", \"affiliation\", \"country\"], au)) for au in row])\n",
    "    for row in df_data.author_affil[df_data.author_affil.notnull()]]"
   ]
  },
  {
   "cell_type": "code",
   "execution_count": 21,
   "metadata": {},
   "outputs": [],
   "source": [
    "# Removing the duplicated records by features \"title\" and \"doi\".\n",
    "df_data = pd.concat([df_data[df_data.title.isnull() | df_data.doi.isnull()],\n",
    "    df_data[df_data.title.notnull() & df_data.doi.notnull()].sort_values(\n",
    "        by=[\"title\", \"citation_num\", \"publication_date\"]).drop_duplicates(\n",
    "            [\"title\", \"doi\"], \"last\")], ignore_index=True)"
   ]
  },
  {
   "cell_type": "code",
   "execution_count": 22,
   "metadata": {},
   "outputs": [],
   "source": [
    "# Normalizing the feature \"references\".\n",
    "df_data.references.loc[df_data.references.notnull()] = df_data.references.loc[\n",
    "    df_data.references.notnull()].apply(lambda x: tuple(\n",
    "        [{\"id\": ref[\"id\"], \"title\": clean_text(ref[\"title\"], True),\n",
    "          \"doi\": clean_text(ref[\"doi\"]), \"authors\": clean_text(ref[\"authors\"], True)}\n",
    "         for ref in x]))"
   ]
  },
  {
   "cell_type": "code",
   "execution_count": 23,
   "metadata": {},
   "outputs": [
    {
     "data": {
      "text/html": "<div>\n<style scoped>\n    .dataframe tbody tr th:only-of-type {\n        vertical-align: middle;\n    }\n\n    .dataframe tbody tr th {\n        vertical-align: top;\n    }\n\n    .dataframe thead th {\n        text-align: right;\n    }\n</style>\n<table border=\"1\" class=\"dataframe\">\n  <thead>\n    <tr style=\"text-align: right;\">\n      <th></th>\n      <th>id</th>\n      <th>doi</th>\n      <th>pubmed_id</th>\n      <th>title</th>\n      <th>abstract</th>\n      <th>publication_date</th>\n      <th>citation_num</th>\n      <th>language</th>\n      <th>production_type</th>\n      <th>source_type</th>\n      <th>...</th>\n      <th>issn</th>\n      <th>vehicle_name</th>\n      <th>publisher</th>\n      <th>affiliations</th>\n      <th>subject_areas</th>\n      <th>authors</th>\n      <th>author_affil</th>\n      <th>ref_count</th>\n      <th>references</th>\n      <th>period</th>\n    </tr>\n  </thead>\n  <tbody>\n    <tr>\n      <th>0</th>\n      <td>85086071498</td>\n      <td>None</td>\n      <td>None</td>\n      <td>Apping and visualisation of health data, le co...</td>\n      <td>© 2019 University of L'Aquila, Department of C...</td>\n      <td>2019-12-01</td>\n      <td>1.0</td>\n      <td>eng</td>\n      <td>Journal</td>\n      <td>j</td>\n      <td>...</td>\n      <td>18285961</td>\n      <td>DISEGNARECON</td>\n      <td>University of L'Aquila, Department of Civil Co...</td>\n      <td>({'id': '60010110', 'affiliation': 'Università...</td>\n      <td>(Architecture, Visual Arts and Performing Arts...</td>\n      <td>({'id': '57218914310', 'name': 'Enrico Cicald'...</td>\n      <td>({'id': '57218914310', 'name': 'Enrico Cicald'...</td>\n      <td>27.0</td>\n      <td>({'id': '77949657266', 'title': 'Health resear...</td>\n      <td>12-2019</td>\n    </tr>\n    <tr>\n      <th>1</th>\n      <td>85098881043</td>\n      <td>None</td>\n      <td>None</td>\n      <td>CODS-COMAD 2021 - Proceedings of the 3rd ACM I...</td>\n      <td>The proceedings contain 93 papers. The topics ...</td>\n      <td>2020-01-02</td>\n      <td>0.0</td>\n      <td>eng</td>\n      <td>Conference Proceeding</td>\n      <td>p</td>\n      <td>...</td>\n      <td>None</td>\n      <td>3rd ACM India Joint International Conference o...</td>\n      <td>Association for Computing Machinery</td>\n      <td>None</td>\n      <td>(Human-Computer Interaction, Computer Networks...</td>\n      <td>None</td>\n      <td>None</td>\n      <td>0.0</td>\n      <td>None</td>\n      <td>01-2020</td>\n    </tr>\n    <tr>\n      <th>2</th>\n      <td>85082342162</td>\n      <td>None</td>\n      <td>32200398</td>\n      <td>The Novel Coronavirus (SARS-CoV-2) Epidemic</td>\n      <td>None</td>\n      <td>2020-01-01</td>\n      <td>14.0</td>\n      <td>eng</td>\n      <td>Journal</td>\n      <td>j</td>\n      <td>...</td>\n      <td>03044602</td>\n      <td>Annals of the Academy of Medicine, Singapore</td>\n      <td>NLM (Medline)</td>\n      <td>({'id': '60017161', 'affiliation': 'National U...</td>\n      <td>(Medicine (all),)</td>\n      <td>({'id': '8161583900', 'name': 'Li Yang Hsu'}, ...</td>\n      <td>({'id': '57215908259', 'name': 'Jeremy Fy Lim'...</td>\n      <td>0.0</td>\n      <td>None</td>\n      <td>01-2020</td>\n    </tr>\n    <tr>\n      <th>3</th>\n      <td>85083405993</td>\n      <td>None</td>\n      <td>32291373</td>\n      <td>Gastrointestinal Presentation in COVID-19 in I...</td>\n      <td>Severe acute respiratory syndrome coronavirus ...</td>\n      <td>2020-01-01</td>\n      <td>7.0</td>\n      <td>eng</td>\n      <td>Journal</td>\n      <td>j</td>\n      <td>...</td>\n      <td>01259326</td>\n      <td>Acta medica Indonesiana</td>\n      <td>NLM (Medline)</td>\n      <td>({'id': '60069377', 'affiliation': 'Universita...</td>\n      <td>(Medicine (all),)</td>\n      <td>({'id': '57202798959', 'name': 'Muhammad Khifz...</td>\n      <td>({'id': '57216406590', 'name': 'Fauzia Kirana'...</td>\n      <td>0.0</td>\n      <td>None</td>\n      <td>01-2020</td>\n    </tr>\n    <tr>\n      <th>4</th>\n      <td>85083410524</td>\n      <td>None</td>\n      <td>32291376</td>\n      <td>Clinical Progression of COVID-19 Patient with ...</td>\n      <td>Coronavirus Disease 2019 (COVID-19), previousl...</td>\n      <td>2020-01-01</td>\n      <td>6.0</td>\n      <td>eng</td>\n      <td>Journal</td>\n      <td>j</td>\n      <td>...</td>\n      <td>01259326</td>\n      <td>Acta medica Indonesiana</td>\n      <td>NLM (Medline)</td>\n      <td>({'id': '60196806', 'affiliation': 'RSUP Persa...</td>\n      <td>(Medicine (all),)</td>\n      <td>({'id': '36058554600', 'name': 'Erlina Burhan'...</td>\n      <td>({'id': '57216406235', 'name': 'Ibrahim Dharma...</td>\n      <td>0.0</td>\n      <td>None</td>\n      <td>01-2020</td>\n    </tr>\n  </tbody>\n</table>\n<p>5 rows × 22 columns</p>\n</div>",
      "text/plain": "            id   doi pubmed_id  \\\n0  85086071498  None      None   \n1  85098881043  None      None   \n2  85082342162  None  32200398   \n3  85083405993  None  32291373   \n4  85083410524  None  32291376   \n\n                                               title  \\\n0  Apping and visualisation of health data, le co...   \n1  CODS-COMAD 2021 - Proceedings of the 3rd ACM I...   \n2        The Novel Coronavirus (SARS-CoV-2) Epidemic   \n3  Gastrointestinal Presentation in COVID-19 in I...   \n4  Clinical Progression of COVID-19 Patient with ...   \n\n                                            abstract publication_date  \\\n0  © 2019 University of L'Aquila, Department of C...       2019-12-01   \n1  The proceedings contain 93 papers. The topics ...       2020-01-02   \n2                                               None       2020-01-01   \n3  Severe acute respiratory syndrome coronavirus ...       2020-01-01   \n4  Coronavirus Disease 2019 (COVID-19), previousl...       2020-01-01   \n\n  citation_num language        production_type source_type  ...      issn  \\\n0          1.0      eng                Journal           j  ...  18285961   \n1          0.0      eng  Conference Proceeding           p  ...      None   \n2         14.0      eng                Journal           j  ...  03044602   \n3          7.0      eng                Journal           j  ...  01259326   \n4          6.0      eng                Journal           j  ...  01259326   \n\n                                        vehicle_name  \\\n0                                       DISEGNARECON   \n1  3rd ACM India Joint International Conference o...   \n2       Annals of the Academy of Medicine, Singapore   \n3                            Acta medica Indonesiana   \n4                            Acta medica Indonesiana   \n\n                                           publisher  \\\n0  University of L'Aquila, Department of Civil Co...   \n1                Association for Computing Machinery   \n2                                      NLM (Medline)   \n3                                      NLM (Medline)   \n4                                      NLM (Medline)   \n\n                                        affiliations  \\\n0  ({'id': '60010110', 'affiliation': 'Università...   \n1                                               None   \n2  ({'id': '60017161', 'affiliation': 'National U...   \n3  ({'id': '60069377', 'affiliation': 'Universita...   \n4  ({'id': '60196806', 'affiliation': 'RSUP Persa...   \n\n                                       subject_areas  \\\n0  (Architecture, Visual Arts and Performing Arts...   \n1  (Human-Computer Interaction, Computer Networks...   \n2                                  (Medicine (all),)   \n3                                  (Medicine (all),)   \n4                                  (Medicine (all),)   \n\n                                             authors  \\\n0  ({'id': '57218914310', 'name': 'Enrico Cicald'...   \n1                                               None   \n2  ({'id': '8161583900', 'name': 'Li Yang Hsu'}, ...   \n3  ({'id': '57202798959', 'name': 'Muhammad Khifz...   \n4  ({'id': '36058554600', 'name': 'Erlina Burhan'...   \n\n                                        author_affil ref_count  \\\n0  ({'id': '57218914310', 'name': 'Enrico Cicald'...      27.0   \n1                                               None       0.0   \n2  ({'id': '57215908259', 'name': 'Jeremy Fy Lim'...       0.0   \n3  ({'id': '57216406590', 'name': 'Fauzia Kirana'...       0.0   \n4  ({'id': '57216406235', 'name': 'Ibrahim Dharma...       0.0   \n\n                                          references   period  \n0  ({'id': '77949657266', 'title': 'Health resear...  12-2019  \n1                                               None  01-2020  \n2                                               None  01-2020  \n3                                               None  01-2020  \n4                                               None  01-2020  \n\n[5 rows x 22 columns]"
     },
     "execution_count": 23,
     "metadata": {},
     "output_type": "execute_result"
    }
   ],
   "source": [
    "# Checking the result.\n",
    "df_data.head()"
   ]
  },
  {
   "cell_type": "code",
   "execution_count": 24,
   "metadata": {
    "tags": []
   },
   "outputs": [
    {
     "name": "stdout",
     "output_type": "stream",
     "text": [
      "<class 'pandas.core.frame.DataFrame'>\n",
      "RangeIndex: 84526 entries, 0 to 84525\n",
      "Data columns (total 22 columns):\n",
      " #   Column            Non-Null Count  Dtype         \n",
      "---  ------            --------------  -----         \n",
      " 0   id                84526 non-null  object        \n",
      " 1   doi               81799 non-null  object        \n",
      " 2   pubmed_id         58269 non-null  object        \n",
      " 3   title             84526 non-null  object        \n",
      " 4   abstract          52326 non-null  object        \n",
      " 5   publication_date  84526 non-null  datetime64[ns]\n",
      " 6   citation_num      84526 non-null  object        \n",
      " 7   language          84077 non-null  object        \n",
      " 8   production_type   84526 non-null  object        \n",
      " 9   source_type       84526 non-null  object        \n",
      " 10  auth_keywords     46182 non-null  object        \n",
      " 11  index_terms       50712 non-null  object        \n",
      " 12  issn              82964 non-null  object        \n",
      " 13  vehicle_name      84526 non-null  object        \n",
      " 14  publisher         84522 non-null  object        \n",
      " 15  affiliations      78409 non-null  object        \n",
      " 16  subject_areas     84481 non-null  object        \n",
      " 17  authors           83171 non-null  object        \n",
      " 18  author_affil      83273 non-null  object        \n",
      " 19  ref_count         84526 non-null  object        \n",
      " 20  references        73509 non-null  object        \n",
      " 21  period            84526 non-null  object        \n",
      "dtypes: datetime64[ns](1), object(21)\n",
      "memory usage: 14.2+ MB\n"
     ]
    }
   ],
   "source": [
    "# Visualizing the information of dataset.\n",
    "df_data.info()"
   ]
  },
  {
   "cell_type": "markdown",
   "metadata": {},
   "source": [
    "## 3. Saving the dataframe"
   ]
  },
  {
   "cell_type": "code",
   "execution_count": 25,
   "metadata": {},
   "outputs": [],
   "source": [
    "# Exporting the data to CSV file.\n",
    "df_data.to_csv(\"../../data/prepared/scopus_covid_19.csv\", index=False, quoting=csv.QUOTE_ALL)"
   ]
  }
 ],
 "metadata": {
  "kernelspec": {
   "display_name": "Python 3.8.5 64-bit ('estudos': conda)",
   "name": "python385jvsc74a57bd02e6a5491ea87a08a1cf17cf8bb76c9efa2b82a90397760dc18398c5d7702d505"
  },
  "language_info": {
   "codemirror_mode": {
    "name": "ipython",
    "version": 3
   },
   "file_extension": ".py",
   "mimetype": "text/x-python",
   "name": "python",
   "nbconvert_exporter": "python",
   "pygments_lexer": "ipython3",
   "version": "3.8.5"
  }
 },
 "nbformat": 4,
 "nbformat_minor": 4
}