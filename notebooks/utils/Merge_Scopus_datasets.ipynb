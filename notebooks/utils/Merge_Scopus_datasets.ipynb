{
 "cells": [
  {
   "cell_type": "markdown",
   "metadata": {},
   "source": [
    "# Merging the Scopus' COVID-19 publications that collected separately"
   ]
  },
  {
   "cell_type": "code",
   "execution_count": 1,
   "metadata": {},
   "outputs": [],
   "source": [
    "# Importing the required libraries.\n",
    "import pandas as pd, numpy as np, csv"
   ]
  },
  {
   "cell_type": "markdown",
   "metadata": {},
   "source": [
    "## 1. Getting the data"
   ]
  },
  {
   "cell_type": "code",
   "execution_count": 2,
   "metadata": {},
   "outputs": [],
   "source": [
    "# Getting all data.\n",
    "data = [\n",
    "    pd.read_csv(\"01_12-2019.csv\", header=0, delimiter=\",\", index_col=False, dtype={\"pubmed_id\": str}),\n",
    "    pd.read_csv(\"02_01-2020.csv\", header=0, delimiter=\",\", index_col=False, dtype={\"pubmed_id\": str}),\n",
    "    pd.read_csv(\"03_02-2020.csv\", header=0, delimiter=\",\", index_col=False, dtype={\"pubmed_id\": str}),\n",
    "    pd.read_csv(\"04_03-2020.csv\", header=0, delimiter=\",\", index_col=False, dtype={\"pubmed_id\": str}),\n",
    "    pd.read_csv(\"05_04-2020.csv\", header=0, delimiter=\",\", index_col=False, dtype={\"pubmed_id\": str}),\n",
    "    pd.read_csv(\"06_05-2020.csv\", header=0, delimiter=\",\", index_col=False, dtype={\"pubmed_id\": str}),\n",
    "    pd.read_csv(\"07_06-2020.csv\", header=0, delimiter=\",\", index_col=False, dtype={\"pubmed_id\": str}),\n",
    "    pd.read_csv(\"08_07-2020.csv\", header=0, delimiter=\",\", index_col=False, dtype={\"pubmed_id\": str}),\n",
    "    pd.read_csv(\"09_08-2020.csv\", header=0, delimiter=\",\", index_col=False, dtype={\"pubmed_id\": str}),\n",
    "    pd.read_csv(\"10_09-2020.csv\", header=0, delimiter=\",\", index_col=False, dtype={\"pubmed_id\": str}),\n",
    "    pd.read_csv(\"11_10-2020.csv\", header=0, delimiter=\",\", index_col=False, dtype={\"pubmed_id\": str}),\n",
    "    pd.read_csv(\"12_11-2020.csv\", header=0, delimiter=\",\", index_col=False, dtype={\"pubmed_id\": str}),\n",
    "    pd.read_csv(\"13_12-2020.csv\", header=0, delimiter=\",\", index_col=False, dtype={\"pubmed_id\": str}),\n",
    "    pd.read_csv(\"14_01-2021.csv\", header=0, delimiter=\",\", index_col=False, dtype={\"pubmed_id\": str}),\n",
    "    pd.read_csv(\"15_02-2021.csv\", header=0, delimiter=\",\", index_col=False, dtype={\"pubmed_id\": str}),\n",
    "    pd.read_csv(\"16_03-2021.csv\", header=0, delimiter=\",\", index_col=False, dtype={\"pubmed_id\": str})\n",
    "]"
   ]
  },
  {
   "cell_type": "markdown",
   "metadata": {},
   "source": [
    "## 2. Preprocessing and merging the datasets"
   ]
  },
  {
   "cell_type": "code",
   "execution_count": 3,
   "metadata": {},
   "outputs": [],
   "source": [
    "# Setting the collect/publish period for each dataset.\n",
    "period = [\"12-2019\", \"01-2020\", \"02-2020\", \"03-2020\", \"04-2020\", \"05-2020\", \"06-2020\",\n",
    "    \"07-2020\", \"08-2020\", \"09-2020\", \"10-2020\", \"11-2020\", \"12-2020\", \"01-2021\", \"02-2021\",\n",
    "    \"03-2021\"]\n",
    "for idx in range(len(period)):\n",
    "    data[idx][\"period\"] = period[idx]\n"
   ]
  },
  {
   "cell_type": "code",
   "execution_count": 4,
   "metadata": {},
   "outputs": [],
   "source": [
    "# Merging the datasets.\n",
    "data = pd.concat(data, ignore_index=True)"
   ]
  },
  {
   "cell_type": "code",
   "execution_count": 5,
   "metadata": {},
   "outputs": [
    {
     "name": "stdout",
     "output_type": "stream",
     "text": [
      "<class 'pandas.core.frame.DataFrame'>\n",
      "RangeIndex: 84613 entries, 0 to 84612\n",
      "Data columns (total 30 columns):\n",
      " #   Column            Non-Null Count  Dtype  \n",
      "---  ------            --------------  -----  \n",
      " 0   id                84613 non-null  object \n",
      " 1   doi               81883 non-null  object \n",
      " 2   eid               84610 non-null  object \n",
      " 3   pii               24426 non-null  object \n",
      " 4   pubmed_id         58339 non-null  object \n",
      " 5   title             84610 non-null  object \n",
      " 6   abstract          52351 non-null  object \n",
      " 7   description       52351 non-null  object \n",
      " 8   publication_date  84610 non-null  object \n",
      " 9   citation_num      84610 non-null  float64\n",
      " 10  language          84161 non-null  object \n",
      " 11  production_type   84610 non-null  object \n",
      " 12  source_type       84610 non-null  object \n",
      " 13  auth_keywords     46201 non-null  object \n",
      " 14  index_terms       50756 non-null  object \n",
      " 15  issn              83048 non-null  object \n",
      " 16  isbn              1707 non-null   object \n",
      " 17  conf_location     0 non-null      float64\n",
      " 18  conference_name   2047 non-null   object \n",
      " 19  vehicle_name      84610 non-null  object \n",
      " 20  vehicle_address   0 non-null      float64\n",
      " 21  title_edition     2041 non-null   object \n",
      " 22  publisher         84606 non-null  object \n",
      " 23  affiliations      78478 non-null  object \n",
      " 24  subject_areas     84565 non-null  object \n",
      " 25  authors           83246 non-null  object \n",
      " 26  author_affil      83351 non-null  object \n",
      " 27  ref_count         73554 non-null  float64\n",
      " 28  references        73542 non-null  object \n",
      " 29  period            84613 non-null  object \n",
      "dtypes: float64(4), object(26)\n",
      "memory usage: 19.4+ MB\n"
     ]
    }
   ],
   "source": [
    "# Showing the information about the merged dataset.\n",
    "data.info()"
   ]
  },
  {
   "cell_type": "code",
   "execution_count": 6,
   "metadata": {},
   "outputs": [
    {
     "name": "stdout",
     "output_type": "stream",
     "text": [
      "The existence of duplicated records: False\n"
     ]
    }
   ],
   "source": [
    "# Looking for duplicated records.\n",
    "print(\"The existence of duplicated records:\", np.any(data.id.duplicated(False)))"
   ]
  },
  {
   "cell_type": "markdown",
   "metadata": {},
   "source": [
    "## 3. Saving the data collected"
   ]
  },
  {
   "cell_type": "code",
   "execution_count": 7,
   "metadata": {},
   "outputs": [],
   "source": [
    "# Exporting the data to CSV file.\n",
    "data.to_csv(\"scopus_raw.csv\", index=False, quoting=csv.QUOTE_ALL)"
   ]
  }
 ],
 "metadata": {
  "kernelspec": {
   "display_name": "Python 3.8.5 64-bit ('estudos': conda)",
   "name": "python385jvsc74a57bd02e6a5491ea87a08a1cf17cf8bb76c9efa2b82a90397760dc18398c5d7702d505"
  },
  "language_info": {
   "codemirror_mode": {
    "name": "ipython",
    "version": 3
   },
   "file_extension": ".py",
   "mimetype": "text/x-python",
   "name": "python",
   "nbconvert_exporter": "python",
   "pygments_lexer": "ipython3",
   "version": "3.8.5"
  },
  "orig_nbformat": 2
 },
 "nbformat": 4,
 "nbformat_minor": 2
}