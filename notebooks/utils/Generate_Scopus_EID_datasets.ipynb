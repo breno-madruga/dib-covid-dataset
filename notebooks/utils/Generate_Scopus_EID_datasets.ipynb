{
 "cells": [
  {
   "cell_type": "markdown",
   "source": [
    "# Generating the EID datasets from Scopus' COVID-19 publications"
   ],
   "metadata": {}
  },
  {
   "cell_type": "markdown",
   "source": [
    "## 1. Importing the libraries"
   ],
   "metadata": {}
  },
  {
   "cell_type": "code",
   "execution_count": null,
   "source": [
    "# Importing the required libraries.\n",
    "import csv, pandas as pd\n",
    "from os import listdir\n",
    "from os.path import isfile, join"
   ],
   "outputs": [],
   "metadata": {}
  },
  {
   "cell_type": "markdown",
   "source": [
    "## 2. Getting the data"
   ],
   "metadata": {}
  },
  {
   "cell_type": "code",
   "execution_count": null,
   "source": [
    "# Getting the list of files.\n",
    "data = {\"dir\": \"./data\"}\n",
    "data = {**data, \"files\": [join(data[\"dir\"], f) for f in listdir(data[\"dir\"])\n",
    "                                          if isfile(join(data[\"dir\"], f))]}"
   ],
   "outputs": [],
   "metadata": {}
  },
  {
   "cell_type": "code",
   "execution_count": null,
   "source": [
    "# Creating the list of dataframes.\n",
    "data = {**data, \"dataframes\": [pd.read_csv(f, index_col=False, header=0)\n",
    "                               for f in data[\"files\"]]}"
   ],
   "outputs": [],
   "metadata": {}
  },
  {
   "cell_type": "markdown",
   "source": [
    "## 3. Preprocessing the datasets"
   ],
   "metadata": {}
  },
  {
   "cell_type": "code",
   "execution_count": null,
   "source": [
    "# Setting the collect/publish period for each dataset.\n",
    "for idx in range(len(data[\"files\"])):\n",
    "    period = data[\"files\"][idx].split(\"/\")[-1].split(\".\")[0]\n",
    "    data[\"dataframes\"][idx][\"period\"] = period"
   ],
   "outputs": [],
   "metadata": {}
  },
  {
   "cell_type": "markdown",
   "source": [
    "## 4. Saving the datasets"
   ],
   "metadata": {}
  },
  {
   "cell_type": "code",
   "execution_count": null,
   "source": [
    "# Saving the dataframes.\n",
    "for df in data[\"dataframes\"]:\n",
    "    period = df.period.unique()[0]\n",
    "    df = df[\"EID\"]\n",
    "    df.to_csv(\"DOWNLOADED/{}.csv\".format(period), quoting=csv.QUOTE_ALL, index=False)"
   ],
   "outputs": [],
   "metadata": {}
  }
 ],
 "metadata": {
  "interpreter": {
   "hash": "f50bd5474255f82aa829301912ce59e29110123be660cf8d7583f66a20371684"
  },
  "kernelspec": {
   "name": "python3",
   "display_name": "Python 3.8.5 64-bit ('base': conda)"
  },
  "language_info": {
   "codemirror_mode": {
    "name": "ipython",
    "version": 3
   },
   "file_extension": ".py",
   "mimetype": "text/x-python",
   "name": "python",
   "nbconvert_exporter": "python",
   "pygments_lexer": "ipython3",
   "version": "3.8.5"
  },
  "orig_nbformat": 2
 },
 "nbformat": 4,
 "nbformat_minor": 2
}