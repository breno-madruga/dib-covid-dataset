{
 "cells": [
  {
   "cell_type": "markdown",
   "source": [
    "# Collecting the PubMed publications related to COVID-19"
   ],
   "metadata": {}
  },
  {
   "cell_type": "markdown",
   "source": [
    "For collecting the PubMed publications related to COVID-19, we used the \"pymed\" library. It is avaliable on https://pypi.org/project/pymed/."
   ],
   "metadata": {}
  },
  {
   "cell_type": "code",
   "execution_count": null,
   "source": [
    "# Uncomment to install the library.\n",
    "# %pip install pymed"
   ],
   "outputs": [],
   "metadata": {}
  },
  {
   "cell_type": "code",
   "execution_count": null,
   "source": [
    "# Importing the required libraries.\n",
    "import csv, pandas as pd\n",
    "from pymed import PubMed"
   ],
   "outputs": [],
   "metadata": {}
  },
  {
   "cell_type": "markdown",
   "source": [
    "## 1. Getting the data from \"pymed\" library"
   ],
   "metadata": {}
  },
  {
   "cell_type": "code",
   "execution_count": null,
   "source": [
    "# Creating the PubMed object.\n",
    "pubmed = PubMed(tool=\"Covid-19\", email=\">>> PUT HERE YOUR E-MAIL <<<\")"
   ],
   "outputs": [],
   "metadata": {}
  },
  {
   "cell_type": "code",
   "execution_count": null,
   "source": [
    "# Defining the query.\n",
    "query = \"(covid-19 OR coronavirus disease 2019 OR 2019-ncov OR novel coronavirus OR sars-cov-2 OR novel coronavirus pneumonia OR coronavirus) AND (\\\"2019/12/01\\\"[Date - Publication] : \\\"2021/07/15\\\"[Date - Publication]) AND (english[Language])\""
   ],
   "outputs": [],
   "metadata": {
    "tags": []
   }
  },
  {
   "cell_type": "code",
   "execution_count": null,
   "source": [
    "# Defining the number of maximum results.\n",
    "num_max = pubmed.getTotalResultsCount(query)\n",
    "print(\"Number of records to be returned: {}.\".format(num_max))"
   ],
   "outputs": [],
   "metadata": {
    "tags": []
   }
  },
  {
   "cell_type": "code",
   "execution_count": null,
   "source": [
    "# Collecting the data.\n",
    "results = pubmed.query(query, max_results=num_max)"
   ],
   "outputs": [],
   "metadata": {}
  },
  {
   "cell_type": "code",
   "execution_count": null,
   "source": [
    "# Converting the list of the PubMedArticles objects to the list of Dictionary objects.\n",
    "pubmed = [paper.toDict() for paper in results]"
   ],
   "outputs": [],
   "metadata": {
    "tags": []
   }
  },
  {
   "cell_type": "markdown",
   "source": [
    "## 2. Saving the data collected"
   ],
   "metadata": {}
  },
  {
   "cell_type": "code",
   "execution_count": null,
   "source": [
    "# Exporting the data to CSV file.\n",
    "pd.DataFrame(pubmed).to_csv(\"../../data/raw/pubmed_raw.csv\", index=False, quoting=csv.QUOTE_ALL)"
   ],
   "outputs": [],
   "metadata": {}
  }
 ],
 "metadata": {
  "kernelspec": {
   "display_name": "Python 3.8.5 64-bit ('base': conda)",
   "name": "python385jvsc74a57bd0c1d2fcf5e2cc78a0662b1ea15472a8f3e1f5d200e2ea389ebabb285ef6ada5a6"
  },
  "language_info": {
   "name": "python",
   "version": ""
  }
 },
 "nbformat": 4,
 "nbformat_minor": 2
}