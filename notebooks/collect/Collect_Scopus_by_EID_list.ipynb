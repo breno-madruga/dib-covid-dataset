{
 "cells": [
  {
   "cell_type": "markdown",
   "metadata": {},
   "source": [
    "# Collecting the Scopus publications related to COVID-19 from EID's list"
   ]
  },
  {
   "cell_type": "markdown",
   "metadata": {},
   "source": [
    "For collecting the Scopus publications related to COVID-19, we used the \"pybliometrics\" library. It is avaliable on https://pypi.org/project/pybliometrics/."
   ]
  },
  {
   "cell_type": "code",
   "execution_count": null,
   "metadata": {},
   "outputs": [],
   "source": [
    "# Uncomment to install the library.\n",
    "# %pip install pybliometrics"
   ]
  },
  {
   "cell_type": "code",
   "execution_count": null,
   "metadata": {},
   "outputs": [],
   "source": [
    "# Importing the required libraries.\n",
    "import csv, re, pandas as pd, numpy as np\n",
    "from datetime import datetime\n",
    "from pybliometrics.scopus import config, AbstractRetrieval\n",
    "from pybliometrics.scopus.utils import create_config\n",
    "from pybliometrics.scopus.exception import Scopus404Error, Scopus429Error, Scopus500Error\n",
    "from urllib.error import HTTPError"
   ]
  },
  {
   "cell_type": "markdown",
   "metadata": {},
   "source": [
    "## 1. Getting the data from \"pybliometrics\" library"
   ]
  },
  {
   "cell_type": "code",
   "execution_count": null,
   "metadata": {},
   "outputs": [],
   "source": [
    "# Uncomment to config on the first time.\n",
    "# create_config()"
   ]
  },
  {
   "cell_type": "code",
   "execution_count": null,
   "metadata": {},
   "outputs": [],
   "source": [
    "# Setting the Scopus API Key.\n",
    "_keys = [\">>> PUT HERE YOUR SCOPUS API KEYS <<<\"]\n",
    "config[\"Authentication\"][\"APIKey\"] = _keys.pop()"
   ]
  },
  {
   "cell_type": "markdown",
   "metadata": {},
   "source": [
    "### 1.1. Getting the list of publications' EIDs"
   ]
  },
  {
   "cell_type": "code",
   "execution_count": null,
   "metadata": {},
   "outputs": [],
   "source": [
    "# Getting the list of manuscripts' EID.\n",
    "list_eids_documents = pd.read_csv(\"../../data/raw/scopus_eid.csv\", index_col=False, squeeze=True)"
   ]
  },
  {
   "cell_type": "code",
   "execution_count": null,
   "metadata": {},
   "outputs": [],
   "source": [
    "# Printing the number of records.\n",
    "print(\"Number of records: {}.\".format(list_eids_documents.size))"
   ]
  },
  {
   "cell_type": "markdown",
   "metadata": {},
   "source": [
    "### 1.2. Getting the publications' data from list of EIDs\n",
    "\n",
    "The features extracted from the Scopus articles are:\n",
    "* id (identifier): the Scopus' identifier key of a manuscript.\n",
    "* doi: the DOI of a manuscript.\n",
    "* eid: the EID identifier of a manuscript.\n",
    "* pii: the PII (Publisher Item Identifier) of a manuscript.\n",
    "* pubmed_id: the MEDLINE's identifier key of a manuscript.\n",
    "* title: the title of a manuscript.\n",
    "* abstract: the abstract of a manuscript.\n",
    "* description: the abstract of a manuscript.\n",
    "* publication_date (coverDate): the date of publication of a manuscript.\n",
    "* citation_num (citedby_count): the number of citation of a manuscript.\n",
    "* language: the language/idiom of a manuscript.\n",
    "* production_type (aggregationType): the category/type/classification of source of a manuscript.\n",
    "* source_type (srctype): the category/type/classification of source of a manuscript. It is a short version of feature \"production_type\".\n",
    "* auth_keywords (authkeywords): the list of keywords defined by the authors of a manuscript.\n",
    "* index_terms (idxterms): the list of indexed terms that defined by Scopus.\n",
    "* issn: the ISSN/E-ISSN of a manuscript.\n",
    "* isbn: the ISBNs of a manuscript.\n",
    "* conf_location (conflocation): the place where a conference took place.\n",
    "* conference_name (confname): the name of a conference of a manuscript.\n",
    "* vehicle_name (publicationName): the name of source where a manuscript was published.\n",
    "* vehicle_address (publisheraddress): the address of source where a manuscript was published.\n",
    "* title_edition (issuetitle): the name of edition/issue of a journal where a manuscript was published.\n",
    "* publisher: the name of publisher that published a manuscript. Requires the view \"FULL\".\n",
    "* affiliations (affiliation): the list of affiliations (Scopus ID, country and name of affiliation) contained in a manuscript.\n",
    "* subject_areas: the list of subject/study fields of a manuscript. Requires the view \"FULL\".\n",
    "* authors: the list of authors (Scopus ID and name) contained in a manuscript.\n",
    "* author_affil (authorgroup): the list of authors organized with their affiliations. The combination of the features \"authors\" and \"affiliations\".\n",
    "* ref_count (refcount): the number of references contained in a manuscript. Requires the view \"FULL\".\n",
    "* references: the list of references data (authors, title, DOI and Scopus ID). Requires the view \"FULL\"."
   ]
  },
  {
   "cell_type": "code",
   "execution_count": null,
   "metadata": {},
   "outputs": [],
   "source": [
    "# Function to collect manuscripts' data.\n",
    "def collect_data_manuscripts(list_eids_documents):\n",
    "    data = []\n",
    "    for key in list_eids_documents:\n",
    "        record = {}\n",
    "        error = True\n",
    "        while error:\n",
    "            try:\n",
    "                paper = AbstractRetrieval(key, id_type=\"eid\", view=\"FULL\", refresh=True)\n",
    "                error = False\n",
    "                # Basic Attributes.\n",
    "                record[\"id\"] = paper.identifier\n",
    "                record[\"doi\"] = paper.doi\n",
    "                record[\"eid\"] = paper.eid\n",
    "                record[\"pii\"] = paper.pii\n",
    "                record[\"pubmed_id\"] = paper.pubmed_id\n",
    "                record[\"title\"] = paper.title\n",
    "                record[\"abstract\"] = paper.abstract\n",
    "                record[\"description\"] = paper.description\n",
    "                record[\"publication_date\"] = datetime.strptime(paper.coverDate, \"%Y-%m-%d\").date() \\\n",
    "                                            if paper.coverDate else None\n",
    "                record[\"citation_num\"] = paper.citedby_count\n",
    "                record[\"language\"] = paper.language\n",
    "                record[\"production_type\"] = paper.aggregationType\n",
    "                record[\"source_type\"] = paper.srctype\n",
    "                record[\"auth_keywords\"] = tuple(paper.authkeywords) if paper.authkeywords else None\n",
    "                record[\"index_terms\"] = tuple(paper.idxterms) if paper.idxterms else None\n",
    "                record[\"issn\"] = paper.issn\n",
    "\n",
    "                try:\n",
    "                    record[\"isbn\"] = \" \".join(paper.isbn) if type(paper.isbn) == tuple else paper.isbn\n",
    "                except TypeError:\n",
    "                    record[\"isbn\"] = None\n",
    "\n",
    "                # Conference and/or Journals data.\n",
    "                record[\"conf_location\"] = paper.conflocation\n",
    "                record[\"conference_name\"] = paper.confname\n",
    "                record[\"vehicle_name\"] = paper.publicationName\n",
    "                record[\"vehicle_address\"] = paper.publisheraddress\n",
    "                record[\"title_edition\"] = paper.issuetitle\n",
    "                record[\"publisher\"] = paper.publisher\n",
    "\n",
    "                # Affiliation.\n",
    "                record[\"affiliations\"] = tuple(\n",
    "                    [{\"id\": affil.id if affil and affil.id else None,\n",
    "                      \"affiliation\": affil.name if affil and affil.name else None,\n",
    "                      \"country\": affil.country if affil and affil.country else None}\n",
    "                     for affil in paper.affiliation]) if paper.affiliation else None\n",
    "\n",
    "                # Subject Areas.\n",
    "                record[\"subject_areas\"] = tuple([area.area for area in paper.subject_areas]) \\\n",
    "                                        if paper.subject_areas else None\n",
    "\n",
    "                # Authors.\n",
    "                record[\"authors\"] = tuple(\n",
    "                    [{\"id\": author.auid if author and author.auid else None,\n",
    "                      \"name\": \"{} {}\".format(author.given_name, author.surname) \\\n",
    "                                if author and author.given_name and author.surname else\n",
    "                            \"{}\".format(author.given_name) if author and author.given_name \\\n",
    "                                and not author.surname else \\\n",
    "                            \"{}\".format(author.surname) if author and author.surname \\\n",
    "                                and not author.given_name else None}\n",
    "                     for author in paper.authors]) if paper.authors else None\n",
    "\n",
    "                record[\"author_affil\"] = tuple(\n",
    "                    [{\"id\": author.auid if author and author.auid else None,\n",
    "                      \"name\": \"{} {}\".format(author.given_name, author.surname) \\\n",
    "                                if author and author.given_name and author.surname else \\\n",
    "                            \"{}\".format(author.given_name) if author and author.given_name \\\n",
    "                                and not author.surname else \\\n",
    "                            \"{}\".format(author.surname) if author and author.surname \\\n",
    "                                and not author.given_name else None,\n",
    "                      \"affil_id\": author.affiliation_id if author and author.affiliation_id else None,\n",
    "                      \"affiliation\": author.organization if author and author.organization else None,\n",
    "                      \"country\": author.country if author and author.country else None}\n",
    "                     for author in paper.authorgroup]) if paper.authorgroup else None\n",
    "\n",
    "                # References.\n",
    "                record[\"ref_count\"] = paper.refcount if paper.refcount else None\n",
    "                record[\"references\"] = tuple([{\"id\": ref.id if ref and ref.id else None,\n",
    "                                            \"title\": ref.title if ref and ref.title else None,\n",
    "                                            \"doi\": ref.doi if ref and ref.doi else None,\n",
    "                                            \"authors\": ref.authors if ref and ref.authors else None}\n",
    "                                    for ref in paper.references]) if paper.references else None\n",
    "\n",
    "            except (Scopus404Error, Scopus500Error, HTTPError) as e:\n",
    "                record[\"id\"] = key\n",
    "                print(key)\n",
    "                error = False\n",
    "            except Scopus429Error as e:\n",
    "                # Removing the last item in _keys to assign it as new API key.\n",
    "                config[\"Authentication\"][\"APIKey\"] = _keys.pop()\n",
    "                if len(_keys) == 0:\n",
    "                    raise e\n",
    "        data.append(record)\n",
    "    return data"
   ]
  },
  {
   "cell_type": "code",
   "execution_count": null,
   "metadata": {},
   "outputs": [],
   "source": [
    "# Collecting the data.\n",
    "data = collect_data_manuscripts(list_eids_documents)"
   ]
  },
  {
   "cell_type": "markdown",
   "metadata": {},
   "source": [
    "## 2. Saving the data collected"
   ]
  },
  {
   "cell_type": "code",
   "execution_count": null,
   "metadata": {},
   "outputs": [],
   "source": [
    "# Exporting the data to CSV file.\n",
    "pd.DataFrame(data).to_csv(\"../../data/raw/scopus_raw.csv\", index=False, quoting=csv.QUOTE_ALL)"
   ]
  }
 ],
 "metadata": {
  "kernelspec": {
   "display_name": "Python 3.8.5 64-bit ('base': conda)",
   "name": "python385jvsc74a57bd0c1d2fcf5e2cc78a0662b1ea15472a8f3e1f5d200e2ea389ebabb285ef6ada5a6"
  },
  "language_info": {
   "name": "python",
   "version": ""
  }
 },
 "nbformat": 4,
 "nbformat_minor": 2
}