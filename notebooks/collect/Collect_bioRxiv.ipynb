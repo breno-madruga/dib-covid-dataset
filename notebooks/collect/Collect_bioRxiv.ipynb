{
 "cells": [
  {
   "cell_type": "markdown",
   "metadata": {},
   "source": [
    "# Collecting the bioRxiv publications related to COVID-19"
   ]
  },
  {
   "cell_type": "markdown",
   "metadata": {},
   "source": [
    "The publications' data were collected from [bioRxiv API](https://api.biorxiv.org/covid19/help) related to COVID-19."
   ]
  },
  {
   "cell_type": "code",
   "execution_count": null,
   "metadata": {},
   "outputs": [],
   "source": [
    "# Importing the required libraries.\n",
    "import json, csv, requests, pandas as pd, time"
   ]
  },
  {
   "cell_type": "markdown",
   "metadata": {},
   "source": [
    "## 1. Getting the data from its URL"
   ]
  },
  {
   "cell_type": "code",
   "execution_count": null,
   "metadata": {},
   "outputs": [],
   "source": [
    "# Determining the URL of bioRxiv API.\n",
    "url = \"https://api.biorxiv.org/covid19/{}/json\""
   ]
  },
  {
   "cell_type": "code",
   "execution_count": null,
   "metadata": {},
   "outputs": [],
   "source": [
    "# Collecting the publications' data.\n",
    "biorxiv = []\n",
    "cursor = 0\n",
    "headers = {\"User-Agent\": \"biorxiv_covid_19\", \"Accept\": \"application/json\"}\n",
    "while True:\n",
    "    try:\n",
    "        with requests.get(url.format(cursor), headers=headers) as response:\n",
    "            content = json.loads(response.content.decode(\"utf-8\"))\n",
    "            if content[\"collection\"]:\n",
    "                biorxiv.extend(content[\"collection\"])\n",
    "                cursor += 30\n",
    "                time.sleep(0.5)\n",
    "                print(\"I was colleted {} records.\".format(cursor))\n",
    "            else:\n",
    "                break\n",
    "    except Exception as e:\n",
    "        raise e"
   ]
  },
  {
   "cell_type": "code",
   "execution_count": null,
   "metadata": {
    "tags": []
   },
   "outputs": [],
   "source": [
    "# Printing the number of records collected.\n",
    "print(\"Number of records collected: {}.\".format(len(biorxiv)))"
   ]
  },
  {
   "cell_type": "markdown",
   "metadata": {},
   "source": [
    "## 2. Saving the data collected"
   ]
  },
  {
   "cell_type": "code",
   "execution_count": null,
   "metadata": {},
   "outputs": [],
   "source": [
    "# Exporting the data to CSV file.\n",
    "pd.DataFrame(biorxiv).to_csv(\"../../data/raw/biorxiv_raw.csv\", index=False, quoting=csv.QUOTE_ALL)"
   ]
  }
 ],
 "metadata": {
  "kernelspec": {
   "display_name": "Python 3.8.5 64-bit ('base': conda)",
   "name": "python385jvsc74a57bd0c1d2fcf5e2cc78a0662b1ea15472a8f3e1f5d200e2ea389ebabb285ef6ada5a6"
  },
  "language_info": {
   "name": "python",
   "version": ""
  }
 },
 "nbformat": 4,
 "nbformat_minor": 2
}