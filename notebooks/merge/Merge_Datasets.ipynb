{
 "cells": [
  {
   "cell_type": "markdown",
   "source": [
    "# Merging the datasets of publications related to COVID-19"
   ],
   "metadata": {}
  },
  {
   "cell_type": "code",
   "execution_count": null,
   "source": [
    "# Importing the required libraries.\n",
    "import csv, re, pandas as pd, numpy as np\n",
    "from string import punctuation"
   ],
   "outputs": [],
   "metadata": {}
  },
  {
   "cell_type": "markdown",
   "source": [
    "## 1. Defining the required functions"
   ],
   "metadata": {}
  },
  {
   "cell_type": "code",
   "execution_count": null,
   "source": [
    "# Defining the function \"clean_title\".\n",
    "def clean_title(title):\n",
    "    if len(title) == 1 and title in punctuation:\n",
    "        return None\n",
    "    title = title.lower()\n",
    "    title = title.replace(\"€\", \"\").replace(\"…\", \"...\").replace(\"τhe\", \"the\").replace(\n",
    "        \"–\", \"-\").replace(\"‘\", \"'\").replace(\"“\", \"\\\"\").replace(\"”\", \"\\\"\").replace(\n",
    "        \"′\", \"'\").replace(\"’\", \"'\").replace(\"č\", \"c\")\n",
    "    while title[0] in punctuation or title[0] == \" \" or title[-1] in punctuation:\n",
    "        if title[0] in punctuation:\n",
    "            title = title[1:]\n",
    "        if title[-1] in punctuation:\n",
    "            title = title[:-1]\n",
    "        title = title.strip()\n",
    "    return re.sub(r\"\\\"+\", \"\", re.sub(r\"\\s+\", \" \", title))"
   ],
   "outputs": [],
   "metadata": {}
  },
  {
   "cell_type": "markdown",
   "source": [
    "## 2. Getting and preprocessing the datasets"
   ],
   "metadata": {}
  },
  {
   "cell_type": "markdown",
   "source": [
    "### 2.1. arXiv"
   ],
   "metadata": {}
  },
  {
   "cell_type": "code",
   "execution_count": null,
   "source": [
    "# Getting the data.\n",
    "df_arxiv = pd.read_csv(\"../../data/prepared/arxiv_covid_19.csv\", header=0, dtype={\"id\": \"str\"})"
   ],
   "outputs": [],
   "metadata": {}
  },
  {
   "cell_type": "code",
   "execution_count": null,
   "source": [
    "# Checking the dataframe.\n",
    "df_arxiv.head()"
   ],
   "outputs": [],
   "metadata": {}
  },
  {
   "cell_type": "code",
   "execution_count": null,
   "source": [
    "# Visualizing the information of dataset.\n",
    "df_arxiv.info()"
   ],
   "outputs": [],
   "metadata": {
    "tags": []
   }
  },
  {
   "cell_type": "code",
   "execution_count": null,
   "source": [
    "# Defining the \"None\" value for the \"NaN\" values.\n",
    "df_arxiv.replace({np.nan: None}, inplace=True)"
   ],
   "outputs": [],
   "metadata": {}
  },
  {
   "cell_type": "code",
   "execution_count": null,
   "source": [
    "# Changing the type of features.\n",
    "df_arxiv.loc[:, [\"subject_areas\", \"authors\"]] = df_arxiv.loc[:, [\"subject_areas\", \"authors\"]].apply(\n",
    "    lambda x: x.apply(eval))\n",
    "df_arxiv.publication_date = pd.to_datetime(df_arxiv.publication_date)"
   ],
   "outputs": [],
   "metadata": {}
  },
  {
   "cell_type": "code",
   "execution_count": null,
   "source": [
    "# Defining the feature \"source\".\n",
    "df_arxiv[\"source\"] = \"arXiv\""
   ],
   "outputs": [],
   "metadata": {}
  },
  {
   "cell_type": "code",
   "execution_count": null,
   "source": [
    "# Normalizing the feature \"title\".\n",
    "df_arxiv.title = df_arxiv.title.apply(clean_title)"
   ],
   "outputs": [],
   "metadata": {}
  },
  {
   "cell_type": "code",
   "execution_count": null,
   "source": [
    "# Checking the result.\n",
    "df_arxiv.head()"
   ],
   "outputs": [],
   "metadata": {}
  },
  {
   "cell_type": "code",
   "execution_count": null,
   "source": [
    "# Visualizing the information of dataset.\n",
    "df_arxiv.info()"
   ],
   "outputs": [],
   "metadata": {
    "tags": []
   }
  },
  {
   "cell_type": "markdown",
   "source": [
    "### 2.2. bioRxiv"
   ],
   "metadata": {}
  },
  {
   "cell_type": "code",
   "execution_count": null,
   "source": [
    "# Getting the data.\n",
    "df_biorxiv = pd.read_csv(\"../../data/prepared/biorxiv_covid_19.csv\", header=0, dtype={\"id\": \"str\"})"
   ],
   "outputs": [],
   "metadata": {}
  },
  {
   "cell_type": "code",
   "execution_count": null,
   "source": [
    "# Checking the dataframe.\n",
    "df_biorxiv.head()"
   ],
   "outputs": [],
   "metadata": {}
  },
  {
   "cell_type": "code",
   "execution_count": null,
   "source": [
    "# Visualizing the information of dataset.\n",
    "df_biorxiv.info()"
   ],
   "outputs": [],
   "metadata": {
    "tags": []
   }
  },
  {
   "cell_type": "code",
   "execution_count": null,
   "source": [
    "# Defining the \"None\" value for the \"NaN\" values.\n",
    "df_biorxiv.replace({np.nan: None}, inplace=True)"
   ],
   "outputs": [],
   "metadata": {}
  },
  {
   "cell_type": "code",
   "execution_count": null,
   "source": [
    "# Changing the type of features.\n",
    "df_biorxiv.author_affil.loc[df_biorxiv.author_affil.notnull()] = df_biorxiv.author_affil.loc[\n",
    "    df_biorxiv.author_affil.notnull()].apply(eval)\n",
    "df_biorxiv.subject_areas.loc[df_biorxiv.subject_areas.notnull()] = df_biorxiv.subject_areas.loc[\n",
    "    df_biorxiv.subject_areas.notnull()].apply(eval)\n",
    "df_biorxiv.publication_date = pd.to_datetime(df_biorxiv.publication_date)"
   ],
   "outputs": [],
   "metadata": {}
  },
  {
   "cell_type": "code",
   "execution_count": null,
   "source": [
    "# Normalizing the feature \"title\".\n",
    "df_biorxiv.title = df_biorxiv.title.apply(clean_title)"
   ],
   "outputs": [],
   "metadata": {}
  },
  {
   "cell_type": "code",
   "execution_count": null,
   "source": [
    "# Checking the dataframe.\n",
    "df_biorxiv.head()"
   ],
   "outputs": [],
   "metadata": {}
  },
  {
   "cell_type": "code",
   "execution_count": null,
   "source": [
    "# Visualizing the information of dataset.\n",
    "df_biorxiv.info()"
   ],
   "outputs": [],
   "metadata": {
    "tags": []
   }
  },
  {
   "cell_type": "markdown",
   "source": [
    "### 2.3. PubMed"
   ],
   "metadata": {}
  },
  {
   "cell_type": "code",
   "execution_count": null,
   "source": [
    "# Getting the data.\n",
    "df_pubmed = pd.read_csv(\"../../data/prepared/pubmed_covid_19.csv\", header=0, dtype={\"pubmed_id\": \"str\"})"
   ],
   "outputs": [],
   "metadata": {}
  },
  {
   "cell_type": "code",
   "execution_count": null,
   "source": [
    "# Checking the dataframe.\n",
    "df_pubmed.head()"
   ],
   "outputs": [],
   "metadata": {}
  },
  {
   "cell_type": "code",
   "execution_count": null,
   "source": [
    "# Visualizing the information of dataset.\n",
    "df_pubmed.info()"
   ],
   "outputs": [],
   "metadata": {
    "tags": []
   }
  },
  {
   "cell_type": "code",
   "execution_count": null,
   "source": [
    "# Defining the \"None\" value for the \"NaN\" values.\n",
    "df_pubmed.replace({np.nan: None}, inplace=True)"
   ],
   "outputs": [],
   "metadata": {}
  },
  {
   "cell_type": "code",
   "execution_count": null,
   "source": [
    "# Changing the type of features.\n",
    "df_pubmed.auth_keywords.loc[df_pubmed.auth_keywords.notnull()] = df_pubmed.auth_keywords.loc[\n",
    "    df_pubmed.auth_keywords.notnull()].apply(eval)\n",
    "df_pubmed.author_affil.loc[df_pubmed.author_affil.notnull()] = df_pubmed.author_affil.loc[\n",
    "    df_pubmed.author_affil.notnull()].apply(eval)\n",
    "df_pubmed.publication_date = pd.to_datetime(df_pubmed.publication_date)"
   ],
   "outputs": [],
   "metadata": {}
  },
  {
   "cell_type": "code",
   "execution_count": null,
   "source": [
    "# Defining the feature \"source\".\n",
    "df_pubmed[\"source\"] = \"PubMed\""
   ],
   "outputs": [],
   "metadata": {}
  },
  {
   "cell_type": "code",
   "execution_count": null,
   "source": [
    "# Normalizing the feature \"title\".\n",
    "df_pubmed.title.loc[df_pubmed.title.notnull()] = df_pubmed.title.loc[\n",
    "    df_pubmed.title.notnull()].apply(clean_title)"
   ],
   "outputs": [],
   "metadata": {}
  },
  {
   "cell_type": "code",
   "execution_count": null,
   "source": [
    "# Checking the dataframe.\n",
    "df_pubmed.head()"
   ],
   "outputs": [],
   "metadata": {}
  },
  {
   "cell_type": "code",
   "execution_count": null,
   "source": [
    "# Visualizing the information of dataset.\n",
    "df_pubmed.info()"
   ],
   "outputs": [],
   "metadata": {
    "tags": []
   }
  },
  {
   "cell_type": "markdown",
   "source": [
    "### 2.4. Scopus"
   ],
   "metadata": {}
  },
  {
   "cell_type": "code",
   "execution_count": null,
   "source": [
    "# Getting the data.\n",
    "df_scopus = pd.read_csv(\"../../data/prepared/scopus_covid_19.csv\", header=0, dtype=object)"
   ],
   "outputs": [],
   "metadata": {}
  },
  {
   "cell_type": "code",
   "execution_count": null,
   "source": [
    "# Checking the dataframe.\n",
    "df_scopus.head()"
   ],
   "outputs": [],
   "metadata": {}
  },
  {
   "cell_type": "code",
   "execution_count": null,
   "source": [
    "# Visualizing the information of dataset.\n",
    "df_scopus.info()"
   ],
   "outputs": [],
   "metadata": {
    "tags": []
   }
  },
  {
   "cell_type": "code",
   "execution_count": null,
   "source": [
    "# Defining the \"None\" value for the \"NaN\" values.\n",
    "df_scopus.replace({np.nan: None}, inplace=True)"
   ],
   "outputs": [],
   "metadata": {}
  },
  {
   "cell_type": "code",
   "execution_count": null,
   "source": [
    "# Changing the type of features.\n",
    "df_scopus.auth_keywords.loc[df_scopus.auth_keywords.notnull()] = df_scopus.auth_keywords.loc[\n",
    "    df_scopus.auth_keywords.notnull()].apply(eval)\n",
    "df_scopus.index_terms.loc[df_scopus.index_terms.notnull()] = df_scopus.index_terms.loc[\n",
    "    df_scopus.index_terms.notnull()].apply(eval)\n",
    "df_scopus.affiliations.loc[df_scopus.affiliations.notnull()] = df_scopus.affiliations.loc[\n",
    "    df_scopus.affiliations.notnull()].apply(eval)\n",
    "df_scopus.subject_areas.loc[df_scopus.subject_areas.notnull()] = df_scopus.subject_areas.loc[\n",
    "    df_scopus.subject_areas.notnull()].apply(eval)\n",
    "df_scopus.authors.loc[df_scopus.authors.notnull()] = df_scopus.authors.loc[\n",
    "    df_scopus.authors.notnull()].apply(eval)\n",
    "df_scopus.author_affil.loc[df_scopus.author_affil.notnull()] = df_scopus.author_affil.loc[\n",
    "    df_scopus.author_affil.notnull()].apply(eval)\n",
    "df_scopus.references.loc[df_scopus.references.notnull()] = df_scopus.references.loc[\n",
    "    df_scopus.references.notnull()].apply(eval)\n",
    "df_scopus.publication_date = pd.to_datetime(df_scopus.publication_date)"
   ],
   "outputs": [],
   "metadata": {}
  },
  {
   "cell_type": "code",
   "execution_count": null,
   "source": [
    "# Defining the feature \"source\".\n",
    "df_scopus[\"source\"] = \"Scopus\""
   ],
   "outputs": [],
   "metadata": {}
  },
  {
   "cell_type": "code",
   "execution_count": null,
   "source": [
    "# Normalizing the feature \"title\".\n",
    "df_scopus.title = df_scopus.title.apply(clean_title)"
   ],
   "outputs": [],
   "metadata": {}
  },
  {
   "cell_type": "code",
   "execution_count": null,
   "source": [
    "# Checking the dataframe.\n",
    "df_scopus.head()"
   ],
   "outputs": [],
   "metadata": {}
  },
  {
   "cell_type": "code",
   "execution_count": null,
   "source": [
    "# Visualizing the information of dataset.\n",
    "df_scopus.info()     "
   ],
   "outputs": [],
   "metadata": {
    "tags": []
   }
  },
  {
   "cell_type": "markdown",
   "source": [
    "## 3. Merging/Joining the datasets"
   ],
   "metadata": {}
  },
  {
   "cell_type": "code",
   "execution_count": null,
   "source": [
    "# Checking the duplicated records between arXiv and bioRxiv.\n",
    "df_arxiv.id[df_arxiv.title.isin(df_biorxiv.title.values)].size"
   ],
   "outputs": [],
   "metadata": {}
  },
  {
   "cell_type": "code",
   "execution_count": null,
   "source": [
    "# Checking the duplicated records between arXiv and PubMed.\n",
    "df_arxiv.id[df_arxiv.title.isin(df_pubmed.title[df_pubmed.title.notnull()].values)].size"
   ],
   "outputs": [],
   "metadata": {}
  },
  {
   "cell_type": "code",
   "execution_count": null,
   "source": [
    "# Checking the duplicated records between arXiv and Scopus.\n",
    "df_arxiv.id[df_arxiv.title.isin(df_scopus.title.values)].size"
   ],
   "outputs": [],
   "metadata": {}
  },
  {
   "cell_type": "code",
   "execution_count": null,
   "source": [
    "# Checking the duplicated records between bioRxiv and PubMed.\n",
    "df_biorxiv.id[df_biorxiv.title.isin(df_pubmed.title[df_pubmed.title.notnull()].values) &\n",
    "    df_biorxiv.doi.isin(df_pubmed.doi[df_pubmed.doi.notnull()].values)].size"
   ],
   "outputs": [],
   "metadata": {}
  },
  {
   "cell_type": "code",
   "execution_count": null,
   "source": [
    "# Checking the duplicated records between bioRxiv and Scopus.\n",
    "df_biorxiv.id[df_biorxiv.title.isin(df_scopus.title.values) &\n",
    "    df_biorxiv.doi.isin(df_scopus.doi[df_scopus.doi.notnull()].values)].size"
   ],
   "outputs": [],
   "metadata": {}
  },
  {
   "cell_type": "code",
   "execution_count": null,
   "source": [
    "# Checking the duplicated records between PubMed and Scopus by only the feature \"pubmed_id\".\n",
    "df_pubmed.pubmed_id[df_pubmed.pubmed_id.isin(df_scopus.pubmed_id[df_scopus.pubmed_id.notnull()].values)].size"
   ],
   "outputs": [],
   "metadata": {}
  },
  {
   "cell_type": "code",
   "execution_count": null,
   "source": [
    "# Checking the duplicated records between PubMed and Scopus by the features \"title\" and \"doi\".\n",
    "df_pubmed.pubmed_id[~df_pubmed.pubmed_id.isin(df_scopus.pubmed_id[df_scopus.pubmed_id.notnull()].values) &\n",
    "    df_pubmed.title.isin(df_scopus.title.values) &\n",
    "    df_pubmed.doi.isin(df_scopus.doi[df_scopus.doi.notnull()].values)].size"
   ],
   "outputs": [],
   "metadata": {}
  },
  {
   "cell_type": "code",
   "execution_count": null,
   "source": [
    "# Filling the missing values of PubMed's features \"title\" and \"doi\" with data from Scopus.\n",
    "df_pubmed.loc[df_pubmed.pubmed_id.isin(df_scopus.pubmed_id.values) & df_pubmed.title.isnull(), \"title\"] = \\\n",
    "    df_pubmed.pubmed_id[df_pubmed.pubmed_id.isin(df_scopus.pubmed_id.values) & df_pubmed.title.isnull()].apply(\n",
    "        lambda x: df_scopus.title[df_scopus.pubmed_id == x].iloc[0])\n",
    "df_pubmed.loc[df_pubmed.pubmed_id.isin(df_scopus.pubmed_id.values) & df_pubmed.doi.isnull(), \"doi\"] = \\\n",
    "    df_pubmed.pubmed_id[df_pubmed.pubmed_id.isin(df_scopus.pubmed_id.values) & df_pubmed.doi.isnull()].apply(\n",
    "        lambda x: np.reshape(df_scopus.doi[df_scopus.pubmed_id == x].values, -1)[0] \\\n",
    "            if df_scopus.doi[df_scopus.pubmed_id == x].size > 0 else None)\n",
    "df_pubmed.loc[df_pubmed.doi[df_pubmed.doi.notnull()].isin(df_scopus.doi[df_scopus.doi.notnull()].values) &\n",
    "    df_pubmed.title.isnull(), \"title\"] = df_pubmed.doi[df_pubmed.doi[df_pubmed.doi.notnull()].isin(\n",
    "        df_scopus.doi[df_scopus.doi.notnull()].values) & df_pubmed.title.isnull()].apply(\n",
    "            lambda x: df_scopus.title[df_scopus.doi == x].item())"
   ],
   "outputs": [],
   "metadata": {}
  },
  {
   "cell_type": "code",
   "execution_count": null,
   "source": [
    "# Filling the missing values of PubMed's features \"title\", \"abstract\", \"subject_areas\" and \"doi\" with data from bioRxiv.\n",
    "df_pubmed.loc[df_pubmed.doi.isin(df_biorxiv.doi.values) & df_pubmed.title.isnull(), \"title\"] = \\\n",
    "    df_pubmed.doi[df_pubmed.doi.isin(df_biorxiv.doi.values) & df_pubmed.title.isnull()].apply(\n",
    "        lambda x: df_biorxiv.title[df_biorxiv.doi == x].item())\n",
    "df_pubmed.loc[df_pubmed.title.isin(df_biorxiv.title.values) & df_pubmed.doi.isnull(), \"doi\"] = \\\n",
    "    df_pubmed.loc[df_pubmed.title.isin(df_biorxiv.title.values) & df_pubmed.doi.isnull(), [\"doi\", \"title\"]].apply(\n",
    "        lambda x: df_biorxiv.doi[df_biorxiv.title == x.title].item() if not x.doi else x.doi, axis=1)\n",
    "df_pubmed.loc[df_pubmed.doi.isin(df_biorxiv.doi.values) & df_pubmed.abstract.isnull(), \"abstract\"] = \\\n",
    "    df_pubmed.doi[df_pubmed.doi.isin(df_biorxiv.doi.values) & df_pubmed.abstract.isnull()].apply(\n",
    "        lambda x: df_biorxiv.abstract[df_biorxiv.doi == x].item())\n",
    "df_pubmed.loc[df_pubmed.doi.isin(df_biorxiv.doi.values), \"subject_areas\"] = df_pubmed.doi[\n",
    "    df_pubmed.doi.isin(df_biorxiv.doi.values)].apply(lambda x: df_biorxiv.subject_areas[\n",
    "        df_biorxiv.doi == x].item())"
   ],
   "outputs": [],
   "metadata": {}
  },
  {
   "cell_type": "code",
   "execution_count": null,
   "source": [
    "# Filling the missing values of PubMed's features \"abstract\" and \"subject_areas\" with data from arXiv.\n",
    "df_pubmed.loc[df_pubmed.title.isin(df_arxiv.title.values) & df_pubmed.abstract.isnull(), \"abstract\"] = \\\n",
    "    df_pubmed.title[df_pubmed.title.isin(df_arxiv.title.values) & df_pubmed.abstract.isnull()].apply(\n",
    "        lambda x: df_arxiv.abstract[df_arxiv.title == x].item())\n",
    "df_pubmed.loc[df_pubmed.title.isin(df_arxiv.title.values), \"subject_areas\"] = df_pubmed.title[\n",
    "    df_pubmed.title.isin(df_arxiv.title.values)].apply(\n",
    "        lambda x: df_arxiv.subject_areas[df_arxiv.title == x].item())"
   ],
   "outputs": [],
   "metadata": {}
  },
  {
   "cell_type": "code",
   "execution_count": null,
   "source": [
    "# Filling the missing values of Scopus' features \"abstract\" and \"subject_areas\" with data from arXiv.\n",
    "df_scopus.loc[df_scopus.title.isin(df_arxiv.title.values) & df_scopus.abstract.isnull(), \"abstract\"] = \\\n",
    "    df_scopus.title[df_scopus.title.isin(df_arxiv.title.values) & df_scopus.abstract.isnull()].apply(\n",
    "        lambda x: df_arxiv.abstract[df_arxiv.title == x].item())\n",
    "df_scopus.loc[df_scopus.title.isin(df_arxiv.title.values) & df_scopus.subject_areas.isnull(),\n",
    "    \"subject_areas\"] = df_scopus.title[df_scopus.title.isin(df_arxiv.title.values) &\n",
    "        df_scopus.subject_areas.isnull()].apply(lambda x: df_arxiv.subject_areas[df_arxiv.title == x].item())"
   ],
   "outputs": [],
   "metadata": {}
  },
  {
   "cell_type": "code",
   "execution_count": null,
   "source": [
    "# Filling the missing values of Scopus' features \"doi\" and \"pubmed_id\" with data from PubMed.\n",
    "df_scopus.loc[df_scopus.pubmed_id.isin(df_pubmed.pubmed_id.values) & df_scopus.doi.isnull(), \"doi\"] = \\\n",
    "    df_scopus.loc[df_scopus.pubmed_id.isin(df_pubmed.pubmed_id.values) & df_scopus.doi.isnull(),\n",
    "        [\"doi\", \"pubmed_id\"]].apply(lambda x: df_pubmed.doi[df_pubmed.pubmed_id == x.pubmed_id].item() \\\n",
    "            if not x.doi else x.doi, axis=1)\n",
    "df_scopus.loc[df_scopus.title.isin(df_pubmed.title[df_pubmed.title.notnull()].values)\n",
    "    & df_scopus.pubmed_id.isnull() & df_scopus.doi[\n",
    "        df_scopus.doi.notnull()].isin(df_pubmed.doi[df_pubmed.doi.notnull()].values), \"pubmed_id\"] = \\\n",
    "df_scopus.loc[df_scopus.title.isin(df_pubmed.title[df_pubmed.title.notnull()].values)\n",
    "    & df_scopus.pubmed_id.isnull() & df_scopus.doi[\n",
    "        df_scopus.doi.notnull()].isin(df_pubmed.doi[df_pubmed.doi.notnull()].values),\n",
    "    [\"pubmed_id\", \"title\", \"doi\"]].apply(lambda x: x.pubmed_id if x.pubmed_id else np.reshape(\n",
    "        df_pubmed.pubmed_id[(df_pubmed.title == x.title) & (df_pubmed.doi == x.doi)].values, -1)[0] \\\n",
    "            if df_pubmed.pubmed_id[(df_pubmed.title == x.title) & (df_pubmed.doi == x.doi)].size > 0 \\\n",
    "                else None, axis=1)"
   ],
   "outputs": [],
   "metadata": {}
  },
  {
   "cell_type": "code",
   "execution_count": null,
   "source": [
    "# Filling the missing values of Scopus' feature \"abstract\" with data from PubMed.\n",
    "df_scopus.loc[df_scopus.pubmed_id.isin(df_pubmed.pubmed_id.values) & df_scopus.abstract.isnull(), \"abstract\"] = \\\n",
    "    df_scopus.loc[df_scopus.pubmed_id.isin(df_pubmed.pubmed_id.values) & df_scopus.abstract.isnull(),\n",
    "        [\"abstract\", \"pubmed_id\"]].apply(lambda x: df_pubmed.abstract[\n",
    "            df_pubmed.pubmed_id == x.pubmed_id].item() if not x.abstract else x.abstract, axis=1)\n",
    "df_scopus.loc[~df_scopus.pubmed_id.isin(df_pubmed.pubmed_id.values) &\n",
    "    df_scopus.title.isin(df_pubmed.title[df_pubmed.title.notnull()].values) & df_scopus.abstract.isnull() &\n",
    "    df_scopus.doi[df_scopus.doi.notnull()].isin(df_pubmed.doi[df_pubmed.doi.notnull()].values), \"abstract\"] = \\\n",
    "df_scopus.loc[~df_scopus.pubmed_id.isin(df_pubmed.pubmed_id.values) &\n",
    "    df_scopus.title.isin(df_pubmed.title[df_pubmed.title.notnull()].values) & df_scopus.abstract.isnull() &\n",
    "    df_scopus.doi[df_scopus.doi.notnull()].isin(df_pubmed.doi[df_pubmed.doi.notnull()].values),\n",
    "    [\"abstract\", \"title\", \"doi\"]].apply(lambda x: x.abstract if not x.abstract else np.reshape(\n",
    "        df_pubmed.abstract[(df_pubmed.title == x.title) & (df_pubmed.doi == x.doi)].values, -1)[0] \\\n",
    "            if df_pubmed.abstract[(df_pubmed.title == x.title) & (df_pubmed.doi == x.doi)].size > 0 \\\n",
    "                else None, axis=1)"
   ],
   "outputs": [],
   "metadata": {}
  },
  {
   "cell_type": "code",
   "execution_count": null,
   "source": [
    "# Filling the missing values of Scopus' feature \"auth_keywords\" with data from PubMed.\n",
    "df_scopus.loc[df_scopus.pubmed_id.isin(df_pubmed.pubmed_id.values) & df_scopus.auth_keywords.isnull(),\n",
    "    \"auth_keywords\"] = df_scopus.loc[df_scopus.pubmed_id.isin(df_pubmed.pubmed_id.values) &\n",
    "        df_scopus.auth_keywords.isnull(), [\"auth_keywords\", \"pubmed_id\"]].apply(\n",
    "            lambda x: df_pubmed.auth_keywords[df_pubmed.pubmed_id == x.pubmed_id].item() \\\n",
    "                if not x.auth_keywords else x.auth_keywords, axis=1)\n",
    "df_scopus.loc[~df_scopus.pubmed_id.isin(df_pubmed.pubmed_id.values) &\n",
    "    df_scopus.title.isin(df_pubmed.title[df_pubmed.title.notnull()].values) & df_scopus.auth_keywords.isnull() &\n",
    "    df_scopus.doi[df_scopus.doi.notnull()].isin(df_pubmed.doi[df_pubmed.doi.notnull()].values), \"auth_keywords\"] = \\\n",
    "df_scopus.loc[~df_scopus.pubmed_id.isin(df_pubmed.pubmed_id.values) &\n",
    "    df_scopus.title.isin(df_pubmed.title[df_pubmed.title.notnull()].values) & df_scopus.auth_keywords.isnull() &\n",
    "    df_scopus.doi[df_scopus.doi.notnull()].isin(df_pubmed.doi[df_pubmed.doi.notnull()].values),\n",
    "    [\"auth_keywords\", \"title\", \"doi\"]].apply(lambda x: x.auth_keywords if x.auth_keywords else np.reshape(\n",
    "        df_pubmed.auth_keywords[(df_pubmed.title == x.title) & (df_pubmed.doi == x.doi)].values, -1)[0] \\\n",
    "            if df_pubmed.auth_keywords[(df_pubmed.title == x.title) & (df_pubmed.doi == x.doi)].size > 0 \\\n",
    "                else None, axis=1)"
   ],
   "outputs": [],
   "metadata": {}
  },
  {
   "cell_type": "code",
   "execution_count": null,
   "source": [
    "# Filling the missing values of Scopus' features \"author_affil\" and \"subject_areas\" with data from PubMed.\n",
    "df_scopus.loc[df_scopus.pubmed_id.isin(df_pubmed.pubmed_id.values) & df_scopus.author_affil.isnull(),\n",
    "    \"author_affil\"] = df_scopus.loc[df_scopus.pubmed_id.isin(df_pubmed.pubmed_id.values) &\n",
    "        df_scopus.author_affil.isnull(), [\"author_affil\", \"pubmed_id\"]].apply(\n",
    "            lambda x: df_pubmed.author_affil[df_pubmed.pubmed_id == x.pubmed_id].item() \\\n",
    "                if not x.author_affil else x.author_affil, axis=1)\n",
    "df_scopus.loc[df_scopus.pubmed_id.isin(df_pubmed.pubmed_id.values) & df_scopus.subject_areas.isnull(),\n",
    "    \"subject_areas\"] = df_scopus.loc[df_scopus.pubmed_id.isin(df_pubmed.pubmed_id.values) &\n",
    "        df_scopus.subject_areas.isnull(), [\"subject_areas\", \"pubmed_id\"]].apply(\n",
    "            lambda x: df_pubmed.subject_areas[df_pubmed.pubmed_id == x.pubmed_id].item() \\\n",
    "                if not x.subject_areas else x.subject_areas, axis=1)"
   ],
   "outputs": [],
   "metadata": {}
  },
  {
   "cell_type": "code",
   "execution_count": null,
   "source": [
    "# Removing the duplicated records between arXiv and bioRxiv.\n",
    "df_arxiv = df_arxiv[~df_arxiv.title.isin(df_biorxiv.title.values)]"
   ],
   "outputs": [],
   "metadata": {}
  },
  {
   "cell_type": "code",
   "execution_count": null,
   "source": [
    "# Removing the duplicated records between arXiv and PubMed.\n",
    "df_arxiv = df_arxiv[~df_arxiv.title.isin(df_pubmed.title[df_pubmed.title.notnull()].values)]"
   ],
   "outputs": [],
   "metadata": {}
  },
  {
   "cell_type": "code",
   "execution_count": null,
   "source": [
    "# Removing the duplicated records between arXiv and Scopus.\n",
    "df_arxiv = df_arxiv[~df_arxiv.title.isin(df_scopus.title.values)]"
   ],
   "outputs": [],
   "metadata": {}
  },
  {
   "cell_type": "code",
   "execution_count": null,
   "source": [
    "# Removing the duplicated records between bioRxiv and PubMed.\n",
    "df_biorxiv = df_biorxiv[~(df_biorxiv.title.isin(df_pubmed.title[df_pubmed.title.notnull()].values) &\n",
    "    df_biorxiv.doi.isin(df_pubmed.doi[df_pubmed.doi.notnull()].values))]"
   ],
   "outputs": [],
   "metadata": {}
  },
  {
   "cell_type": "code",
   "execution_count": null,
   "source": [
    "# Removing the duplicated records between bioRxiv and Scopus.\n",
    "df_biorxiv = df_biorxiv[~(df_biorxiv.title.isin(df_scopus.title.values) &\n",
    "    df_biorxiv.doi.isin(df_scopus.doi[df_scopus.doi.notnull()].values))]"
   ],
   "outputs": [],
   "metadata": {}
  },
  {
   "cell_type": "code",
   "execution_count": null,
   "source": [
    "# Removing the duplicated records between PubMed and Scopus.\n",
    "idx_removed = df_pubmed.pubmed_id[df_pubmed.pubmed_id.isin(df_scopus.pubmed_id[\n",
    "    df_scopus.pubmed_id.notnull()].values)].index.to_list()\n",
    "idx_removed += df_pubmed.pubmed_id[~df_pubmed.pubmed_id.isin(df_scopus.pubmed_id[\n",
    "        df_scopus.pubmed_id.notnull()].values) &\n",
    "    df_pubmed.title.isin(df_scopus.title.values) &\n",
    "    df_pubmed.doi.isin(df_scopus.doi[df_scopus.doi.notnull()].values)].index.to_list()\n",
    "df_pubmed = df_pubmed[~df_pubmed.index.isin(list(set(idx_removed)))]"
   ],
   "outputs": [],
   "metadata": {}
  },
  {
   "cell_type": "code",
   "execution_count": null,
   "source": [
    "# Visualizing the final number of records for each dataset.\n",
    "print(\"arXiv:\", df_arxiv.id.size)\n",
    "print(\"bioRxiv:\", df_biorxiv.id.size)\n",
    "print(\"PubMed:\", df_pubmed.pubmed_id.size)\n",
    "print(\"Scopus:\", df_scopus.id.size)\n",
    "print(\"Expected total number of records for the final dataset:\",\n",
    "      (df_arxiv.id.size + df_biorxiv.id.size + df_pubmed.pubmed_id.size + df_scopus.id.size))"
   ],
   "outputs": [],
   "metadata": {
    "tags": []
   }
  },
  {
   "cell_type": "code",
   "execution_count": null,
   "source": [
    "# Merging/Joining the datasets.\n",
    "df_final = pd.concat([df_arxiv, df_biorxiv, df_pubmed, df_scopus], ignore_index=True)"
   ],
   "outputs": [],
   "metadata": {
    "tags": []
   }
  },
  {
   "cell_type": "code",
   "execution_count": null,
   "source": [
    "# Defining the \"None\" value for the \"NaN\" values.\n",
    "df_final.replace({np.nan: None}, inplace=True)"
   ],
   "outputs": [],
   "metadata": {}
  },
  {
   "cell_type": "code",
   "execution_count": null,
   "source": [
    "# Renaming the feature \"source\".\n",
    "df_final.rename(columns={\"source\": \"data_source\"}, inplace=True)"
   ],
   "outputs": [],
   "metadata": {}
  },
  {
   "cell_type": "code",
   "execution_count": null,
   "source": [
    "# Checking the dataframe.\n",
    "df_final.head()"
   ],
   "outputs": [],
   "metadata": {}
  },
  {
   "cell_type": "code",
   "execution_count": null,
   "source": [
    "# Visualizing the information of dataset.\n",
    "df_final.info()"
   ],
   "outputs": [],
   "metadata": {
    "tags": []
   }
  },
  {
   "cell_type": "code",
   "execution_count": null,
   "source": [
    "# Exporting the final dataset to CSV file.\n",
    "df_final.to_csv(\"../../data/raw/final_raw.csv\", index=False, quoting=csv.QUOTE_ALL)"
   ],
   "outputs": [],
   "metadata": {}
  }
 ],
 "metadata": {
  "kernelspec": {
   "name": "python3",
   "display_name": "Python 3.8.5 64-bit ('base': conda)"
  },
  "language_info": {
   "codemirror_mode": {
    "name": "ipython",
    "version": 3
   },
   "file_extension": ".py",
   "mimetype": "text/x-python",
   "name": "python",
   "nbconvert_exporter": "python",
   "pygments_lexer": "ipython3",
   "version": "3.8.5"
  },
  "interpreter": {
   "hash": "f50bd5474255f82aa829301912ce59e29110123be660cf8d7583f66a20371684"
  }
 },
 "nbformat": 4,
 "nbformat_minor": 2
}