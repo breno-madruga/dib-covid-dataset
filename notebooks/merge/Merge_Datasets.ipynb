{
 "cells": [
  {
   "cell_type": "markdown",
   "metadata": {},
   "source": [
    "# Merging the datasets of publications related to COVID-19"
   ]
  },
  {
   "cell_type": "code",
   "execution_count": 1,
   "metadata": {},
   "outputs": [],
   "source": [
    "# Importing the required libraries.\n",
    "import csv, re, pandas as pd, numpy as np\n",
    "from string import punctuation"
   ]
  },
  {
   "cell_type": "markdown",
   "metadata": {},
   "source": [
    "## 1. Defining the required functions"
   ]
  },
  {
   "cell_type": "code",
   "execution_count": 2,
   "metadata": {},
   "outputs": [],
   "source": [
    "# Defining the function \"clean_title\".\n",
    "def clean_title(title):\n",
    "    if len(title) == 1 and title in punctuation:\n",
    "        return None\n",
    "    if title[0] in punctuation:\n",
    "        title = title[1:]\n",
    "    if title[-1] in punctuation:\n",
    "        title = title[:-1]\n",
    "    return re.sub(r\"\\s+\", \" \", title).lower()"
   ]
  },
  {
   "cell_type": "markdown",
   "metadata": {},
   "source": [
    "## 2. Getting and preprocessing the datasets"
   ]
  },
  {
   "cell_type": "markdown",
   "metadata": {},
   "source": [
    "### 2.1. arXiv"
   ]
  },
  {
   "cell_type": "code",
   "execution_count": 3,
   "metadata": {},
   "outputs": [],
   "source": [
    "# Getting the data.\n",
    "df_arxiv = pd.read_csv(\"../../data/prepared/arxiv_covid_19.csv\", header=0, dtype={\"id\": \"str\"})"
   ]
  },
  {
   "cell_type": "code",
   "execution_count": 4,
   "metadata": {},
   "outputs": [
    {
     "data": {
      "text/html": "<div>\n<style scoped>\n    .dataframe tbody tr th:only-of-type {\n        vertical-align: middle;\n    }\n\n    .dataframe tbody tr th {\n        vertical-align: top;\n    }\n\n    .dataframe thead th {\n        text-align: right;\n    }\n</style>\n<table border=\"1\" class=\"dataframe\">\n  <thead>\n    <tr style=\"text-align: right;\">\n      <th></th>\n      <th>id</th>\n      <th>subject_areas</th>\n      <th>title</th>\n      <th>authors</th>\n      <th>abstract</th>\n      <th>publication_date</th>\n    </tr>\n  </thead>\n  <tbody>\n    <tr>\n      <th>0</th>\n      <td>2103.03219</td>\n      <td>('General Finance',)</td>\n      <td>The Impact of COVID-19 on Stock Market Volatil...</td>\n      <td>({'id': '-8736464535247814394', 'name': 'Ateeb...</td>\n      <td>This paper examines the impact of coronavirus ...</td>\n      <td>2021-02-11</td>\n    </tr>\n    <tr>\n      <th>1</th>\n      <td>2103.03055</td>\n      <td>('Image and Video Processing', 'Computer Visio...</td>\n      <td>Self-supervised deep convolutional neural netw...</td>\n      <td>({'id': '1387464675565637337', 'name': 'Matej ...</td>\n      <td>Chest radiography is a relatively cheap, widel...</td>\n      <td>2021-03-04</td>\n    </tr>\n    <tr>\n      <th>2</th>\n      <td>2103.03038</td>\n      <td>('Computer Vision and Pattern Recognition',)</td>\n      <td>Mobile Touchless Fingerprint Recognition: Impl...</td>\n      <td>({'id': '1917885517247673923', 'name': 'Jannis...</td>\n      <td>This work presents an automated touchless fing...</td>\n      <td>2021-03-04</td>\n    </tr>\n    <tr>\n      <th>3</th>\n      <td>2103.02961</td>\n      <td>('Image and Video Processing', 'Computer Visio...</td>\n      <td>Probabilistic combination of eigenlungs-based ...</td>\n      <td>({'id': '-3330601887987387557', 'name': 'Juan ...</td>\n      <td>The outbreak of the COVID-19 (Coronavirus dise...</td>\n      <td>2021-03-04</td>\n    </tr>\n    <tr>\n      <th>4</th>\n      <td>2103.02917</td>\n      <td>('Computers and Society', 'Computation and Lan...</td>\n      <td>MP Twitter Engagement and Abuse Post-first COV...</td>\n      <td>({'id': '-6377212943789062063', 'name': 'Traci...</td>\n      <td>The UK has had a volatile political environmen...</td>\n      <td>2021-03-04</td>\n    </tr>\n  </tbody>\n</table>\n</div>",
      "text/plain": "           id                                      subject_areas  \\\n0  2103.03219                               ('General Finance',)   \n1  2103.03055  ('Image and Video Processing', 'Computer Visio...   \n2  2103.03038       ('Computer Vision and Pattern Recognition',)   \n3  2103.02961  ('Image and Video Processing', 'Computer Visio...   \n4  2103.02917  ('Computers and Society', 'Computation and Lan...   \n\n                                               title  \\\n0  The Impact of COVID-19 on Stock Market Volatil...   \n1  Self-supervised deep convolutional neural netw...   \n2  Mobile Touchless Fingerprint Recognition: Impl...   \n3  Probabilistic combination of eigenlungs-based ...   \n4  MP Twitter Engagement and Abuse Post-first COV...   \n\n                                             authors  \\\n0  ({'id': '-8736464535247814394', 'name': 'Ateeb...   \n1  ({'id': '1387464675565637337', 'name': 'Matej ...   \n2  ({'id': '1917885517247673923', 'name': 'Jannis...   \n3  ({'id': '-3330601887987387557', 'name': 'Juan ...   \n4  ({'id': '-6377212943789062063', 'name': 'Traci...   \n\n                                            abstract publication_date  \n0  This paper examines the impact of coronavirus ...       2021-02-11  \n1  Chest radiography is a relatively cheap, widel...       2021-03-04  \n2  This work presents an automated touchless fing...       2021-03-04  \n3  The outbreak of the COVID-19 (Coronavirus dise...       2021-03-04  \n4  The UK has had a volatile political environmen...       2021-03-04  "
     },
     "execution_count": 4,
     "metadata": {},
     "output_type": "execute_result"
    }
   ],
   "source": [
    "# Checking the dataframe.\n",
    "df_arxiv.head()"
   ]
  },
  {
   "cell_type": "code",
   "execution_count": 5,
   "metadata": {
    "tags": []
   },
   "outputs": [
    {
     "name": "stdout",
     "output_type": "stream",
     "text": [
      "<class 'pandas.core.frame.DataFrame'>\n",
      "RangeIndex: 3640 entries, 0 to 3639\n",
      "Data columns (total 6 columns):\n",
      " #   Column            Non-Null Count  Dtype \n",
      "---  ------            --------------  ----- \n",
      " 0   id                3640 non-null   object\n",
      " 1   subject_areas     3640 non-null   object\n",
      " 2   title             3640 non-null   object\n",
      " 3   authors           3640 non-null   object\n",
      " 4   abstract          3640 non-null   object\n",
      " 5   publication_date  3640 non-null   object\n",
      "dtypes: object(6)\n",
      "memory usage: 170.8+ KB\n"
     ]
    }
   ],
   "source": [
    "# Visualizing the information of dataset.\n",
    "df_arxiv.info()"
   ]
  },
  {
   "cell_type": "code",
   "execution_count": 6,
   "metadata": {},
   "outputs": [],
   "source": [
    "# Defining the \"None\" value for the \"NaN\" values.\n",
    "df_arxiv.replace({np.nan: None}, inplace=True)"
   ]
  },
  {
   "cell_type": "code",
   "execution_count": 7,
   "metadata": {},
   "outputs": [],
   "source": [
    "# Changing the type of features.\n",
    "df_arxiv.loc[:, [\"subject_areas\", \"authors\"]] = df_arxiv.loc[:, [\"subject_areas\", \"authors\"]].apply(\n",
    "    lambda x: x.apply(eval))\n",
    "df_arxiv.publication_date = pd.to_datetime(df_arxiv.publication_date)"
   ]
  },
  {
   "cell_type": "code",
   "execution_count": 8,
   "metadata": {},
   "outputs": [],
   "source": [
    "# Defining the feature \"source\".\n",
    "df_arxiv[\"source\"] = \"arXiv\""
   ]
  },
  {
   "cell_type": "code",
   "execution_count": 9,
   "metadata": {},
   "outputs": [],
   "source": [
    "# Normalizing the feature \"title\".\n",
    "df_arxiv.title = df_arxiv.title.apply(clean_title)"
   ]
  },
  {
   "cell_type": "code",
   "execution_count": 10,
   "metadata": {},
   "outputs": [
    {
     "data": {
      "text/html": "<div>\n<style scoped>\n    .dataframe tbody tr th:only-of-type {\n        vertical-align: middle;\n    }\n\n    .dataframe tbody tr th {\n        vertical-align: top;\n    }\n\n    .dataframe thead th {\n        text-align: right;\n    }\n</style>\n<table border=\"1\" class=\"dataframe\">\n  <thead>\n    <tr style=\"text-align: right;\">\n      <th></th>\n      <th>id</th>\n      <th>subject_areas</th>\n      <th>title</th>\n      <th>authors</th>\n      <th>abstract</th>\n      <th>publication_date</th>\n      <th>source</th>\n    </tr>\n  </thead>\n  <tbody>\n    <tr>\n      <th>0</th>\n      <td>2103.03219</td>\n      <td>(General Finance,)</td>\n      <td>the impact of covid-19 on stock market volatil...</td>\n      <td>({'id': '-8736464535247814394', 'name': 'Ateeb...</td>\n      <td>This paper examines the impact of coronavirus ...</td>\n      <td>2021-02-11</td>\n      <td>arXiv</td>\n    </tr>\n    <tr>\n      <th>1</th>\n      <td>2103.03055</td>\n      <td>(Image and Video Processing, Computer Vision a...</td>\n      <td>self-supervised deep convolutional neural netw...</td>\n      <td>({'id': '1387464675565637337', 'name': 'Matej ...</td>\n      <td>Chest radiography is a relatively cheap, widel...</td>\n      <td>2021-03-04</td>\n      <td>arXiv</td>\n    </tr>\n    <tr>\n      <th>2</th>\n      <td>2103.03038</td>\n      <td>(Computer Vision and Pattern Recognition,)</td>\n      <td>mobile touchless fingerprint recognition: impl...</td>\n      <td>({'id': '1917885517247673923', 'name': 'Jannis...</td>\n      <td>This work presents an automated touchless fing...</td>\n      <td>2021-03-04</td>\n      <td>arXiv</td>\n    </tr>\n    <tr>\n      <th>3</th>\n      <td>2103.02961</td>\n      <td>(Image and Video Processing, Computer Vision a...</td>\n      <td>probabilistic combination of eigenlungs-based ...</td>\n      <td>({'id': '-3330601887987387557', 'name': 'Juan ...</td>\n      <td>The outbreak of the COVID-19 (Coronavirus dise...</td>\n      <td>2021-03-04</td>\n      <td>arXiv</td>\n    </tr>\n    <tr>\n      <th>4</th>\n      <td>2103.02917</td>\n      <td>(Computers and Society, Computation and Language)</td>\n      <td>mp twitter engagement and abuse post-first cov...</td>\n      <td>({'id': '-6377212943789062063', 'name': 'Traci...</td>\n      <td>The UK has had a volatile political environmen...</td>\n      <td>2021-03-04</td>\n      <td>arXiv</td>\n    </tr>\n  </tbody>\n</table>\n</div>",
      "text/plain": "           id                                      subject_areas  \\\n0  2103.03219                                 (General Finance,)   \n1  2103.03055  (Image and Video Processing, Computer Vision a...   \n2  2103.03038         (Computer Vision and Pattern Recognition,)   \n3  2103.02961  (Image and Video Processing, Computer Vision a...   \n4  2103.02917  (Computers and Society, Computation and Language)   \n\n                                               title  \\\n0  the impact of covid-19 on stock market volatil...   \n1  self-supervised deep convolutional neural netw...   \n2  mobile touchless fingerprint recognition: impl...   \n3  probabilistic combination of eigenlungs-based ...   \n4  mp twitter engagement and abuse post-first cov...   \n\n                                             authors  \\\n0  ({'id': '-8736464535247814394', 'name': 'Ateeb...   \n1  ({'id': '1387464675565637337', 'name': 'Matej ...   \n2  ({'id': '1917885517247673923', 'name': 'Jannis...   \n3  ({'id': '-3330601887987387557', 'name': 'Juan ...   \n4  ({'id': '-6377212943789062063', 'name': 'Traci...   \n\n                                            abstract publication_date source  \n0  This paper examines the impact of coronavirus ...       2021-02-11  arXiv  \n1  Chest radiography is a relatively cheap, widel...       2021-03-04  arXiv  \n2  This work presents an automated touchless fing...       2021-03-04  arXiv  \n3  The outbreak of the COVID-19 (Coronavirus dise...       2021-03-04  arXiv  \n4  The UK has had a volatile political environmen...       2021-03-04  arXiv  "
     },
     "execution_count": 10,
     "metadata": {},
     "output_type": "execute_result"
    }
   ],
   "source": [
    "# Checking the result.\n",
    "df_arxiv.head()"
   ]
  },
  {
   "cell_type": "code",
   "execution_count": 11,
   "metadata": {
    "tags": []
   },
   "outputs": [
    {
     "name": "stdout",
     "output_type": "stream",
     "text": [
      "<class 'pandas.core.frame.DataFrame'>\n",
      "RangeIndex: 3640 entries, 0 to 3639\n",
      "Data columns (total 7 columns):\n",
      " #   Column            Non-Null Count  Dtype         \n",
      "---  ------            --------------  -----         \n",
      " 0   id                3640 non-null   object        \n",
      " 1   subject_areas     3640 non-null   object        \n",
      " 2   title             3640 non-null   object        \n",
      " 3   authors           3640 non-null   object        \n",
      " 4   abstract          3640 non-null   object        \n",
      " 5   publication_date  3640 non-null   datetime64[ns]\n",
      " 6   source            3640 non-null   object        \n",
      "dtypes: datetime64[ns](1), object(6)\n",
      "memory usage: 199.2+ KB\n"
     ]
    }
   ],
   "source": [
    "# Visualizing the information of dataset.\n",
    "df_arxiv.info()"
   ]
  },
  {
   "cell_type": "markdown",
   "metadata": {},
   "source": [
    "### 2.2. bioRxiv"
   ]
  },
  {
   "cell_type": "code",
   "execution_count": 12,
   "metadata": {},
   "outputs": [],
   "source": [
    "# Getting the data.\n",
    "df_biorxiv = pd.read_csv(\"../../data/prepared/biorxiv_covid_19.csv\", header=0, dtype={\"id\": \"str\"})"
   ]
  },
  {
   "cell_type": "code",
   "execution_count": 13,
   "metadata": {},
   "outputs": [
    {
     "data": {
      "text/html": "<div>\n<style scoped>\n    .dataframe tbody tr th:only-of-type {\n        vertical-align: middle;\n    }\n\n    .dataframe tbody tr th {\n        vertical-align: top;\n    }\n\n    .dataframe thead th {\n        text-align: right;\n    }\n</style>\n<table border=\"1\" class=\"dataframe\">\n  <thead>\n    <tr style=\"text-align: right;\">\n      <th></th>\n      <th>doi</th>\n      <th>title</th>\n      <th>publication_date</th>\n      <th>source</th>\n      <th>id</th>\n      <th>abstract</th>\n      <th>author_affil</th>\n      <th>subject_areas</th>\n    </tr>\n  </thead>\n  <tbody>\n    <tr>\n      <th>0</th>\n      <td>10.1101/2020.08.25.20181545</td>\n      <td>\"I walk around like my hands are covered in mu...</td>\n      <td>2020-08-31</td>\n      <td>medRxiv</td>\n      <td>2020.08.25.20181545</td>\n      <td>ObjectivesTo investigate how and why Canadians...</td>\n      <td>({'id': '8616496335208757239', 'name': 'Robyn ...</td>\n      <td>('public and global health',)</td>\n    </tr>\n    <tr>\n      <th>1</th>\n      <td>10.1101/2020.05.28.120709</td>\n      <td>\"Monoclonal-type\" plastic antibodies for SARS-...</td>\n      <td>2020-05-28</td>\n      <td>bioRxiv</td>\n      <td>2020.05.28.120709</td>\n      <td>Summary of the ideaOur idea is focused on the ...</td>\n      <td>({'id': '2070372118427817817', 'name': 'France...</td>\n      <td>('synthetic biology',)</td>\n    </tr>\n    <tr>\n      <th>2</th>\n      <td>10.1101/2020.04.16.20067884</td>\n      <td>\"No test is better than a bad test\": Impact of...</td>\n      <td>2020-04-22</td>\n      <td>medRxiv</td>\n      <td>2020.04.16.20067884</td>\n      <td>Testing is viewed as a critical aspect of any ...</td>\n      <td>({'id': '-7499246138313714402', 'name': 'Nicho...</td>\n      <td>('epidemiology',)</td>\n    </tr>\n    <tr>\n      <th>3</th>\n      <td>10.1101/2020.12.22.20248719</td>\n      <td>\"There's No Place Like Home for The Holidays:\"...</td>\n      <td>2020-12-24</td>\n      <td>medRxiv</td>\n      <td>2020.12.22.20248719</td>\n      <td>In the US, public health officials discouraged...</td>\n      <td>({'id': '-1353686671842246904', 'name': 'Shrut...</td>\n      <td>('epidemiology',)</td>\n    </tr>\n    <tr>\n      <th>4</th>\n      <td>10.1101/2021.01.29.21250626</td>\n      <td>\"This is really like waiting for war and this ...</td>\n      <td>2021-02-01</td>\n      <td>medRxiv</td>\n      <td>2021.01.29.21250626</td>\n      <td>Healthcare professionals (HCPs) are facing rem...</td>\n      <td>({'id': '-8861698337242705120', 'name': 'Madle...</td>\n      <td>('intensive care and critical care medicine',)</td>\n    </tr>\n  </tbody>\n</table>\n</div>",
      "text/plain": "                           doi  \\\n0  10.1101/2020.08.25.20181545   \n1    10.1101/2020.05.28.120709   \n2  10.1101/2020.04.16.20067884   \n3  10.1101/2020.12.22.20248719   \n4  10.1101/2021.01.29.21250626   \n\n                                               title publication_date  \\\n0  \"I walk around like my hands are covered in mu...       2020-08-31   \n1  \"Monoclonal-type\" plastic antibodies for SARS-...       2020-05-28   \n2  \"No test is better than a bad test\": Impact of...       2020-04-22   \n3  \"There's No Place Like Home for The Holidays:\"...       2020-12-24   \n4  \"This is really like waiting for war and this ...       2021-02-01   \n\n    source                   id  \\\n0  medRxiv  2020.08.25.20181545   \n1  bioRxiv    2020.05.28.120709   \n2  medRxiv  2020.04.16.20067884   \n3  medRxiv  2020.12.22.20248719   \n4  medRxiv  2021.01.29.21250626   \n\n                                            abstract  \\\n0  ObjectivesTo investigate how and why Canadians...   \n1  Summary of the ideaOur idea is focused on the ...   \n2  Testing is viewed as a critical aspect of any ...   \n3  In the US, public health officials discouraged...   \n4  Healthcare professionals (HCPs) are facing rem...   \n\n                                        author_affil  \\\n0  ({'id': '8616496335208757239', 'name': 'Robyn ...   \n1  ({'id': '2070372118427817817', 'name': 'France...   \n2  ({'id': '-7499246138313714402', 'name': 'Nicho...   \n3  ({'id': '-1353686671842246904', 'name': 'Shrut...   \n4  ({'id': '-8861698337242705120', 'name': 'Madle...   \n\n                                    subject_areas  \n0                   ('public and global health',)  \n1                          ('synthetic biology',)  \n2                               ('epidemiology',)  \n3                               ('epidemiology',)  \n4  ('intensive care and critical care medicine',)  "
     },
     "execution_count": 13,
     "metadata": {},
     "output_type": "execute_result"
    }
   ],
   "source": [
    "# Checking the dataframe.\n",
    "df_biorxiv.head()"
   ]
  },
  {
   "cell_type": "code",
   "execution_count": 14,
   "metadata": {
    "tags": []
   },
   "outputs": [
    {
     "name": "stdout",
     "output_type": "stream",
     "text": [
      "<class 'pandas.core.frame.DataFrame'>\n",
      "RangeIndex: 13789 entries, 0 to 13788\n",
      "Data columns (total 8 columns):\n",
      " #   Column            Non-Null Count  Dtype \n",
      "---  ------            --------------  ----- \n",
      " 0   doi               13789 non-null  object\n",
      " 1   title             13789 non-null  object\n",
      " 2   publication_date  13789 non-null  object\n",
      " 3   source            13789 non-null  object\n",
      " 4   id                13789 non-null  object\n",
      " 5   abstract          13788 non-null  object\n",
      " 6   author_affil      13702 non-null  object\n",
      " 7   subject_areas     13789 non-null  object\n",
      "dtypes: object(8)\n",
      "memory usage: 861.9+ KB\n"
     ]
    }
   ],
   "source": [
    "# Visualizing the information of dataset.\n",
    "df_biorxiv.info()"
   ]
  },
  {
   "cell_type": "code",
   "execution_count": 15,
   "metadata": {},
   "outputs": [],
   "source": [
    "# Defining the \"None\" value for the \"NaN\" values.\n",
    "df_biorxiv.replace({np.nan: None}, inplace=True)"
   ]
  },
  {
   "cell_type": "code",
   "execution_count": 16,
   "metadata": {},
   "outputs": [],
   "source": [
    "# Changing the type of features.\n",
    "df_biorxiv.author_affil.loc[df_biorxiv.author_affil.notnull()] = df_biorxiv.author_affil.loc[\n",
    "    df_biorxiv.author_affil.notnull()].apply(eval)\n",
    "df_biorxiv.subject_areas.loc[df_biorxiv.subject_areas.notnull()] = df_biorxiv.subject_areas.loc[\n",
    "    df_biorxiv.subject_areas.notnull()].apply(eval)\n",
    "df_biorxiv.publication_date = pd.to_datetime(df_biorxiv.publication_date)"
   ]
  },
  {
   "cell_type": "code",
   "execution_count": 17,
   "metadata": {},
   "outputs": [],
   "source": [
    "# Normalizing the feature \"title\".\n",
    "df_biorxiv.title = df_biorxiv.title.apply(clean_title)"
   ]
  },
  {
   "cell_type": "code",
   "execution_count": 18,
   "metadata": {},
   "outputs": [
    {
     "data": {
      "text/html": "<div>\n<style scoped>\n    .dataframe tbody tr th:only-of-type {\n        vertical-align: middle;\n    }\n\n    .dataframe tbody tr th {\n        vertical-align: top;\n    }\n\n    .dataframe thead th {\n        text-align: right;\n    }\n</style>\n<table border=\"1\" class=\"dataframe\">\n  <thead>\n    <tr style=\"text-align: right;\">\n      <th></th>\n      <th>doi</th>\n      <th>title</th>\n      <th>publication_date</th>\n      <th>source</th>\n      <th>id</th>\n      <th>abstract</th>\n      <th>author_affil</th>\n      <th>subject_areas</th>\n    </tr>\n  </thead>\n  <tbody>\n    <tr>\n      <th>0</th>\n      <td>10.1101/2020.08.25.20181545</td>\n      <td>i walk around like my hands are covered in mud...</td>\n      <td>2020-08-31</td>\n      <td>medRxiv</td>\n      <td>2020.08.25.20181545</td>\n      <td>ObjectivesTo investigate how and why Canadians...</td>\n      <td>({'id': '8616496335208757239', 'name': 'Robyn ...</td>\n      <td>(public and global health,)</td>\n    </tr>\n    <tr>\n      <th>1</th>\n      <td>10.1101/2020.05.28.120709</td>\n      <td>monoclonal-type\" plastic antibodies for sars-c...</td>\n      <td>2020-05-28</td>\n      <td>bioRxiv</td>\n      <td>2020.05.28.120709</td>\n      <td>Summary of the ideaOur idea is focused on the ...</td>\n      <td>({'id': '2070372118427817817', 'name': 'France...</td>\n      <td>(synthetic biology,)</td>\n    </tr>\n    <tr>\n      <th>2</th>\n      <td>10.1101/2020.04.16.20067884</td>\n      <td>no test is better than a bad test\": impact of ...</td>\n      <td>2020-04-22</td>\n      <td>medRxiv</td>\n      <td>2020.04.16.20067884</td>\n      <td>Testing is viewed as a critical aspect of any ...</td>\n      <td>({'id': '-7499246138313714402', 'name': 'Nicho...</td>\n      <td>(epidemiology,)</td>\n    </tr>\n    <tr>\n      <th>3</th>\n      <td>10.1101/2020.12.22.20248719</td>\n      <td>there's no place like home for the holidays:\" ...</td>\n      <td>2020-12-24</td>\n      <td>medRxiv</td>\n      <td>2020.12.22.20248719</td>\n      <td>In the US, public health officials discouraged...</td>\n      <td>({'id': '-1353686671842246904', 'name': 'Shrut...</td>\n      <td>(epidemiology,)</td>\n    </tr>\n    <tr>\n      <th>4</th>\n      <td>10.1101/2021.01.29.21250626</td>\n      <td>this is really like waiting for war and this i...</td>\n      <td>2021-02-01</td>\n      <td>medRxiv</td>\n      <td>2021.01.29.21250626</td>\n      <td>Healthcare professionals (HCPs) are facing rem...</td>\n      <td>({'id': '-8861698337242705120', 'name': 'Madle...</td>\n      <td>(intensive care and critical care medicine,)</td>\n    </tr>\n  </tbody>\n</table>\n</div>",
      "text/plain": "                           doi  \\\n0  10.1101/2020.08.25.20181545   \n1    10.1101/2020.05.28.120709   \n2  10.1101/2020.04.16.20067884   \n3  10.1101/2020.12.22.20248719   \n4  10.1101/2021.01.29.21250626   \n\n                                               title publication_date  \\\n0  i walk around like my hands are covered in mud...       2020-08-31   \n1  monoclonal-type\" plastic antibodies for sars-c...       2020-05-28   \n2  no test is better than a bad test\": impact of ...       2020-04-22   \n3  there's no place like home for the holidays:\" ...       2020-12-24   \n4  this is really like waiting for war and this i...       2021-02-01   \n\n    source                   id  \\\n0  medRxiv  2020.08.25.20181545   \n1  bioRxiv    2020.05.28.120709   \n2  medRxiv  2020.04.16.20067884   \n3  medRxiv  2020.12.22.20248719   \n4  medRxiv  2021.01.29.21250626   \n\n                                            abstract  \\\n0  ObjectivesTo investigate how and why Canadians...   \n1  Summary of the ideaOur idea is focused on the ...   \n2  Testing is viewed as a critical aspect of any ...   \n3  In the US, public health officials discouraged...   \n4  Healthcare professionals (HCPs) are facing rem...   \n\n                                        author_affil  \\\n0  ({'id': '8616496335208757239', 'name': 'Robyn ...   \n1  ({'id': '2070372118427817817', 'name': 'France...   \n2  ({'id': '-7499246138313714402', 'name': 'Nicho...   \n3  ({'id': '-1353686671842246904', 'name': 'Shrut...   \n4  ({'id': '-8861698337242705120', 'name': 'Madle...   \n\n                                  subject_areas  \n0                   (public and global health,)  \n1                          (synthetic biology,)  \n2                               (epidemiology,)  \n3                               (epidemiology,)  \n4  (intensive care and critical care medicine,)  "
     },
     "execution_count": 18,
     "metadata": {},
     "output_type": "execute_result"
    }
   ],
   "source": [
    "# Checking the dataframe.\n",
    "df_biorxiv.head()"
   ]
  },
  {
   "cell_type": "code",
   "execution_count": 19,
   "metadata": {
    "tags": []
   },
   "outputs": [
    {
     "name": "stdout",
     "output_type": "stream",
     "text": [
      "<class 'pandas.core.frame.DataFrame'>\n",
      "RangeIndex: 13789 entries, 0 to 13788\n",
      "Data columns (total 8 columns):\n",
      " #   Column            Non-Null Count  Dtype         \n",
      "---  ------            --------------  -----         \n",
      " 0   doi               13789 non-null  object        \n",
      " 1   title             13789 non-null  object        \n",
      " 2   publication_date  13789 non-null  datetime64[ns]\n",
      " 3   source            13789 non-null  object        \n",
      " 4   id                13789 non-null  object        \n",
      " 5   abstract          13788 non-null  object        \n",
      " 6   author_affil      13702 non-null  object        \n",
      " 7   subject_areas     13789 non-null  object        \n",
      "dtypes: datetime64[ns](1), object(7)\n",
      "memory usage: 861.9+ KB\n"
     ]
    }
   ],
   "source": [
    "# Visualizing the information of dataset.\n",
    "df_biorxiv.info()"
   ]
  },
  {
   "cell_type": "markdown",
   "metadata": {},
   "source": [
    "### 2.3. PubMed"
   ]
  },
  {
   "cell_type": "code",
   "execution_count": 20,
   "metadata": {},
   "outputs": [],
   "source": [
    "# Getting the data.\n",
    "df_pubmed = pd.read_csv(\"../../data/prepared/pubmed_covid_19.csv\", header=0, dtype={\"pubmed_id\": \"str\"})"
   ]
  },
  {
   "cell_type": "code",
   "execution_count": 21,
   "metadata": {},
   "outputs": [
    {
     "data": {
      "text/html": "<div>\n<style scoped>\n    .dataframe tbody tr th:only-of-type {\n        vertical-align: middle;\n    }\n\n    .dataframe tbody tr th {\n        vertical-align: top;\n    }\n\n    .dataframe thead th {\n        text-align: right;\n    }\n</style>\n<table border=\"1\" class=\"dataframe\">\n  <thead>\n    <tr style=\"text-align: right;\">\n      <th></th>\n      <th>pubmed_id</th>\n      <th>title</th>\n      <th>abstract</th>\n      <th>auth_keywords</th>\n      <th>vehicle_name</th>\n      <th>publication_date</th>\n      <th>author_affil</th>\n      <th>doi</th>\n    </tr>\n  </thead>\n  <tbody>\n    <tr>\n      <th>0</th>\n      <td>33666930</td>\n      <td>Deployment of the 1st Area Medical Laboratory ...</td>\n      <td>In December 2019, an outbreak of pneumonia cau...</td>\n      <td>NaN</td>\n      <td>Medical journal (Fort Sam Houston, Tex.)</td>\n      <td>2021-03-06</td>\n      <td>({'name': 'William Washington', 'id': '3069391...</td>\n      <td>NaN</td>\n    </tr>\n    <tr>\n      <th>1</th>\n      <td>33666929</td>\n      <td>The COVID-19 Army Rapid Assessment Tool (CARAT...</td>\n      <td>The COVID-19 pandemic poses unique challenges ...</td>\n      <td>NaN</td>\n      <td>Medical journal (Fort Sam Houston, Tex.)</td>\n      <td>2021-03-06</td>\n      <td>({'name': 'Michael J Walters', 'id': '25963685...</td>\n      <td>NaN</td>\n    </tr>\n    <tr>\n      <th>2</th>\n      <td>33666928</td>\n      <td>1ST Cavalry Division Forward's Defender Europe...</td>\n      <td>The 1st Cavalry Division Forward (1CD FWD) alo...</td>\n      <td>NaN</td>\n      <td>Medical journal (Fort Sam Houston, Tex.)</td>\n      <td>2021-03-06</td>\n      <td>({'name': 'Chi L Truong', 'id': '4333851133578...</td>\n      <td>NaN</td>\n    </tr>\n    <tr>\n      <th>3</th>\n      <td>33666927</td>\n      <td>A Comprehensive Overview of the US Army Dentis...</td>\n      <td>The historic outbreak of the novel coronavirus...</td>\n      <td>NaN</td>\n      <td>Medical journal (Fort Sam Houston, Tex.)</td>\n      <td>2021-03-06</td>\n      <td>({'name': 'Shani O Thompson Burkes', 'id': '-9...</td>\n      <td>NaN</td>\n    </tr>\n    <tr>\n      <th>4</th>\n      <td>33666926</td>\n      <td>Nutrition, Immune Function, and Infectious Dis...</td>\n      <td>Consuming a diet meeting energy demands and pr...</td>\n      <td>('COVID-19', 'energy intake', 'immune function...</td>\n      <td>Medical journal (Fort Sam Houston, Tex.)</td>\n      <td>2021-03-06</td>\n      <td>({'name': 'Tracey J Smith', 'id': '-1746242993...</td>\n      <td>NaN</td>\n    </tr>\n  </tbody>\n</table>\n</div>",
      "text/plain": "  pubmed_id                                              title  \\\n0  33666930  Deployment of the 1st Area Medical Laboratory ...   \n1  33666929  The COVID-19 Army Rapid Assessment Tool (CARAT...   \n2  33666928  1ST Cavalry Division Forward's Defender Europe...   \n3  33666927  A Comprehensive Overview of the US Army Dentis...   \n4  33666926  Nutrition, Immune Function, and Infectious Dis...   \n\n                                            abstract  \\\n0  In December 2019, an outbreak of pneumonia cau...   \n1  The COVID-19 pandemic poses unique challenges ...   \n2  The 1st Cavalry Division Forward (1CD FWD) alo...   \n3  The historic outbreak of the novel coronavirus...   \n4  Consuming a diet meeting energy demands and pr...   \n\n                                       auth_keywords  \\\n0                                                NaN   \n1                                                NaN   \n2                                                NaN   \n3                                                NaN   \n4  ('COVID-19', 'energy intake', 'immune function...   \n\n                               vehicle_name publication_date  \\\n0  Medical journal (Fort Sam Houston, Tex.)       2021-03-06   \n1  Medical journal (Fort Sam Houston, Tex.)       2021-03-06   \n2  Medical journal (Fort Sam Houston, Tex.)       2021-03-06   \n3  Medical journal (Fort Sam Houston, Tex.)       2021-03-06   \n4  Medical journal (Fort Sam Houston, Tex.)       2021-03-06   \n\n                                        author_affil  doi  \n0  ({'name': 'William Washington', 'id': '3069391...  NaN  \n1  ({'name': 'Michael J Walters', 'id': '25963685...  NaN  \n2  ({'name': 'Chi L Truong', 'id': '4333851133578...  NaN  \n3  ({'name': 'Shani O Thompson Burkes', 'id': '-9...  NaN  \n4  ({'name': 'Tracey J Smith', 'id': '-1746242993...  NaN  "
     },
     "execution_count": 21,
     "metadata": {},
     "output_type": "execute_result"
    }
   ],
   "source": [
    "# Checking the dataframe.\n",
    "df_pubmed.head()"
   ]
  },
  {
   "cell_type": "code",
   "execution_count": 22,
   "metadata": {
    "tags": []
   },
   "outputs": [
    {
     "name": "stdout",
     "output_type": "stream",
     "text": [
      "<class 'pandas.core.frame.DataFrame'>\n",
      "RangeIndex: 105413 entries, 0 to 105412\n",
      "Data columns (total 8 columns):\n",
      " #   Column            Non-Null Count   Dtype \n",
      "---  ------            --------------   ----- \n",
      " 0   pubmed_id         105413 non-null  object\n",
      " 1   title             105219 non-null  object\n",
      " 2   abstract          67849 non-null   object\n",
      " 3   auth_keywords     58334 non-null   object\n",
      " 4   vehicle_name      105340 non-null  object\n",
      " 5   publication_date  105413 non-null  object\n",
      " 6   author_affil      104429 non-null  object\n",
      " 7   doi               103371 non-null  object\n",
      "dtypes: object(8)\n",
      "memory usage: 6.4+ MB\n"
     ]
    }
   ],
   "source": [
    "# Visualizing the information of dataset.\n",
    "df_pubmed.info()"
   ]
  },
  {
   "cell_type": "code",
   "execution_count": 23,
   "metadata": {},
   "outputs": [],
   "source": [
    "# Defining the \"None\" value for the \"NaN\" values.\n",
    "df_pubmed.replace({np.nan: None}, inplace=True)"
   ]
  },
  {
   "cell_type": "code",
   "execution_count": 24,
   "metadata": {},
   "outputs": [],
   "source": [
    "# Changing the type of features.\n",
    "df_pubmed.auth_keywords.loc[df_pubmed.auth_keywords.notnull()] = df_pubmed.auth_keywords.loc[\n",
    "    df_pubmed.auth_keywords.notnull()].apply(eval)\n",
    "df_pubmed.author_affil.loc[df_pubmed.author_affil.notnull()] = df_pubmed.author_affil.loc[\n",
    "    df_pubmed.author_affil.notnull()].apply(eval)\n",
    "df_pubmed.publication_date = pd.to_datetime(df_pubmed.publication_date)"
   ]
  },
  {
   "cell_type": "code",
   "execution_count": 25,
   "metadata": {},
   "outputs": [],
   "source": [
    "# Defining the feature \"source\".\n",
    "df_pubmed[\"source\"] = \"PubMed\""
   ]
  },
  {
   "cell_type": "code",
   "execution_count": 26,
   "metadata": {},
   "outputs": [
    {
     "name": "stderr",
     "output_type": "stream",
     "text": [
      "/opt/Anaconda/envs/estudos/lib/python3.8/site-packages/pandas/core/indexing.py:1637: SettingWithCopyWarning: \n",
      "A value is trying to be set on a copy of a slice from a DataFrame\n",
      "\n",
      "See the caveats in the documentation: https://pandas.pydata.org/pandas-docs/stable/user_guide/indexing.html#returning-a-view-versus-a-copy\n",
      "  self._setitem_single_block(indexer, value, name)\n"
     ]
    }
   ],
   "source": [
    "# Normalizing the feature \"title\".\n",
    "df_pubmed.title.loc[df_pubmed.title.notnull()] = df_pubmed.title.loc[\n",
    "    df_pubmed.title.notnull()].apply(clean_title)"
   ]
  },
  {
   "cell_type": "code",
   "execution_count": 27,
   "metadata": {},
   "outputs": [
    {
     "data": {
      "text/html": "<div>\n<style scoped>\n    .dataframe tbody tr th:only-of-type {\n        vertical-align: middle;\n    }\n\n    .dataframe tbody tr th {\n        vertical-align: top;\n    }\n\n    .dataframe thead th {\n        text-align: right;\n    }\n</style>\n<table border=\"1\" class=\"dataframe\">\n  <thead>\n    <tr style=\"text-align: right;\">\n      <th></th>\n      <th>pubmed_id</th>\n      <th>title</th>\n      <th>abstract</th>\n      <th>auth_keywords</th>\n      <th>vehicle_name</th>\n      <th>publication_date</th>\n      <th>author_affil</th>\n      <th>doi</th>\n      <th>source</th>\n    </tr>\n  </thead>\n  <tbody>\n    <tr>\n      <th>0</th>\n      <td>33666930</td>\n      <td>deployment of the 1st area medical laboratory ...</td>\n      <td>In December 2019, an outbreak of pneumonia cau...</td>\n      <td>None</td>\n      <td>Medical journal (Fort Sam Houston, Tex.)</td>\n      <td>2021-03-06</td>\n      <td>({'name': 'William Washington', 'id': '3069391...</td>\n      <td>None</td>\n      <td>PubMed</td>\n    </tr>\n    <tr>\n      <th>1</th>\n      <td>33666929</td>\n      <td>the covid-19 army rapid assessment tool (carat...</td>\n      <td>The COVID-19 pandemic poses unique challenges ...</td>\n      <td>None</td>\n      <td>Medical journal (Fort Sam Houston, Tex.)</td>\n      <td>2021-03-06</td>\n      <td>({'name': 'Michael J Walters', 'id': '25963685...</td>\n      <td>None</td>\n      <td>PubMed</td>\n    </tr>\n    <tr>\n      <th>2</th>\n      <td>33666928</td>\n      <td>1st cavalry division forward's defender europe...</td>\n      <td>The 1st Cavalry Division Forward (1CD FWD) alo...</td>\n      <td>None</td>\n      <td>Medical journal (Fort Sam Houston, Tex.)</td>\n      <td>2021-03-06</td>\n      <td>({'name': 'Chi L Truong', 'id': '4333851133578...</td>\n      <td>None</td>\n      <td>PubMed</td>\n    </tr>\n    <tr>\n      <th>3</th>\n      <td>33666927</td>\n      <td>a comprehensive overview of the us army dentis...</td>\n      <td>The historic outbreak of the novel coronavirus...</td>\n      <td>None</td>\n      <td>Medical journal (Fort Sam Houston, Tex.)</td>\n      <td>2021-03-06</td>\n      <td>({'name': 'Shani O Thompson Burkes', 'id': '-9...</td>\n      <td>None</td>\n      <td>PubMed</td>\n    </tr>\n    <tr>\n      <th>4</th>\n      <td>33666926</td>\n      <td>nutrition, immune function, and infectious dis...</td>\n      <td>Consuming a diet meeting energy demands and pr...</td>\n      <td>(COVID-19, energy intake, immune function, mic...</td>\n      <td>Medical journal (Fort Sam Houston, Tex.)</td>\n      <td>2021-03-06</td>\n      <td>({'name': 'Tracey J Smith', 'id': '-1746242993...</td>\n      <td>None</td>\n      <td>PubMed</td>\n    </tr>\n  </tbody>\n</table>\n</div>",
      "text/plain": "  pubmed_id                                              title  \\\n0  33666930  deployment of the 1st area medical laboratory ...   \n1  33666929  the covid-19 army rapid assessment tool (carat...   \n2  33666928  1st cavalry division forward's defender europe...   \n3  33666927  a comprehensive overview of the us army dentis...   \n4  33666926  nutrition, immune function, and infectious dis...   \n\n                                            abstract  \\\n0  In December 2019, an outbreak of pneumonia cau...   \n1  The COVID-19 pandemic poses unique challenges ...   \n2  The 1st Cavalry Division Forward (1CD FWD) alo...   \n3  The historic outbreak of the novel coronavirus...   \n4  Consuming a diet meeting energy demands and pr...   \n\n                                       auth_keywords  \\\n0                                               None   \n1                                               None   \n2                                               None   \n3                                               None   \n4  (COVID-19, energy intake, immune function, mic...   \n\n                               vehicle_name publication_date  \\\n0  Medical journal (Fort Sam Houston, Tex.)       2021-03-06   \n1  Medical journal (Fort Sam Houston, Tex.)       2021-03-06   \n2  Medical journal (Fort Sam Houston, Tex.)       2021-03-06   \n3  Medical journal (Fort Sam Houston, Tex.)       2021-03-06   \n4  Medical journal (Fort Sam Houston, Tex.)       2021-03-06   \n\n                                        author_affil   doi  source  \n0  ({'name': 'William Washington', 'id': '3069391...  None  PubMed  \n1  ({'name': 'Michael J Walters', 'id': '25963685...  None  PubMed  \n2  ({'name': 'Chi L Truong', 'id': '4333851133578...  None  PubMed  \n3  ({'name': 'Shani O Thompson Burkes', 'id': '-9...  None  PubMed  \n4  ({'name': 'Tracey J Smith', 'id': '-1746242993...  None  PubMed  "
     },
     "execution_count": 27,
     "metadata": {},
     "output_type": "execute_result"
    }
   ],
   "source": [
    "# Checking the dataframe.\n",
    "df_pubmed.head()"
   ]
  },
  {
   "cell_type": "code",
   "execution_count": 28,
   "metadata": {
    "tags": []
   },
   "outputs": [
    {
     "name": "stdout",
     "output_type": "stream",
     "text": [
      "<class 'pandas.core.frame.DataFrame'>\n",
      "RangeIndex: 105413 entries, 0 to 105412\n",
      "Data columns (total 9 columns):\n",
      " #   Column            Non-Null Count   Dtype         \n",
      "---  ------            --------------   -----         \n",
      " 0   pubmed_id         105413 non-null  object        \n",
      " 1   title             105215 non-null  object        \n",
      " 2   abstract          67849 non-null   object        \n",
      " 3   auth_keywords     58334 non-null   object        \n",
      " 4   vehicle_name      105340 non-null  object        \n",
      " 5   publication_date  105413 non-null  datetime64[ns]\n",
      " 6   author_affil      104429 non-null  object        \n",
      " 7   doi               103371 non-null  object        \n",
      " 8   source            105413 non-null  object        \n",
      "dtypes: datetime64[ns](1), object(8)\n",
      "memory usage: 7.2+ MB\n"
     ]
    }
   ],
   "source": [
    "# Visualizing the information of dataset.\n",
    "df_pubmed.info()"
   ]
  },
  {
   "cell_type": "markdown",
   "metadata": {},
   "source": [
    "### 2.4. Scopus"
   ]
  },
  {
   "cell_type": "code",
   "execution_count": 29,
   "metadata": {},
   "outputs": [],
   "source": [
    "# Getting the data.\n",
    "df_scopus = pd.read_csv(\"../../data/prepared/scopus_covid_19.csv\", header=0, dtype=object)"
   ]
  },
  {
   "cell_type": "code",
   "execution_count": 30,
   "metadata": {},
   "outputs": [
    {
     "data": {
      "text/html": "<div>\n<style scoped>\n    .dataframe tbody tr th:only-of-type {\n        vertical-align: middle;\n    }\n\n    .dataframe tbody tr th {\n        vertical-align: top;\n    }\n\n    .dataframe thead th {\n        text-align: right;\n    }\n</style>\n<table border=\"1\" class=\"dataframe\">\n  <thead>\n    <tr style=\"text-align: right;\">\n      <th></th>\n      <th>id</th>\n      <th>doi</th>\n      <th>pubmed_id</th>\n      <th>title</th>\n      <th>abstract</th>\n      <th>publication_date</th>\n      <th>citation_num</th>\n      <th>language</th>\n      <th>production_type</th>\n      <th>source_type</th>\n      <th>...</th>\n      <th>issn</th>\n      <th>vehicle_name</th>\n      <th>publisher</th>\n      <th>affiliations</th>\n      <th>subject_areas</th>\n      <th>authors</th>\n      <th>author_affil</th>\n      <th>ref_count</th>\n      <th>references</th>\n      <th>period</th>\n    </tr>\n  </thead>\n  <tbody>\n    <tr>\n      <th>0</th>\n      <td>85086071498</td>\n      <td>NaN</td>\n      <td>NaN</td>\n      <td>Apping and visualisation of health data, le co...</td>\n      <td>© 2019 University of L'Aquila, Department of C...</td>\n      <td>2019-12-01</td>\n      <td>1.0</td>\n      <td>eng</td>\n      <td>Journal</td>\n      <td>j</td>\n      <td>...</td>\n      <td>18285961</td>\n      <td>DISEGNARECON</td>\n      <td>University of L'Aquila, Department of Civil Co...</td>\n      <td>({'id': '60010110', 'affiliation': 'Università...</td>\n      <td>('Architecture', 'Visual Arts and Performing A...</td>\n      <td>({'id': '57218914310', 'name': 'Enrico Cicald'...</td>\n      <td>({'id': '57215860041', 'name': 'Michele Valent...</td>\n      <td>27.0</td>\n      <td>({'id': '77949657266', 'title': 'Health resear...</td>\n      <td>12-2019</td>\n    </tr>\n    <tr>\n      <th>1</th>\n      <td>85098881043</td>\n      <td>NaN</td>\n      <td>NaN</td>\n      <td>CODS-COMAD 2021 - Proceedings of the 3rd ACM I...</td>\n      <td>The proceedings contain 93 papers. The topics ...</td>\n      <td>2020-01-02</td>\n      <td>0.0</td>\n      <td>eng</td>\n      <td>Conference Proceeding</td>\n      <td>p</td>\n      <td>...</td>\n      <td>NaN</td>\n      <td>3rd ACM India Joint International Conference o...</td>\n      <td>Association for Computing Machinery</td>\n      <td>NaN</td>\n      <td>('Human-Computer Interaction', 'Computer Netwo...</td>\n      <td>NaN</td>\n      <td>NaN</td>\n      <td>0.0</td>\n      <td>NaN</td>\n      <td>01-2020</td>\n    </tr>\n    <tr>\n      <th>2</th>\n      <td>85082342162</td>\n      <td>NaN</td>\n      <td>32200398</td>\n      <td>The Novel Coronavirus (SARS-CoV-2) Epidemic</td>\n      <td>NaN</td>\n      <td>2020-01-01</td>\n      <td>14.0</td>\n      <td>eng</td>\n      <td>Journal</td>\n      <td>j</td>\n      <td>...</td>\n      <td>03044602</td>\n      <td>Annals of the Academy of Medicine, Singapore</td>\n      <td>NLM (Medline)</td>\n      <td>({'id': '60017161', 'affiliation': 'National U...</td>\n      <td>('Medicine (all)',)</td>\n      <td>({'id': '8161583900', 'name': 'Li Yang Hsu'}, ...</td>\n      <td>({'id': '57215908259', 'name': 'Jeremy Fy Lim'...</td>\n      <td>0.0</td>\n      <td>NaN</td>\n      <td>01-2020</td>\n    </tr>\n    <tr>\n      <th>3</th>\n      <td>85083405993</td>\n      <td>NaN</td>\n      <td>32291373</td>\n      <td>Gastrointestinal Presentation in COVID-19 in I...</td>\n      <td>Severe acute respiratory syndrome coronavirus ...</td>\n      <td>2020-01-01</td>\n      <td>7.0</td>\n      <td>eng</td>\n      <td>Journal</td>\n      <td>j</td>\n      <td>...</td>\n      <td>01259326</td>\n      <td>Acta medica Indonesiana</td>\n      <td>NLM (Medline)</td>\n      <td>({'id': '60069377', 'affiliation': 'Universita...</td>\n      <td>('Medicine (all)',)</td>\n      <td>({'id': '57202798959', 'name': 'Muhammad Khifz...</td>\n      <td>({'id': '14325991900', 'name': 'Siti Setiati',...</td>\n      <td>0.0</td>\n      <td>NaN</td>\n      <td>01-2020</td>\n    </tr>\n    <tr>\n      <th>4</th>\n      <td>85083410524</td>\n      <td>NaN</td>\n      <td>32291376</td>\n      <td>Clinical Progression of COVID-19 Patient with ...</td>\n      <td>Coronavirus Disease 2019 (COVID-19), previousl...</td>\n      <td>2020-01-01</td>\n      <td>6.0</td>\n      <td>eng</td>\n      <td>Journal</td>\n      <td>j</td>\n      <td>...</td>\n      <td>01259326</td>\n      <td>Acta medica Indonesiana</td>\n      <td>NLM (Medline)</td>\n      <td>({'id': '60196806', 'affiliation': 'RSUP Persa...</td>\n      <td>('Medicine (all)',)</td>\n      <td>({'id': '36058554600', 'name': 'Erlina Burhan'...</td>\n      <td>({'id': '57216405941', 'name': 'Tina Reisa', '...</td>\n      <td>0.0</td>\n      <td>NaN</td>\n      <td>01-2020</td>\n    </tr>\n  </tbody>\n</table>\n<p>5 rows × 22 columns</p>\n</div>",
      "text/plain": "            id  doi pubmed_id  \\\n0  85086071498  NaN       NaN   \n1  85098881043  NaN       NaN   \n2  85082342162  NaN  32200398   \n3  85083405993  NaN  32291373   \n4  85083410524  NaN  32291376   \n\n                                               title  \\\n0  Apping and visualisation of health data, le co...   \n1  CODS-COMAD 2021 - Proceedings of the 3rd ACM I...   \n2        The Novel Coronavirus (SARS-CoV-2) Epidemic   \n3  Gastrointestinal Presentation in COVID-19 in I...   \n4  Clinical Progression of COVID-19 Patient with ...   \n\n                                            abstract publication_date  \\\n0  © 2019 University of L'Aquila, Department of C...       2019-12-01   \n1  The proceedings contain 93 papers. The topics ...       2020-01-02   \n2                                                NaN       2020-01-01   \n3  Severe acute respiratory syndrome coronavirus ...       2020-01-01   \n4  Coronavirus Disease 2019 (COVID-19), previousl...       2020-01-01   \n\n  citation_num language        production_type source_type  ...      issn  \\\n0          1.0      eng                Journal           j  ...  18285961   \n1          0.0      eng  Conference Proceeding           p  ...       NaN   \n2         14.0      eng                Journal           j  ...  03044602   \n3          7.0      eng                Journal           j  ...  01259326   \n4          6.0      eng                Journal           j  ...  01259326   \n\n                                        vehicle_name  \\\n0                                       DISEGNARECON   \n1  3rd ACM India Joint International Conference o...   \n2       Annals of the Academy of Medicine, Singapore   \n3                            Acta medica Indonesiana   \n4                            Acta medica Indonesiana   \n\n                                           publisher  \\\n0  University of L'Aquila, Department of Civil Co...   \n1                Association for Computing Machinery   \n2                                      NLM (Medline)   \n3                                      NLM (Medline)   \n4                                      NLM (Medline)   \n\n                                        affiliations  \\\n0  ({'id': '60010110', 'affiliation': 'Università...   \n1                                                NaN   \n2  ({'id': '60017161', 'affiliation': 'National U...   \n3  ({'id': '60069377', 'affiliation': 'Universita...   \n4  ({'id': '60196806', 'affiliation': 'RSUP Persa...   \n\n                                       subject_areas  \\\n0  ('Architecture', 'Visual Arts and Performing A...   \n1  ('Human-Computer Interaction', 'Computer Netwo...   \n2                                ('Medicine (all)',)   \n3                                ('Medicine (all)',)   \n4                                ('Medicine (all)',)   \n\n                                             authors  \\\n0  ({'id': '57218914310', 'name': 'Enrico Cicald'...   \n1                                                NaN   \n2  ({'id': '8161583900', 'name': 'Li Yang Hsu'}, ...   \n3  ({'id': '57202798959', 'name': 'Muhammad Khifz...   \n4  ({'id': '36058554600', 'name': 'Erlina Burhan'...   \n\n                                        author_affil ref_count  \\\n0  ({'id': '57215860041', 'name': 'Michele Valent...      27.0   \n1                                                NaN       0.0   \n2  ({'id': '57215908259', 'name': 'Jeremy Fy Lim'...       0.0   \n3  ({'id': '14325991900', 'name': 'Siti Setiati',...       0.0   \n4  ({'id': '57216405941', 'name': 'Tina Reisa', '...       0.0   \n\n                                          references   period  \n0  ({'id': '77949657266', 'title': 'Health resear...  12-2019  \n1                                                NaN  01-2020  \n2                                                NaN  01-2020  \n3                                                NaN  01-2020  \n4                                                NaN  01-2020  \n\n[5 rows x 22 columns]"
     },
     "execution_count": 30,
     "metadata": {},
     "output_type": "execute_result"
    }
   ],
   "source": [
    "# Checking the dataframe.\n",
    "df_scopus.head()"
   ]
  },
  {
   "cell_type": "code",
   "execution_count": 31,
   "metadata": {
    "tags": []
   },
   "outputs": [
    {
     "name": "stdout",
     "output_type": "stream",
     "text": [
      "<class 'pandas.core.frame.DataFrame'>\n",
      "RangeIndex: 84526 entries, 0 to 84525\n",
      "Data columns (total 22 columns):\n",
      " #   Column            Non-Null Count  Dtype \n",
      "---  ------            --------------  ----- \n",
      " 0   id                84526 non-null  object\n",
      " 1   doi               81799 non-null  object\n",
      " 2   pubmed_id         58269 non-null  object\n",
      " 3   title             84526 non-null  object\n",
      " 4   abstract          52326 non-null  object\n",
      " 5   publication_date  84526 non-null  object\n",
      " 6   citation_num      84526 non-null  object\n",
      " 7   language          84077 non-null  object\n",
      " 8   production_type   84526 non-null  object\n",
      " 9   source_type       84526 non-null  object\n",
      " 10  auth_keywords     46182 non-null  object\n",
      " 11  index_terms       50712 non-null  object\n",
      " 12  issn              82964 non-null  object\n",
      " 13  vehicle_name      84526 non-null  object\n",
      " 14  publisher         84522 non-null  object\n",
      " 15  affiliations      78409 non-null  object\n",
      " 16  subject_areas     84481 non-null  object\n",
      " 17  authors           83171 non-null  object\n",
      " 18  author_affil      83273 non-null  object\n",
      " 19  ref_count         84526 non-null  object\n",
      " 20  references        73509 non-null  object\n",
      " 21  period            84526 non-null  object\n",
      "dtypes: object(22)\n",
      "memory usage: 14.2+ MB\n"
     ]
    }
   ],
   "source": [
    "# Visualizing the information of dataset.\n",
    "df_scopus.info()"
   ]
  },
  {
   "cell_type": "code",
   "execution_count": 32,
   "metadata": {},
   "outputs": [],
   "source": [
    "# Defining the \"None\" value for the \"NaN\" values.\n",
    "df_scopus.replace({np.nan: None}, inplace=True)"
   ]
  },
  {
   "cell_type": "code",
   "execution_count": 33,
   "metadata": {},
   "outputs": [],
   "source": [
    "# Changing the type of features.\n",
    "df_scopus.auth_keywords.loc[df_scopus.auth_keywords.notnull()] = df_scopus.auth_keywords.loc[\n",
    "    df_scopus.auth_keywords.notnull()].apply(eval)\n",
    "df_scopus.index_terms.loc[df_scopus.index_terms.notnull()] = df_scopus.index_terms.loc[\n",
    "    df_scopus.index_terms.notnull()].apply(eval)\n",
    "df_scopus.affiliations.loc[df_scopus.affiliations.notnull()] = df_scopus.affiliations.loc[\n",
    "    df_scopus.affiliations.notnull()].apply(eval)\n",
    "df_scopus.subject_areas.loc[df_scopus.subject_areas.notnull()] = df_scopus.subject_areas.loc[\n",
    "    df_scopus.subject_areas.notnull()].apply(eval)\n",
    "df_scopus.authors.loc[df_scopus.authors.notnull()] = df_scopus.authors.loc[\n",
    "    df_scopus.authors.notnull()].apply(eval)\n",
    "df_scopus.author_affil.loc[df_scopus.author_affil.notnull()] = df_scopus.author_affil.loc[\n",
    "    df_scopus.author_affil.notnull()].apply(eval)\n",
    "df_scopus.references.loc[df_scopus.references.notnull()] = df_scopus.references.loc[\n",
    "    df_scopus.references.notnull()].apply(eval)\n",
    "df_scopus.publication_date = pd.to_datetime(df_scopus.publication_date)"
   ]
  },
  {
   "cell_type": "code",
   "execution_count": 34,
   "metadata": {},
   "outputs": [],
   "source": [
    "# Defining the feature \"source\".\n",
    "df_scopus[\"source\"] = \"Scopus\""
   ]
  },
  {
   "cell_type": "code",
   "execution_count": 35,
   "metadata": {},
   "outputs": [],
   "source": [
    "# Normalizing the feature \"title\".\n",
    "df_scopus.title = df_scopus.title.apply(clean_title)"
   ]
  },
  {
   "cell_type": "code",
   "execution_count": 36,
   "metadata": {},
   "outputs": [
    {
     "data": {
      "text/html": "<div>\n<style scoped>\n    .dataframe tbody tr th:only-of-type {\n        vertical-align: middle;\n    }\n\n    .dataframe tbody tr th {\n        vertical-align: top;\n    }\n\n    .dataframe thead th {\n        text-align: right;\n    }\n</style>\n<table border=\"1\" class=\"dataframe\">\n  <thead>\n    <tr style=\"text-align: right;\">\n      <th></th>\n      <th>id</th>\n      <th>doi</th>\n      <th>pubmed_id</th>\n      <th>title</th>\n      <th>abstract</th>\n      <th>publication_date</th>\n      <th>citation_num</th>\n      <th>language</th>\n      <th>production_type</th>\n      <th>source_type</th>\n      <th>...</th>\n      <th>vehicle_name</th>\n      <th>publisher</th>\n      <th>affiliations</th>\n      <th>subject_areas</th>\n      <th>authors</th>\n      <th>author_affil</th>\n      <th>ref_count</th>\n      <th>references</th>\n      <th>period</th>\n      <th>source</th>\n    </tr>\n  </thead>\n  <tbody>\n    <tr>\n      <th>0</th>\n      <td>85086071498</td>\n      <td>None</td>\n      <td>None</td>\n      <td>apping and visualisation of health data, le co...</td>\n      <td>© 2019 University of L'Aquila, Department of C...</td>\n      <td>2019-12-01</td>\n      <td>1.0</td>\n      <td>eng</td>\n      <td>Journal</td>\n      <td>j</td>\n      <td>...</td>\n      <td>DISEGNARECON</td>\n      <td>University of L'Aquila, Department of Civil Co...</td>\n      <td>({'id': '60010110', 'affiliation': 'Università...</td>\n      <td>(Architecture, Visual Arts and Performing Arts...</td>\n      <td>({'id': '57218914310', 'name': 'Enrico Cicald'...</td>\n      <td>({'id': '57215860041', 'name': 'Michele Valent...</td>\n      <td>27.0</td>\n      <td>({'id': '77949657266', 'title': 'Health resear...</td>\n      <td>12-2019</td>\n      <td>Scopus</td>\n    </tr>\n    <tr>\n      <th>1</th>\n      <td>85098881043</td>\n      <td>None</td>\n      <td>None</td>\n      <td>cods-comad 2021 - proceedings of the 3rd acm i...</td>\n      <td>The proceedings contain 93 papers. The topics ...</td>\n      <td>2020-01-02</td>\n      <td>0.0</td>\n      <td>eng</td>\n      <td>Conference Proceeding</td>\n      <td>p</td>\n      <td>...</td>\n      <td>3rd ACM India Joint International Conference o...</td>\n      <td>Association for Computing Machinery</td>\n      <td>None</td>\n      <td>(Human-Computer Interaction, Computer Networks...</td>\n      <td>None</td>\n      <td>None</td>\n      <td>0.0</td>\n      <td>None</td>\n      <td>01-2020</td>\n      <td>Scopus</td>\n    </tr>\n    <tr>\n      <th>2</th>\n      <td>85082342162</td>\n      <td>None</td>\n      <td>32200398</td>\n      <td>the novel coronavirus (sars-cov-2) epidemic</td>\n      <td>None</td>\n      <td>2020-01-01</td>\n      <td>14.0</td>\n      <td>eng</td>\n      <td>Journal</td>\n      <td>j</td>\n      <td>...</td>\n      <td>Annals of the Academy of Medicine, Singapore</td>\n      <td>NLM (Medline)</td>\n      <td>({'id': '60017161', 'affiliation': 'National U...</td>\n      <td>(Medicine (all),)</td>\n      <td>({'id': '8161583900', 'name': 'Li Yang Hsu'}, ...</td>\n      <td>({'id': '57215908259', 'name': 'Jeremy Fy Lim'...</td>\n      <td>0.0</td>\n      <td>None</td>\n      <td>01-2020</td>\n      <td>Scopus</td>\n    </tr>\n    <tr>\n      <th>3</th>\n      <td>85083405993</td>\n      <td>None</td>\n      <td>32291373</td>\n      <td>gastrointestinal presentation in covid-19 in i...</td>\n      <td>Severe acute respiratory syndrome coronavirus ...</td>\n      <td>2020-01-01</td>\n      <td>7.0</td>\n      <td>eng</td>\n      <td>Journal</td>\n      <td>j</td>\n      <td>...</td>\n      <td>Acta medica Indonesiana</td>\n      <td>NLM (Medline)</td>\n      <td>({'id': '60069377', 'affiliation': 'Universita...</td>\n      <td>(Medicine (all),)</td>\n      <td>({'id': '57202798959', 'name': 'Muhammad Khifz...</td>\n      <td>({'id': '14325991900', 'name': 'Siti Setiati',...</td>\n      <td>0.0</td>\n      <td>None</td>\n      <td>01-2020</td>\n      <td>Scopus</td>\n    </tr>\n    <tr>\n      <th>4</th>\n      <td>85083410524</td>\n      <td>None</td>\n      <td>32291376</td>\n      <td>clinical progression of covid-19 patient with ...</td>\n      <td>Coronavirus Disease 2019 (COVID-19), previousl...</td>\n      <td>2020-01-01</td>\n      <td>6.0</td>\n      <td>eng</td>\n      <td>Journal</td>\n      <td>j</td>\n      <td>...</td>\n      <td>Acta medica Indonesiana</td>\n      <td>NLM (Medline)</td>\n      <td>({'id': '60196806', 'affiliation': 'RSUP Persa...</td>\n      <td>(Medicine (all),)</td>\n      <td>({'id': '36058554600', 'name': 'Erlina Burhan'...</td>\n      <td>({'id': '57216405941', 'name': 'Tina Reisa', '...</td>\n      <td>0.0</td>\n      <td>None</td>\n      <td>01-2020</td>\n      <td>Scopus</td>\n    </tr>\n  </tbody>\n</table>\n<p>5 rows × 23 columns</p>\n</div>",
      "text/plain": "            id   doi pubmed_id  \\\n0  85086071498  None      None   \n1  85098881043  None      None   \n2  85082342162  None  32200398   \n3  85083405993  None  32291373   \n4  85083410524  None  32291376   \n\n                                               title  \\\n0  apping and visualisation of health data, le co...   \n1  cods-comad 2021 - proceedings of the 3rd acm i...   \n2        the novel coronavirus (sars-cov-2) epidemic   \n3  gastrointestinal presentation in covid-19 in i...   \n4  clinical progression of covid-19 patient with ...   \n\n                                            abstract publication_date  \\\n0  © 2019 University of L'Aquila, Department of C...       2019-12-01   \n1  The proceedings contain 93 papers. The topics ...       2020-01-02   \n2                                               None       2020-01-01   \n3  Severe acute respiratory syndrome coronavirus ...       2020-01-01   \n4  Coronavirus Disease 2019 (COVID-19), previousl...       2020-01-01   \n\n  citation_num language        production_type source_type  ...  \\\n0          1.0      eng                Journal           j  ...   \n1          0.0      eng  Conference Proceeding           p  ...   \n2         14.0      eng                Journal           j  ...   \n3          7.0      eng                Journal           j  ...   \n4          6.0      eng                Journal           j  ...   \n\n                                        vehicle_name  \\\n0                                       DISEGNARECON   \n1  3rd ACM India Joint International Conference o...   \n2       Annals of the Academy of Medicine, Singapore   \n3                            Acta medica Indonesiana   \n4                            Acta medica Indonesiana   \n\n                                           publisher  \\\n0  University of L'Aquila, Department of Civil Co...   \n1                Association for Computing Machinery   \n2                                      NLM (Medline)   \n3                                      NLM (Medline)   \n4                                      NLM (Medline)   \n\n                                        affiliations  \\\n0  ({'id': '60010110', 'affiliation': 'Università...   \n1                                               None   \n2  ({'id': '60017161', 'affiliation': 'National U...   \n3  ({'id': '60069377', 'affiliation': 'Universita...   \n4  ({'id': '60196806', 'affiliation': 'RSUP Persa...   \n\n                                       subject_areas  \\\n0  (Architecture, Visual Arts and Performing Arts...   \n1  (Human-Computer Interaction, Computer Networks...   \n2                                  (Medicine (all),)   \n3                                  (Medicine (all),)   \n4                                  (Medicine (all),)   \n\n                                             authors  \\\n0  ({'id': '57218914310', 'name': 'Enrico Cicald'...   \n1                                               None   \n2  ({'id': '8161583900', 'name': 'Li Yang Hsu'}, ...   \n3  ({'id': '57202798959', 'name': 'Muhammad Khifz...   \n4  ({'id': '36058554600', 'name': 'Erlina Burhan'...   \n\n                                        author_affil ref_count  \\\n0  ({'id': '57215860041', 'name': 'Michele Valent...      27.0   \n1                                               None       0.0   \n2  ({'id': '57215908259', 'name': 'Jeremy Fy Lim'...       0.0   \n3  ({'id': '14325991900', 'name': 'Siti Setiati',...       0.0   \n4  ({'id': '57216405941', 'name': 'Tina Reisa', '...       0.0   \n\n                                          references   period  source  \n0  ({'id': '77949657266', 'title': 'Health resear...  12-2019  Scopus  \n1                                               None  01-2020  Scopus  \n2                                               None  01-2020  Scopus  \n3                                               None  01-2020  Scopus  \n4                                               None  01-2020  Scopus  \n\n[5 rows x 23 columns]"
     },
     "execution_count": 36,
     "metadata": {},
     "output_type": "execute_result"
    }
   ],
   "source": [
    "# Checking the dataframe.\n",
    "df_scopus.head()"
   ]
  },
  {
   "cell_type": "code",
   "execution_count": 37,
   "metadata": {
    "tags": []
   },
   "outputs": [
    {
     "name": "stdout",
     "output_type": "stream",
     "text": [
      "<class 'pandas.core.frame.DataFrame'>\n",
      "RangeIndex: 84526 entries, 0 to 84525\n",
      "Data columns (total 23 columns):\n",
      " #   Column            Non-Null Count  Dtype         \n",
      "---  ------            --------------  -----         \n",
      " 0   id                84526 non-null  object        \n",
      " 1   doi               81799 non-null  object        \n",
      " 2   pubmed_id         58269 non-null  object        \n",
      " 3   title             84526 non-null  object        \n",
      " 4   abstract          52326 non-null  object        \n",
      " 5   publication_date  84526 non-null  datetime64[ns]\n",
      " 6   citation_num      84526 non-null  object        \n",
      " 7   language          84077 non-null  object        \n",
      " 8   production_type   84526 non-null  object        \n",
      " 9   source_type       84526 non-null  object        \n",
      " 10  auth_keywords     46182 non-null  object        \n",
      " 11  index_terms       50712 non-null  object        \n",
      " 12  issn              82964 non-null  object        \n",
      " 13  vehicle_name      84526 non-null  object        \n",
      " 14  publisher         84522 non-null  object        \n",
      " 15  affiliations      78409 non-null  object        \n",
      " 16  subject_areas     84481 non-null  object        \n",
      " 17  authors           83171 non-null  object        \n",
      " 18  author_affil      83273 non-null  object        \n",
      " 19  ref_count         84526 non-null  object        \n",
      " 20  references        73509 non-null  object        \n",
      " 21  period            84526 non-null  object        \n",
      " 22  source            84526 non-null  object        \n",
      "dtypes: datetime64[ns](1), object(22)\n",
      "memory usage: 14.8+ MB\n"
     ]
    }
   ],
   "source": [
    "# Visualizing the information of dataset.\n",
    "df_scopus.info()     "
   ]
  },
  {
   "cell_type": "markdown",
   "metadata": {},
   "source": [
    "## 3. Merging/Joining the datasets"
   ]
  },
  {
   "cell_type": "code",
   "execution_count": 38,
   "metadata": {},
   "outputs": [
    {
     "data": {
      "text/plain": "157"
     },
     "execution_count": 38,
     "metadata": {},
     "output_type": "execute_result"
    }
   ],
   "source": [
    "# Checking the duplicated records between arXiv and bioRxiv.\n",
    "df_arxiv.id[df_arxiv.title.isin(df_biorxiv.title.values)].size"
   ]
  },
  {
   "cell_type": "code",
   "execution_count": 39,
   "metadata": {},
   "outputs": [
    {
     "data": {
      "text/plain": "429"
     },
     "execution_count": 39,
     "metadata": {},
     "output_type": "execute_result"
    }
   ],
   "source": [
    "# Checking the duplicated records between arXiv and PubMed.\n",
    "df_arxiv.id[df_arxiv.title.isin(df_pubmed.title[df_pubmed.title.notnull()].values)].size"
   ]
  },
  {
   "cell_type": "code",
   "execution_count": 40,
   "metadata": {},
   "outputs": [
    {
     "data": {
      "text/plain": "403"
     },
     "execution_count": 40,
     "metadata": {},
     "output_type": "execute_result"
    }
   ],
   "source": [
    "# Checking the duplicated records between arXiv and Scopus.\n",
    "df_arxiv.id[df_arxiv.title.isin(df_scopus.title.values)].size"
   ]
  },
  {
   "cell_type": "code",
   "execution_count": 41,
   "metadata": {},
   "outputs": [
    {
     "data": {
      "text/plain": "1384"
     },
     "execution_count": 41,
     "metadata": {},
     "output_type": "execute_result"
    }
   ],
   "source": [
    "# Checking the duplicated records between bioRxiv and PubMed.\n",
    "df_biorxiv.id[df_biorxiv.title.isin(df_pubmed.title[df_pubmed.title.notnull()].values) &\n",
    "    df_biorxiv.doi.isin(df_pubmed.doi[df_pubmed.doi.notnull()].values)].size"
   ]
  },
  {
   "cell_type": "code",
   "execution_count": 42,
   "metadata": {},
   "outputs": [
    {
     "data": {
      "text/plain": "0"
     },
     "execution_count": 42,
     "metadata": {},
     "output_type": "execute_result"
    }
   ],
   "source": [
    "# Checking the duplicated records between bioRxiv and Scopus.\n",
    "df_biorxiv.id[df_biorxiv.title.isin(df_scopus.title.values) &\n",
    "    df_biorxiv.doi.isin(df_scopus.doi[df_scopus.doi.notnull()].values)].size"
   ]
  },
  {
   "cell_type": "code",
   "execution_count": 43,
   "metadata": {},
   "outputs": [
    {
     "data": {
      "text/plain": "54211"
     },
     "execution_count": 43,
     "metadata": {},
     "output_type": "execute_result"
    }
   ],
   "source": [
    "# Checking the duplicated records between PubMed and Scopus by only the feature \"pubmed_id\".\n",
    "df_pubmed.pubmed_id[df_pubmed.pubmed_id.isin(df_scopus.pubmed_id[df_scopus.pubmed_id.notnull()].values)].size"
   ]
  },
  {
   "cell_type": "code",
   "execution_count": 44,
   "metadata": {},
   "outputs": [
    {
     "data": {
      "text/plain": "10655"
     },
     "execution_count": 44,
     "metadata": {},
     "output_type": "execute_result"
    }
   ],
   "source": [
    "# Checking the duplicated records between PubMed and Scopus by the features \"title\" and \"doi\".\n",
    "df_pubmed.pubmed_id[~df_pubmed.pubmed_id.isin(df_scopus.pubmed_id[df_scopus.pubmed_id.notnull()].values) &\n",
    "    df_pubmed.title.isin(df_scopus.title.values) &\n",
    "    df_pubmed.doi.isin(df_scopus.doi[df_scopus.doi.notnull()].values)].size"
   ]
  },
  {
   "cell_type": "code",
   "execution_count": 45,
   "metadata": {},
   "outputs": [],
   "source": [
    "# Filling the missing values of PubMed's features \"title\" and \"doi\" with data from Scopus.\n",
    "df_pubmed.loc[df_pubmed.pubmed_id.isin(df_scopus.pubmed_id.values) & df_pubmed.title.isnull(), \"title\"] = \\\n",
    "    df_pubmed.pubmed_id[df_pubmed.pubmed_id.isin(df_scopus.pubmed_id.values) & df_pubmed.title.isnull()].apply(\n",
    "        lambda x: df_scopus.title[df_scopus.pubmed_id == x].iloc[0])\n",
    "df_pubmed.loc[df_pubmed.pubmed_id.isin(df_scopus.pubmed_id.values) & df_pubmed.doi.isnull(), \"doi\"] = \\\n",
    "    df_pubmed.pubmed_id[df_pubmed.pubmed_id.isin(df_scopus.pubmed_id.values) & df_pubmed.doi.isnull()].apply(\n",
    "        lambda x: np.reshape(df_scopus.doi[df_scopus.pubmed_id == x].values, -1)[0] \\\n",
    "            if df_scopus.doi[df_scopus.pubmed_id == x].size > 0 else None)\n",
    "df_pubmed.loc[df_pubmed.doi[df_pubmed.doi.notnull()].isin(df_scopus.doi[df_scopus.doi.notnull()].values) &\n",
    "    df_pubmed.title.isnull(), \"title\"] = df_pubmed.doi[df_pubmed.doi[df_pubmed.doi.notnull()].isin(\n",
    "        df_scopus.doi[df_scopus.doi.notnull()].values) & df_pubmed.title.isnull()].apply(\n",
    "            lambda x: df_scopus.title[df_scopus.doi == x].item())"
   ]
  },
  {
   "cell_type": "code",
   "execution_count": 46,
   "metadata": {},
   "outputs": [],
   "source": [
    "# Filling the missing values of PubMed's features \"title\", \"abstract\", \"subject_areas\" and \"doi\" with data from bioRxiv.\n",
    "df_pubmed.loc[df_pubmed.doi.isin(df_biorxiv.doi.values) & df_pubmed.title.isnull(), \"title\"] = \\\n",
    "    df_pubmed.doi[df_pubmed.doi.isin(df_biorxiv.doi.values) & df_pubmed.title.isnull()].apply(\n",
    "        lambda x: df_biorxiv.title[df_biorxiv.doi == x].item())\n",
    "df_pubmed.loc[df_pubmed.title.isin(df_biorxiv.title.values) & df_pubmed.doi.isnull(), \"doi\"] = \\\n",
    "    df_pubmed.loc[df_pubmed.title.isin(df_biorxiv.title.values) & df_pubmed.doi.isnull(), [\"doi\", \"title\"]].apply(\n",
    "        lambda x: df_biorxiv.doi[df_biorxiv.title == x.title].item() if not x.doi else x.doi, axis=1)\n",
    "df_pubmed.loc[df_pubmed.doi.isin(df_biorxiv.doi.values) & df_pubmed.abstract.isnull(), \"abstract\"] = \\\n",
    "    df_pubmed.doi[df_pubmed.doi.isin(df_biorxiv.doi.values) & df_pubmed.abstract.isnull()].apply(\n",
    "        lambda x: df_biorxiv.abstract[df_biorxiv.doi == x].item())\n",
    "df_pubmed.loc[df_pubmed.doi.isin(df_biorxiv.doi.values), \"subject_areas\"] = df_pubmed.doi[\n",
    "    df_pubmed.doi.isin(df_biorxiv.doi.values)].apply(lambda x: df_biorxiv.subject_areas[\n",
    "        df_biorxiv.doi == x].item())"
   ]
  },
  {
   "cell_type": "code",
   "execution_count": 47,
   "metadata": {},
   "outputs": [],
   "source": [
    "# Filling the missing values of PubMed's features \"abstract\" and \"subject_areas\" with data from arXiv.\n",
    "df_pubmed.loc[df_pubmed.title.isin(df_arxiv.title.values) & df_pubmed.abstract.isnull(), \"abstract\"] = \\\n",
    "    df_pubmed.title[df_pubmed.title.isin(df_arxiv.title.values) & df_pubmed.abstract.isnull()].apply(\n",
    "        lambda x: df_arxiv.abstract[df_arxiv.title == x].item())\n",
    "df_pubmed.loc[df_pubmed.title.isin(df_arxiv.title.values), \"subject_areas\"] = df_pubmed.title[\n",
    "    df_pubmed.title.isin(df_arxiv.title.values)].apply(\n",
    "        lambda x: df_arxiv.subject_areas[df_arxiv.title == x].item())"
   ]
  },
  {
   "cell_type": "code",
   "execution_count": 48,
   "metadata": {},
   "outputs": [],
   "source": [
    "# Filling the missing values of Scopus' features \"abstract\" and \"subject_areas\" with data from arXiv.\n",
    "df_scopus.loc[df_scopus.title.isin(df_arxiv.title.values) & df_scopus.abstract.isnull(), \"abstract\"] = \\\n",
    "    df_scopus.title[df_scopus.title.isin(df_arxiv.title.values) & df_scopus.abstract.isnull()].apply(\n",
    "        lambda x: df_arxiv.abstract[df_arxiv.title == x].item())\n",
    "df_scopus.loc[df_scopus.title.isin(df_arxiv.title.values) & df_scopus.subject_areas.isnull(),\n",
    "    \"subject_areas\"] = df_scopus.title[df_scopus.title.isin(df_arxiv.title.values) &\n",
    "        df_scopus.subject_areas.isnull()].apply(lambda x: df_arxiv.subject_areas[df_arxiv.title == x].item())"
   ]
  },
  {
   "cell_type": "code",
   "execution_count": 49,
   "metadata": {},
   "outputs": [],
   "source": [
    "# Filling the missing values of Scopus' features \"doi\" and \"pubmed_id\" with data from PubMed.\n",
    "df_scopus.loc[df_scopus.pubmed_id.isin(df_pubmed.pubmed_id.values) & df_scopus.doi.isnull(), \"doi\"] = \\\n",
    "    df_scopus.loc[df_scopus.pubmed_id.isin(df_pubmed.pubmed_id.values) & df_scopus.doi.isnull(),\n",
    "        [\"doi\", \"pubmed_id\"]].apply(lambda x: df_pubmed.doi[df_pubmed.pubmed_id == x.pubmed_id].item() \\\n",
    "            if not x.doi else x.doi, axis=1)\n",
    "df_scopus.loc[df_scopus.title.isin(df_pubmed.title[df_pubmed.title.notnull()].values)\n",
    "    & df_scopus.pubmed_id.isnull() & df_scopus.doi[\n",
    "        df_scopus.doi.notnull()].isin(df_pubmed.doi[df_pubmed.doi.notnull()].values), \"pubmed_id\"] = \\\n",
    "df_scopus.loc[df_scopus.title.isin(df_pubmed.title[df_pubmed.title.notnull()].values)\n",
    "    & df_scopus.pubmed_id.isnull() & df_scopus.doi[\n",
    "        df_scopus.doi.notnull()].isin(df_pubmed.doi[df_pubmed.doi.notnull()].values),\n",
    "    [\"pubmed_id\", \"title\", \"doi\"]].apply(lambda x: x.pubmed_id if x.pubmed_id else np.reshape(\n",
    "        df_pubmed.pubmed_id[(df_pubmed.title == x.title) & (df_pubmed.doi == x.doi)].values, -1)[0] \\\n",
    "            if df_pubmed.pubmed_id[(df_pubmed.title == x.title) & (df_pubmed.doi == x.doi)].size > 0 \\\n",
    "                else None, axis=1)"
   ]
  },
  {
   "cell_type": "code",
   "execution_count": 50,
   "metadata": {},
   "outputs": [],
   "source": [
    "# Filling the missing values of Scopus' feature \"abstract\" with data from PubMed.\n",
    "df_scopus.loc[df_scopus.pubmed_id.isin(df_pubmed.pubmed_id.values) & df_scopus.abstract.isnull(), \"abstract\"] = \\\n",
    "    df_scopus.loc[df_scopus.pubmed_id.isin(df_pubmed.pubmed_id.values) & df_scopus.abstract.isnull(),\n",
    "        [\"abstract\", \"pubmed_id\"]].apply(lambda x: df_pubmed.abstract[\n",
    "            df_pubmed.pubmed_id == x.pubmed_id].item() if not x.abstract else x.abstract, axis=1)\n",
    "df_scopus.loc[~df_scopus.pubmed_id.isin(df_pubmed.pubmed_id.values) &\n",
    "    df_scopus.title.isin(df_pubmed.title[df_pubmed.title.notnull()].values) & df_scopus.abstract.isnull() &\n",
    "    df_scopus.doi[df_scopus.doi.notnull()].isin(df_pubmed.doi[df_pubmed.doi.notnull()].values), \"abstract\"] = \\\n",
    "df_scopus.loc[~df_scopus.pubmed_id.isin(df_pubmed.pubmed_id.values) &\n",
    "    df_scopus.title.isin(df_pubmed.title[df_pubmed.title.notnull()].values) & df_scopus.abstract.isnull() &\n",
    "    df_scopus.doi[df_scopus.doi.notnull()].isin(df_pubmed.doi[df_pubmed.doi.notnull()].values),\n",
    "    [\"abstract\", \"title\", \"doi\"]].apply(lambda x: x.abstract if not x.abstract else np.reshape(\n",
    "        df_pubmed.abstract[(df_pubmed.title == x.title) & (df_pubmed.doi == x.doi)].values, -1)[0] \\\n",
    "            if df_pubmed.abstract[(df_pubmed.title == x.title) & (df_pubmed.doi == x.doi)].size > 0 \\\n",
    "                else None, axis=1)"
   ]
  },
  {
   "cell_type": "code",
   "execution_count": 51,
   "metadata": {},
   "outputs": [],
   "source": [
    "# Filling the missing values of Scopus' feature \"auth_keywords\" with data from PubMed.\n",
    "df_scopus.loc[df_scopus.pubmed_id.isin(df_pubmed.pubmed_id.values) & df_scopus.auth_keywords.isnull(),\n",
    "    \"auth_keywords\"] = df_scopus.loc[df_scopus.pubmed_id.isin(df_pubmed.pubmed_id.values) &\n",
    "        df_scopus.auth_keywords.isnull(), [\"auth_keywords\", \"pubmed_id\"]].apply(\n",
    "            lambda x: df_pubmed.auth_keywords[df_pubmed.pubmed_id == x.pubmed_id].item() \\\n",
    "                if not x.auth_keywords else x.auth_keywords, axis=1)\n",
    "df_scopus.loc[~df_scopus.pubmed_id.isin(df_pubmed.pubmed_id.values) &\n",
    "    df_scopus.title.isin(df_pubmed.title[df_pubmed.title.notnull()].values) & df_scopus.auth_keywords.isnull() &\n",
    "    df_scopus.doi[df_scopus.doi.notnull()].isin(df_pubmed.doi[df_pubmed.doi.notnull()].values), \"auth_keywords\"] = \\\n",
    "df_scopus.loc[~df_scopus.pubmed_id.isin(df_pubmed.pubmed_id.values) &\n",
    "    df_scopus.title.isin(df_pubmed.title[df_pubmed.title.notnull()].values) & df_scopus.auth_keywords.isnull() &\n",
    "    df_scopus.doi[df_scopus.doi.notnull()].isin(df_pubmed.doi[df_pubmed.doi.notnull()].values),\n",
    "    [\"auth_keywords\", \"title\", \"doi\"]].apply(lambda x: x.auth_keywords if x.auth_keywords else np.reshape(\n",
    "        df_pubmed.auth_keywords[(df_pubmed.title == x.title) & (df_pubmed.doi == x.doi)].values, -1)[0] \\\n",
    "            if df_pubmed.auth_keywords[(df_pubmed.title == x.title) & (df_pubmed.doi == x.doi)].size > 0 \\\n",
    "                else None, axis=1)"
   ]
  },
  {
   "cell_type": "code",
   "execution_count": 52,
   "metadata": {},
   "outputs": [],
   "source": [
    "# Filling the missing values of Scopus' features \"author_affil\" and \"subject_areas\" with data from PubMed.\n",
    "df_scopus.loc[df_scopus.pubmed_id.isin(df_pubmed.pubmed_id.values) & df_scopus.author_affil.isnull(),\n",
    "    \"author_affil\"] = df_scopus.loc[df_scopus.pubmed_id.isin(df_pubmed.pubmed_id.values) &\n",
    "        df_scopus.author_affil.isnull(), [\"author_affil\", \"pubmed_id\"]].apply(\n",
    "            lambda x: df_pubmed.author_affil[df_pubmed.pubmed_id == x.pubmed_id].item() \\\n",
    "                if not x.author_affil else x.author_affil, axis=1)\n",
    "df_scopus.loc[df_scopus.pubmed_id.isin(df_pubmed.pubmed_id.values) & df_scopus.subject_areas.isnull(),\n",
    "    \"subject_areas\"] = df_scopus.loc[df_scopus.pubmed_id.isin(df_pubmed.pubmed_id.values) &\n",
    "        df_scopus.subject_areas.isnull(), [\"subject_areas\", \"pubmed_id\"]].apply(\n",
    "            lambda x: df_pubmed.subject_areas[df_pubmed.pubmed_id == x.pubmed_id].item() \\\n",
    "                if not x.subject_areas else x.subject_areas, axis=1)"
   ]
  },
  {
   "cell_type": "code",
   "execution_count": 53,
   "metadata": {},
   "outputs": [],
   "source": [
    "# Removing the duplicated records between arXiv and bioRxiv.\n",
    "df_arxiv = df_arxiv[~df_arxiv.title.isin(df_biorxiv.title.values)]"
   ]
  },
  {
   "cell_type": "code",
   "execution_count": 54,
   "metadata": {},
   "outputs": [],
   "source": [
    "# Removing the duplicated records between arXiv and PubMed.\n",
    "df_arxiv = df_arxiv[~df_arxiv.title.isin(df_pubmed.title[df_pubmed.title.notnull()].values)]"
   ]
  },
  {
   "cell_type": "code",
   "execution_count": 55,
   "metadata": {},
   "outputs": [],
   "source": [
    "# Removing the duplicated records between arXiv and Scopus.\n",
    "df_arxiv = df_arxiv[~df_arxiv.title.isin(df_scopus.title.values)]"
   ]
  },
  {
   "cell_type": "code",
   "execution_count": 56,
   "metadata": {},
   "outputs": [],
   "source": [
    "# Removing the duplicated records between bioRxiv and PubMed.\n",
    "df_biorxiv = df_biorxiv[~(df_biorxiv.title.isin(df_pubmed.title[df_pubmed.title.notnull()].values) &\n",
    "    df_biorxiv.doi.isin(df_pubmed.doi[df_pubmed.doi.notnull()].values))]"
   ]
  },
  {
   "cell_type": "code",
   "execution_count": 57,
   "metadata": {},
   "outputs": [],
   "source": [
    "# Removing the duplicated records between bioRxiv and Scopus.\n",
    "df_biorxiv = df_biorxiv[~(df_biorxiv.title.isin(df_scopus.title.values) &\n",
    "    df_biorxiv.doi.isin(df_scopus.doi[df_scopus.doi.notnull()].values))]"
   ]
  },
  {
   "cell_type": "code",
   "execution_count": 58,
   "metadata": {},
   "outputs": [],
   "source": [
    "# Removing the duplicated records between PubMed and Scopus.\n",
    "idx_removed = df_pubmed.pubmed_id[df_pubmed.pubmed_id.isin(df_scopus.pubmed_id[\n",
    "    df_scopus.pubmed_id.notnull()].values)].index.to_list()\n",
    "idx_removed += df_pubmed.pubmed_id[~df_pubmed.pubmed_id.isin(df_scopus.pubmed_id[\n",
    "        df_scopus.pubmed_id.notnull()].values) &\n",
    "    df_pubmed.title.isin(df_scopus.title.values) &\n",
    "    df_pubmed.doi.isin(df_scopus.doi[df_scopus.doi.notnull()].values)].index.to_list()\n",
    "df_pubmed = df_pubmed[~df_pubmed.index.isin(list(set(idx_removed)))]"
   ]
  },
  {
   "cell_type": "code",
   "execution_count": 59,
   "metadata": {
    "tags": []
   },
   "outputs": [
    {
     "name": "stdout",
     "output_type": "stream",
     "text": [
      "arXiv: 2972\n",
      "bioRxiv: 12389\n",
      "PubMed: 40512\n",
      "Scopus: 84526\n",
      "Expected total number of records for the final dataset: 140399\n"
     ]
    }
   ],
   "source": [
    "# Visualizing the final number of records for each dataset.\n",
    "print(\"arXiv:\", df_arxiv.id.size)\n",
    "print(\"bioRxiv:\", df_biorxiv.id.size)\n",
    "print(\"PubMed:\", df_pubmed.pubmed_id.size)\n",
    "print(\"Scopus:\", df_scopus.id.size)\n",
    "print(\"Expected total number of records for the final dataset:\",\n",
    "      (df_arxiv.id.size + df_biorxiv.id.size + df_pubmed.pubmed_id.size + df_scopus.id.size))"
   ]
  },
  {
   "cell_type": "code",
   "execution_count": 60,
   "metadata": {
    "tags": []
   },
   "outputs": [],
   "source": [
    "# Merging/Joining the datasets.\n",
    "df_final = pd.concat([df_arxiv, df_biorxiv, df_pubmed, df_scopus], ignore_index=True)"
   ]
  },
  {
   "cell_type": "code",
   "execution_count": 61,
   "metadata": {},
   "outputs": [],
   "source": [
    "# Defining the \"None\" value for the \"NaN\" values.\n",
    "df_final.replace({np.nan: None}, inplace=True)"
   ]
  },
  {
   "cell_type": "code",
   "execution_count": 62,
   "metadata": {},
   "outputs": [],
   "source": [
    "# Renaming the feature \"source\".\n",
    "df_final.rename(columns={\"source\": \"data_source\"}, inplace=True)"
   ]
  },
  {
   "cell_type": "code",
   "execution_count": 63,
   "metadata": {},
   "outputs": [
    {
     "data": {
      "text/html": "<div>\n<style scoped>\n    .dataframe tbody tr th:only-of-type {\n        vertical-align: middle;\n    }\n\n    .dataframe tbody tr th {\n        vertical-align: top;\n    }\n\n    .dataframe thead th {\n        text-align: right;\n    }\n</style>\n<table border=\"1\" class=\"dataframe\">\n  <thead>\n    <tr style=\"text-align: right;\">\n      <th></th>\n      <th>id</th>\n      <th>subject_areas</th>\n      <th>title</th>\n      <th>authors</th>\n      <th>abstract</th>\n      <th>publication_date</th>\n      <th>data_source</th>\n      <th>doi</th>\n      <th>author_affil</th>\n      <th>pubmed_id</th>\n      <th>...</th>\n      <th>language</th>\n      <th>production_type</th>\n      <th>source_type</th>\n      <th>index_terms</th>\n      <th>issn</th>\n      <th>publisher</th>\n      <th>affiliations</th>\n      <th>ref_count</th>\n      <th>references</th>\n      <th>period</th>\n    </tr>\n  </thead>\n  <tbody>\n    <tr>\n      <th>0</th>\n      <td>2103.03219</td>\n      <td>(General Finance,)</td>\n      <td>the impact of covid-19 on stock market volatil...</td>\n      <td>({'id': '-8736464535247814394', 'name': 'Ateeb...</td>\n      <td>This paper examines the impact of coronavirus ...</td>\n      <td>2021-02-11</td>\n      <td>arXiv</td>\n      <td>None</td>\n      <td>None</td>\n      <td>None</td>\n      <td>...</td>\n      <td>None</td>\n      <td>None</td>\n      <td>None</td>\n      <td>None</td>\n      <td>None</td>\n      <td>None</td>\n      <td>None</td>\n      <td>None</td>\n      <td>None</td>\n      <td>None</td>\n    </tr>\n    <tr>\n      <th>1</th>\n      <td>2103.03055</td>\n      <td>(Image and Video Processing, Computer Vision a...</td>\n      <td>self-supervised deep convolutional neural netw...</td>\n      <td>({'id': '1387464675565637337', 'name': 'Matej ...</td>\n      <td>Chest radiography is a relatively cheap, widel...</td>\n      <td>2021-03-04</td>\n      <td>arXiv</td>\n      <td>None</td>\n      <td>None</td>\n      <td>None</td>\n      <td>...</td>\n      <td>None</td>\n      <td>None</td>\n      <td>None</td>\n      <td>None</td>\n      <td>None</td>\n      <td>None</td>\n      <td>None</td>\n      <td>None</td>\n      <td>None</td>\n      <td>None</td>\n    </tr>\n    <tr>\n      <th>2</th>\n      <td>2103.03038</td>\n      <td>(Computer Vision and Pattern Recognition,)</td>\n      <td>mobile touchless fingerprint recognition: impl...</td>\n      <td>({'id': '1917885517247673923', 'name': 'Jannis...</td>\n      <td>This work presents an automated touchless fing...</td>\n      <td>2021-03-04</td>\n      <td>arXiv</td>\n      <td>None</td>\n      <td>None</td>\n      <td>None</td>\n      <td>...</td>\n      <td>None</td>\n      <td>None</td>\n      <td>None</td>\n      <td>None</td>\n      <td>None</td>\n      <td>None</td>\n      <td>None</td>\n      <td>None</td>\n      <td>None</td>\n      <td>None</td>\n    </tr>\n    <tr>\n      <th>3</th>\n      <td>2103.02961</td>\n      <td>(Image and Video Processing, Computer Vision a...</td>\n      <td>probabilistic combination of eigenlungs-based ...</td>\n      <td>({'id': '-3330601887987387557', 'name': 'Juan ...</td>\n      <td>The outbreak of the COVID-19 (Coronavirus dise...</td>\n      <td>2021-03-04</td>\n      <td>arXiv</td>\n      <td>None</td>\n      <td>None</td>\n      <td>None</td>\n      <td>...</td>\n      <td>None</td>\n      <td>None</td>\n      <td>None</td>\n      <td>None</td>\n      <td>None</td>\n      <td>None</td>\n      <td>None</td>\n      <td>None</td>\n      <td>None</td>\n      <td>None</td>\n    </tr>\n    <tr>\n      <th>4</th>\n      <td>2103.02917</td>\n      <td>(Computers and Society, Computation and Language)</td>\n      <td>mp twitter engagement and abuse post-first cov...</td>\n      <td>({'id': '-6377212943789062063', 'name': 'Traci...</td>\n      <td>The UK has had a volatile political environmen...</td>\n      <td>2021-03-04</td>\n      <td>arXiv</td>\n      <td>None</td>\n      <td>None</td>\n      <td>None</td>\n      <td>...</td>\n      <td>None</td>\n      <td>None</td>\n      <td>None</td>\n      <td>None</td>\n      <td>None</td>\n      <td>None</td>\n      <td>None</td>\n      <td>None</td>\n      <td>None</td>\n      <td>None</td>\n    </tr>\n  </tbody>\n</table>\n<p>5 rows × 23 columns</p>\n</div>",
      "text/plain": "           id                                      subject_areas  \\\n0  2103.03219                                 (General Finance,)   \n1  2103.03055  (Image and Video Processing, Computer Vision a...   \n2  2103.03038         (Computer Vision and Pattern Recognition,)   \n3  2103.02961  (Image and Video Processing, Computer Vision a...   \n4  2103.02917  (Computers and Society, Computation and Language)   \n\n                                               title  \\\n0  the impact of covid-19 on stock market volatil...   \n1  self-supervised deep convolutional neural netw...   \n2  mobile touchless fingerprint recognition: impl...   \n3  probabilistic combination of eigenlungs-based ...   \n4  mp twitter engagement and abuse post-first cov...   \n\n                                             authors  \\\n0  ({'id': '-8736464535247814394', 'name': 'Ateeb...   \n1  ({'id': '1387464675565637337', 'name': 'Matej ...   \n2  ({'id': '1917885517247673923', 'name': 'Jannis...   \n3  ({'id': '-3330601887987387557', 'name': 'Juan ...   \n4  ({'id': '-6377212943789062063', 'name': 'Traci...   \n\n                                            abstract publication_date  \\\n0  This paper examines the impact of coronavirus ...       2021-02-11   \n1  Chest radiography is a relatively cheap, widel...       2021-03-04   \n2  This work presents an automated touchless fing...       2021-03-04   \n3  The outbreak of the COVID-19 (Coronavirus dise...       2021-03-04   \n4  The UK has had a volatile political environmen...       2021-03-04   \n\n  data_source   doi author_affil pubmed_id  ... language production_type  \\\n0       arXiv  None         None      None  ...     None            None   \n1       arXiv  None         None      None  ...     None            None   \n2       arXiv  None         None      None  ...     None            None   \n3       arXiv  None         None      None  ...     None            None   \n4       arXiv  None         None      None  ...     None            None   \n\n  source_type index_terms  issn publisher affiliations ref_count references  \\\n0        None        None  None      None         None      None       None   \n1        None        None  None      None         None      None       None   \n2        None        None  None      None         None      None       None   \n3        None        None  None      None         None      None       None   \n4        None        None  None      None         None      None       None   \n\n  period  \n0   None  \n1   None  \n2   None  \n3   None  \n4   None  \n\n[5 rows x 23 columns]"
     },
     "execution_count": 63,
     "metadata": {},
     "output_type": "execute_result"
    }
   ],
   "source": [
    "# Checking the dataframe.\n",
    "df_final.head()"
   ]
  },
  {
   "cell_type": "code",
   "execution_count": 64,
   "metadata": {
    "tags": []
   },
   "outputs": [
    {
     "name": "stdout",
     "output_type": "stream",
     "text": [
      "<class 'pandas.core.frame.DataFrame'>\n",
      "RangeIndex: 140399 entries, 0 to 140398\n",
      "Data columns (total 23 columns):\n",
      " #   Column            Non-Null Count   Dtype         \n",
      "---  ------            --------------   -----         \n",
      " 0   id                99887 non-null   object        \n",
      " 1   subject_areas     101557 non-null  object        \n",
      " 2   title             140317 non-null  object        \n",
      " 3   authors           86143 non-null   object        \n",
      " 4   abstract          97706 non-null   object        \n",
      " 5   publication_date  140399 non-null  datetime64[ns]\n",
      " 6   data_source       140399 non-null  object        \n",
      " 7   doi               133707 non-null  object        \n",
      " 8   author_affil      135778 non-null  object        \n",
      " 9   pubmed_id         109227 non-null  object        \n",
      " 10  auth_keywords     71295 non-null   object        \n",
      " 11  vehicle_name      124965 non-null  object        \n",
      " 12  citation_num      84526 non-null   object        \n",
      " 13  language          84077 non-null   object        \n",
      " 14  production_type   84526 non-null   object        \n",
      " 15  source_type       84526 non-null   object        \n",
      " 16  index_terms       50712 non-null   object        \n",
      " 17  issn              82964 non-null   object        \n",
      " 18  publisher         84522 non-null   object        \n",
      " 19  affiliations      78409 non-null   object        \n",
      " 20  ref_count         84526 non-null   object        \n",
      " 21  references        73509 non-null   object        \n",
      " 22  period            84526 non-null   object        \n",
      "dtypes: datetime64[ns](1), object(22)\n",
      "memory usage: 24.6+ MB\n"
     ]
    }
   ],
   "source": [
    "# Visualizing the information of dataset.\n",
    "df_final.info()"
   ]
  },
  {
   "cell_type": "code",
   "execution_count": 65,
   "metadata": {},
   "outputs": [],
   "source": [
    "# Exporting the final dataset to CSV file.\n",
    "df_final.to_csv(\"../../data/raw/final_raw.csv\", index=False, quoting=csv.QUOTE_ALL)"
   ]
  }
 ],
 "metadata": {
  "kernelspec": {
   "display_name": "Python 3.8.5 64-bit ('estudos': conda)",
   "name": "python385jvsc74a57bd02e6a5491ea87a08a1cf17cf8bb76c9efa2b82a90397760dc18398c5d7702d505"
  },
  "language_info": {
   "codemirror_mode": {
    "name": "ipython",
    "version": 3
   },
   "file_extension": ".py",
   "mimetype": "text/x-python",
   "name": "python",
   "nbconvert_exporter": "python",
   "pygments_lexer": "ipython3",
   "version": "3.8.5"
  }
 },
 "nbformat": 4,
 "nbformat_minor": 2
}